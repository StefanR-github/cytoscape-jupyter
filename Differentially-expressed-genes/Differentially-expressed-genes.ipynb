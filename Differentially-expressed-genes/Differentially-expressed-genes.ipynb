{
  "nbformat": 4,
  "nbformat_minor": 0,
  "metadata": {
    "colab": {
      "name": "Differentially-expressed-genes.ipynb",
      "provenance": [],
      "collapsed_sections": []
    },
    "kernelspec": {
      "name": "python3",
      "display_name": "Python 3"
    }
  },
  "cells": [
    {
      "cell_type": "markdown",
      "metadata": {
        "id": "EynlCq2w336-"
      },
      "source": [
        "---\n",
        "#Setup data files, py4cytoscape and Cytoscape connection\n",
        "---\n",
        "**NOTE: To run this notebook, you must manually start Cytoscape first -- don't proceed until you have started Cytoscape.**"
      ]
    },
    {
      "cell_type": "markdown",
      "metadata": {
        "id": "VvaiYm7HwcsN"
      },
      "source": [
        "---\n",
        "##Setup: Import source data files"
      ]
    },
    {
      "cell_type": "code",
      "metadata": {
        "id": "JmmSjrblGhpz",
        "colab": {
          "base_uri": "https://localhost:8080/"
        },
        "outputId": "cc5c7222-d1b3-4a94-9b99-5618edd70d0d"
      },
      "source": [
        "!mkdir output\n",
        "!rm output/*\n",
        "!ls -l\n",
        "OUTPUT_DIR='output/'"
      ],
      "execution_count": 1,
      "outputs": [
        {
          "output_type": "stream",
          "text": [
            "rm: cannot remove 'output/*': No such file or directory\n",
            "total 8\n",
            "drwxr-xr-x 2 root root 4096 Nov 24 00:36 output\n",
            "drwxr-xr-x 1 root root 4096 Nov 13 17:33 sample_data\n"
          ],
          "name": "stdout"
        }
      ]
    },
    {
      "cell_type": "markdown",
      "metadata": {
        "id": "wJ9RYWAF4wF6"
      },
      "source": [
        "---\n",
        "##Setup: Fetch latest py4cytoscape\n",
        "\n",
        "\n"
      ]
    },
    {
      "cell_type": "markdown",
      "metadata": {
        "id": "9RVNEFryzJR3"
      },
      "source": [
        "**Note that you can fetch from a specific github branch by adding \"@<branch>\" to the \"py4cytocape\" at the end of the github URL.**\n",
        "\n",
        "For example, to get branch 0.0.5: git+https://github.com/cytoscape/py4cytoscape@0.0.5"
      ]
    },
    {
      "cell_type": "code",
      "metadata": {
        "id": "pW3Jhe2PMD9z",
        "colab": {
          "base_uri": "https://localhost:8080/"
        },
        "outputId": "d433e8a1-191e-46b5-c990-20bb7ce13b1f"
      },
      "source": [
        "!pip uninstall -y py4cytoscape\n",
        "\n",
        "#pip install py4cytoscape\n",
        "#!pip install git+https://github.com/cytoscape/py4cytoscape@0.0.5\n",
        "!pip install git+https://github.com/cytoscape/py4cytoscape"
      ],
      "execution_count": 2,
      "outputs": [
        {
          "output_type": "stream",
          "text": [
            "\u001b[33mWARNING: Skipping py4cytoscape as it is not installed.\u001b[0m\n",
            "Collecting git+https://github.com/cytoscape/py4cytoscape\n",
            "  Cloning https://github.com/cytoscape/py4cytoscape to /tmp/pip-req-build-7judj5mg\n",
            "  Running command git clone -q https://github.com/cytoscape/py4cytoscape /tmp/pip-req-build-7judj5mg\n",
            "Requirement already satisfied: pandas in /usr/local/lib/python3.6/dist-packages (from py4cytoscape==0.0.6) (1.1.4)\n",
            "Requirement already satisfied: networkx in /usr/local/lib/python3.6/dist-packages (from py4cytoscape==0.0.6) (2.5)\n",
            "Requirement already satisfied: requests in /usr/local/lib/python3.6/dist-packages (from py4cytoscape==0.0.6) (2.23.0)\n",
            "Collecting python-igraph\n",
            "\u001b[?25l  Downloading https://files.pythonhosted.org/packages/20/6e/3ac2fc339051f652d4a01570d133e4d15321aaec929ffb5f49a67852f8d9/python_igraph-0.8.3-cp36-cp36m-manylinux2010_x86_64.whl (3.2MB)\n",
            "\u001b[K     |████████████████████████████████| 3.2MB 12.6MB/s \n",
            "\u001b[?25hRequirement already satisfied: numpy>=1.15.4 in /usr/local/lib/python3.6/dist-packages (from pandas->py4cytoscape==0.0.6) (1.18.5)\n",
            "Requirement already satisfied: python-dateutil>=2.7.3 in /usr/local/lib/python3.6/dist-packages (from pandas->py4cytoscape==0.0.6) (2.8.1)\n",
            "Requirement already satisfied: pytz>=2017.2 in /usr/local/lib/python3.6/dist-packages (from pandas->py4cytoscape==0.0.6) (2018.9)\n",
            "Requirement already satisfied: decorator>=4.3.0 in /usr/local/lib/python3.6/dist-packages (from networkx->py4cytoscape==0.0.6) (4.4.2)\n",
            "Requirement already satisfied: urllib3!=1.25.0,!=1.25.1,<1.26,>=1.21.1 in /usr/local/lib/python3.6/dist-packages (from requests->py4cytoscape==0.0.6) (1.24.3)\n",
            "Requirement already satisfied: certifi>=2017.4.17 in /usr/local/lib/python3.6/dist-packages (from requests->py4cytoscape==0.0.6) (2020.11.8)\n",
            "Requirement already satisfied: idna<3,>=2.5 in /usr/local/lib/python3.6/dist-packages (from requests->py4cytoscape==0.0.6) (2.10)\n",
            "Requirement already satisfied: chardet<4,>=3.0.2 in /usr/local/lib/python3.6/dist-packages (from requests->py4cytoscape==0.0.6) (3.0.4)\n",
            "Collecting texttable>=1.6.2\n",
            "  Downloading https://files.pythonhosted.org/packages/06/f5/46201c428aebe0eecfa83df66bf3e6caa29659dbac5a56ddfd83cae0d4a4/texttable-1.6.3-py2.py3-none-any.whl\n",
            "Requirement already satisfied: six>=1.5 in /usr/local/lib/python3.6/dist-packages (from python-dateutil>=2.7.3->pandas->py4cytoscape==0.0.6) (1.15.0)\n",
            "Building wheels for collected packages: py4cytoscape\n",
            "  Building wheel for py4cytoscape (setup.py) ... \u001b[?25l\u001b[?25hdone\n",
            "  Created wheel for py4cytoscape: filename=py4cytoscape-0.0.6-cp36-none-any.whl size=138697 sha256=819bc553bb463879132f59919bc5d585b7138798472fc32938f7a083244934a2\n",
            "  Stored in directory: /tmp/pip-ephem-wheel-cache-y1r2cnwa/wheels/06/8f/c8/700e4a3952b6b9731bcd7f8f6bb6c4cf02ebf9633e4af67184\n",
            "Successfully built py4cytoscape\n",
            "Installing collected packages: texttable, python-igraph, py4cytoscape\n",
            "Successfully installed py4cytoscape-0.0.6 python-igraph-0.8.3 texttable-1.6.3\n"
          ],
          "name": "stdout"
        }
      ]
    },
    {
      "cell_type": "markdown",
      "metadata": {
        "id": "q2bNAluIV5ZN"
      },
      "source": [
        "---\n",
        "##Setup: Set up Cytoscape connection\n"
      ]
    },
    {
      "cell_type": "code",
      "metadata": {
        "id": "QPBzaizACq3g",
        "colab": {
          "base_uri": "https://localhost:8080/",
          "height": 34
        },
        "outputId": "9d62b841-5c32-43d5-fa81-b7a9932c037b"
      },
      "source": [
        "import IPython\n",
        "import py4cytoscape as p4c\n",
        "print(f'Loading Javascript client ... {p4c.get_browser_client_channel()} on {p4c.get_jupyter_bridge_url()}')\n",
        "browser_client_js = p4c.get_browser_client_js(False)\n",
        "IPython.display.Javascript(browser_client_js) # Start browser client\n"
      ],
      "execution_count": 3,
      "outputs": [
        {
          "output_type": "stream",
          "text": [
            "Loading Javascript client ... b1875f8f-5a02-4663-b553-c27da7438097 on https://jupyter-bridge.cytoscape.org\n"
          ],
          "name": "stdout"
        },
        {
          "output_type": "execute_result",
          "data": {
            "application/javascript": [
              "var Channel = \"b1875f8f-5a02-4663-b553-c27da7438097\"; \n",
              "\n",
              "var JupyterBridge = \"https://jupyter-bridge.cytoscape.org\"; \n",
              "\n",
              "  /*\n",
              "    These functions serve as a connector between a remote Jupyter server and Cytoscape.\n",
              "    They run in the user's browser, which also shows the Jupyter Notebook.\n",
              "\n",
              "    A remote Jupyter Notebook call to the py4cytoscape package is forwarded to the Jupyter Bridge,\n",
              "    which is a standalone server. The functions in this connector execute in the Jupyter Notebook\n",
              "    browser, which executes on the same PC as Cytoscape. So, that's 4 components: (A) remote\n",
              "    Jupyter Notebook, (B) separate Jupyter Bridge server, (C) this browser-based component, and\n",
              "    (D) Cytoscape. (A) is on a remote server, (B) is on a different remote server, and (C) and (D)\n",
              "    are on the user's PC.\n",
              "\n",
              "    (A) calls its py4cytoscape module, which forwards the request (in a JSON wrapper) to (B).\n",
              "    (C) picks up the request from (B), unpacks the request and forwards it to (D). (C) awaits a\n",
              "    reply from (D), and when it gets it, it forwards the reply (in a JSON wrapper) to (B).\n",
              "    (A)'s py4cytoscape module picks up the reply on (B) when it becomes available, unpacks it,\n",
              "    and returns it to (A).\n",
              "\n",
              "    A Jupyter Notebook can talk to only one Cytoscape (i.e., the one on the machine running the\n",
              "    Jupyter Notebook browser), and Cytoscape should be called by only one Jupyter Notebook. The\n",
              "    Jupyter Bridge differentiates between Notebook-Cytoscape conversations via a channel UUID.\n",
              "    The UUID is prepended to this browser component by py4Cytoscape, and the component is\n",
              "    started by the Jupyter Notebook. (I wish py4Cytoscape could start the component, too, but I\n",
              "    haven't figured out how to do that yet, so startup code *is* required in the Jupyter\n",
              "    Notebook.)\n",
              "\n",
              "    Note that for the case of a Jupyter server running on the same machine as Cytoscape, this\n",
              "    bridge isn't necessary because the Jupyter server's HTTP calls can easily connect to\n",
              "    Cytoscape over a localhost socket. So, the combination of Jupyter Bridge and this browser\n",
              "    component solves the problem of a Jupyter server (e.g., Google's Colab) that can't\n",
              "    connect to Cytoscape that sits behind a firewall.\n",
              "\n",
              "    The request represents an HTTP call that py4cytoscape would normally make via HTTP directly\n",
              "    to Cytoscape via localhost when both py4cytoscape and Cytoscape are running on the same machine.\n",
              " */\n",
              "\n",
              "const VERSION = '0.0.2'\n",
              "\n",
              "var showDebug; // Flag indicating whether to show Jupyter-bridge progress\n",
              "if (typeof showDebug === 'undefined') {\n",
              "    showDebug = false\n",
              "}\n",
              "if (showDebug) {\n",
              "    alert(\"Starting Jupyter-bridge browser component\")\n",
              "}\n",
              "\n",
              "//const JupyterBridge = 'http://127.0.0.1:5000' // for testing against local Jupyter-bridge\n",
              "var JupyterBridge; // URL of Jupyter-bridge server could be defined by assignment pre-pended to this file\n",
              "if (typeof JupyterBridge === 'undefined') {\n",
              "    JupyterBridge = 'https://jupyter-bridge.cytoscape.org' // for production\n",
              "}\n",
              "var Channel; // Unique constant that could be defined by assignment pre-pended to this file\n",
              "if (typeof Channel === 'undefined') { // ... but if not assigned, use a debugging value\n",
              "    Channel = 1\n",
              "}\n",
              "\n",
              "\n",
              "var httpR = new XMLHttpRequest(); // for sending reply to Jupyter-bridge\n",
              "var httpRE = new XMLHttpRequest(); // for sending backup error reply to Jupyter-bridge\n",
              "var httpC = new XMLHttpRequest(); // for sending command to Cytoscape\n",
              "var httpJ = new XMLHttpRequest(); // for fetching request from Jupyter-bridge\n",
              "\n",
              "const HTTP_OK = 200\n",
              "const HTTP_SYS_ERR = 500\n",
              "const HTTP_TIMEOUT = 408\n",
              "const HTTP_TOO_MANY = 429\n",
              "\n",
              "\n",
              " /* This function is useful if we want to rewrite the incoming URL to resolve just to our local one.\n",
              "    Doing this stops the Jupyter component from abusing this client to call out to endpoints other\n",
              "    than local Cytoscape. On the other hand, it makes it hard to detect when the Jupyter component\n",
              "    has specified a genuinely bad URL and really should get an error result. For now, we'll execute\n",
              "    the Jupyter-supplied URL and return the result, whatever it may be.\n",
              "\n",
              "const LocalCytoscape = 'http://127.0.0.1:1234'\n",
              "\n",
              "function parseURL(url) {\n",
              "    var reURLInformation = new RegExp([\n",
              "        '^(https?:)//', // protocol\n",
              "        '(([^:/?#]*)(?::([0-9]+))?)', // host (hostname and port)\n",
              "        '(/{0,1}[^?#]*)', // pathname\n",
              "        '(\\\\?[^#]*|)', // search\n",
              "        '(#.*|)$' // hash\n",
              "    ].join(''));\n",
              "    var match = url.match(reURLInformation);\n",
              "    return match && {\n",
              "        url: url,\n",
              "        protocol: match[1],\n",
              "        host: match[2],\n",
              "        hostname: match[3],\n",
              "        port: match[4],\n",
              "        pathname: match[5],\n",
              "        search: match[6],\n",
              "        hash: match[7]\n",
              "    }\n",
              "}\n",
              "*/\n",
              "\n",
              "function replyCytoscape(replyStatus, replyStatusText, replyText) {\n",
              "\n",
              "    // Clean up after Jupyter bridge accepts reply\n",
              "    httpR.onreadystatechange = function() {\n",
              "        if (httpR.readyState === 4) {\n",
              "            if (showDebug) {\n",
              "                console.log(' status from queue_reply: ' + httpR.status + ', reply: ' + httpR.responseText)\n",
              "            }\n",
              "        }\n",
              "    }\n",
              "\n",
              "    httpR.onerror = function() {\n",
              "        // Clean up after Jupyter bridge accepts backup reply\n",
              "        httpRE.onreadystatechange = function() {\n",
              "            if (httpRE.readyState === 4) {\n",
              "                if (showDebug) {\n",
              "                    console.log(' status from backup queue_reply: ' + httpRE.status + ', reply: ' + httpRE.responseText)\n",
              "                }\n",
              "            }\n",
              "        }\n",
              "\n",
              "        if (showDebug) {\n",
              "            console.log(' error from queue_reply -- could be Jupyter-Bridge server reject')\n",
              "        }\n",
              "        var errReply = {'status': HTTP_SYS_ERR, 'reason': 'Jupyter-Bridge rejected reply', 'text': 'Possibly reply is too long for Jupyter-Bridge server'}\n",
              "        httpRE.open('POST', jupyterBridgeURL, true)\n",
              "        httpRE.setRequestHeader('Content-Type', 'text/plain')\n",
              "        httpRE.send(JSON.stringify(errReply))\n",
              "    }\n",
              "\n",
              "    var reply = {'status': replyStatus, 'reason': replyStatusText, 'text': replyText}\n",
              "\n",
              "    // Send reply to Jupyter bridge\n",
              "    var jupyterBridgeURL = JupyterBridge + '/queue_reply?channel=' + Channel\n",
              "    if (showDebug) {\n",
              "        console.log('Starting queue to Jupyter bridge: ' + jupyterBridgeURL)\n",
              "    }\n",
              "    httpR.open('POST', jupyterBridgeURL, true)\n",
              "    httpR.setRequestHeader('Content-Type', 'text/plain')\n",
              "    httpR.send(JSON.stringify(reply))\n",
              "}\n",
              "\n",
              "function callCytoscape(callSpec) {\n",
              "\n",
              "    // Captures Cytoscape reply and sends it on\n",
              "    httpC.onreadystatechange = function() {\n",
              "        if (httpC.readyState === 4) {\n",
              "            if (showDebug) {\n",
              "                console.log(' status from CyREST: ' + httpC.status + ', statusText: ' + httpC.statusText + ', reply: ' + httpC.responseText)\n",
              "            }\n",
              "            // Note that httpC.status is 0 if the URL can't be reached *OR* there is a CORS violation.\n",
              "            // I wish I could tell the difference because for a CORS violation, I'd return a 404,\n",
              "            // which would roughly match what Python's native request package would return.\n",
              "            // The practical consequence is that the ultimate caller (e.g., py4cytoscape)\n",
              "            // returns different exceptions, depending on wither this module is doing the\n",
              "            // HTTP operation or the native Python requests package is. This is minor, but\n",
              "            // messes up tests that verify the exception type.\n",
              "            replyCytoscape(httpC.status, httpC.statusText, httpC.responseText)\n",
              "            waitOnJupyterBridge()\n",
              "        }\n",
              "    }\n",
              "\n",
              "//  Build up request to Cytoscape, making sure host is local.\n",
              "//    Too heavy handed: localURL = LocalCytoscape + parseURL(callSpec.url).pathname\n",
              "    var localURL = callSpec.url // Try using what was passed in ... is there a security risk??\n",
              "\n",
              "    if (showDebug) {\n",
              "        console.log('Command to CyREST: ' + callSpec.command + ' (' + localURL + ')')\n",
              "        if (callSpec.params) {\n",
              "            console.log(' params: ' + JSON.stringify(callSpec.params))\n",
              "        }\n",
              "        if (callSpec.headers) {\n",
              "            console.log(' header: ' + JSON.stringify(callSpec.headers))\n",
              "        }\n",
              "        if (callSpec.data) {\n",
              "            console.log('   data: ' + JSON.stringify(callSpec.data))\n",
              "        }\n",
              "    }\n",
              "\n",
              "    if (callSpec.command === 'webbrowser') {\n",
              "        if (window.open(callSpec.url)) {\n",
              "            replyCytoscape(HTTP_OK, 'OK', '')\n",
              "        } else {\n",
              "            replyCytoscape(HTTP_SYS_ERR, 'BAD BROWSER OPEN', '')\n",
              "        }\n",
              "        waitOnJupyterBridge()\n",
              "    } else if (callSpec.command === 'version') {\n",
              "        replyCytoscape(HTTP_OK, 'OK',\n",
              "            JSON.stringify({\"jupyterBridgeVersion\": VERSION}))\n",
              "        waitOnJupyterBridge()\n",
              "    } else {\n",
              "        var joiner = '?'\n",
              "        for (let param in callSpec.params) {\n",
              "            localURL = localURL + joiner + param + '=' + encodeURIComponent(callSpec.params[param])\n",
              "            joiner = '&'\n",
              "        }\n",
              "\n",
              "        httpC.open(callSpec.command, localURL, true)\n",
              "        for (let header in callSpec.headers) {\n",
              "            httpC.setRequestHeader(header, callSpec.headers[header])\n",
              "        }\n",
              "\n",
              "        // Send request to Cytoscape ... reply goes to onreadystatechange handler\n",
              "        httpC.send(JSON.stringify(callSpec.data))\n",
              "    }\n",
              "}\n",
              "\n",
              "function waitOnJupyterBridge() {\n",
              "\n",
              "    // Captures request from Jupyter bridge\n",
              "    httpJ.onreadystatechange = function() {\n",
              "        if (httpJ.readyState === 4) {\n",
              "            if (showDebug) {\n",
              "                console.log(' status from dequeue_request: ' + httpJ.status + ', reply: ' + httpJ.responseText)\n",
              "            }\n",
              "            try {\n",
              "                if (httpJ.status == HTTP_TOO_MANY) {\n",
              "                    // Nothing more to do ... the browser has created too many listeners,\n",
              "                    // and it's time to stop listening because the server saw a listener\n",
              "                    // listening on this channel before we got there.\n",
              "                    console.log('  shutting down because of redundant reader on channel: ' + Channel)\n",
              "                } else {\n",
              "                    if (httpJ.status === HTTP_TIMEOUT) {\n",
              "                        waitOnJupyterBridge()\n",
              "                    } else {\n",
              "                        callCytoscape(JSON.parse(httpJ.responseText))\n",
              "                    }\n",
              "                }\n",
              "            } catch(err) {\n",
              "                if (showDebug) {\n",
              "                    console.log(' exception calling Cytoscape: ' + err)\n",
              "                }\n",
              "                // Bad responseText means something bad happened that we don't understand.\n",
              "                // Go wait on another request, as there's nothing to call Cytoscape with.\n",
              "                waitOnJupyterBridge()\n",
              "            }\n",
              "        }\n",
              "    }\n",
              "\n",
              "    // Wait for request from Jupyter bridge\n",
              "    var jupyterBridgeURL = JupyterBridge + '/dequeue_request?channel=' + Channel\n",
              "    if (showDebug) {\n",
              "        console.log('Starting dequeue on Jupyter bridge: ' + jupyterBridgeURL)\n",
              "    }\n",
              "    httpJ.open('GET', jupyterBridgeURL, true)\n",
              "    httpJ.send()\n",
              "}\n",
              "\n",
              "// This kicks off a loop that ends by calling waitOnJupyterBridge again. This first call\n",
              "// ejects any dead readers before we start a read\n",
              "waitOnJupyterBridge() // Wait for message from Jupyter bridge, execute it, and return reply\n",
              "\n",
              "if (showDebug) {\n",
              "    alert(\"Jupyter-bridge browser component is started on \" + JupyterBridge + ', channel ' + Channel)\n",
              "}\n"
            ],
            "text/plain": [
              "<IPython.core.display.Javascript object>"
            ]
          },
          "metadata": {
            "tags": []
          },
          "execution_count": 3
        }
      ]
    },
    {
      "cell_type": "markdown",
      "metadata": {
        "id": "sTJwg_HN3WPH"
      },
      "source": [
        "---\n",
        "#Fill in Section Title Here\n"
      ]
    },
    {
      "cell_type": "markdown",
      "metadata": {
        "id": "m5Uv0pTHWmvE"
      },
      "source": [
        "---\n",
        "##Sanity test: Cytoscape version\n"
      ]
    },
    {
      "cell_type": "code",
      "metadata": {
        "id": "sP5J_ey7C_t6",
        "colab": {
          "base_uri": "https://localhost:8080/"
        },
        "outputId": "3fb7d593-91c5-452d-8149-0076b90cf9a9"
      },
      "source": [
        "p4c.cytoscape_ping()\n",
        "print(p4c.cytoscape_version_info())\n"
      ],
      "execution_count": 4,
      "outputs": [
        {
          "output_type": "stream",
          "text": [
            "You are connected to Cytoscape!\n",
            "{'apiVersion': 'v1', 'cytoscapeVersion': '3.8.2', 'automationAPIVersion': '1.0.0', 'py4cytoscapeVersion': '0.0.6', 'jupyterBridgeVersion': '0.0.2'}\n"
          ],
          "name": "stdout"
        }
      ]
    },
    {
      "cell_type": "markdown",
      "metadata": {
        "id": "MgvPeSXc3iUa"
      },
      "source": [
        "---\n",
        "## Sanity test: Cytoscape's sandbox path"
      ]
    },
    {
      "cell_type": "markdown",
      "metadata": {
        "id": "RlKSyX07FVL-"
      },
      "source": [
        "**Sandboxing is explained in https://py4cytoscape.readthedocs.io/en/latest/concepts.html#sandboxing**"
      ]
    },
    {
      "cell_type": "code",
      "metadata": {
        "id": "9MecXzJuDIwa",
        "colab": {
          "base_uri": "https://localhost:8080/"
        },
        "outputId": "216527fb-12a9-4340-9914-709cd8a15688"
      },
      "source": [
        "p4c.sandbox_get_file_info('.')"
      ],
      "execution_count": 5,
      "outputs": [
        {
          "output_type": "execute_result",
          "data": {
            "text/plain": [
              "{'filePath': 'C:\\\\Users\\\\CyDeveloper\\\\CytoscapeConfiguration\\\\filetransfer\\\\default_sandbox',\n",
              " 'isFile': False,\n",
              " 'modifiedTime': '2020-11-23 16:37:06.0919'}"
            ]
          },
          "metadata": {
            "tags": []
          },
          "execution_count": 5
        }
      ]
    },
    {
      "cell_type": "markdown",
      "metadata": {
        "id": "lzAhjmxU1-xd"
      },
      "source": [
        "---\n",
        "#Fill in section title here"
      ]
    },
    {
      "cell_type": "code",
      "metadata": {
        "id": "fPHhGykDpPhu",
        "colab": {
          "base_uri": "https://localhost:8080/"
        },
        "outputId": "92629d10-63e8-4e27-c7d5-649897a35f95"
      },
      "source": [
        "p4c.install_app('stringApp')"
      ],
      "execution_count": 6,
      "outputs": [
        {
          "output_type": "stream",
          "text": [
            "{}\n"
          ],
          "name": "stdout"
        },
        {
          "output_type": "execute_result",
          "data": {
            "text/plain": [
              "{}"
            ]
          },
          "metadata": {
            "tags": []
          },
          "execution_count": 6
        }
      ]
    },
    {
      "cell_type": "code",
      "metadata": {
        "id": "0_o0dkFRpc9Z",
        "colab": {
          "base_uri": "https://localhost:8080/",
          "height": 419
        },
        "outputId": "7fd2b75b-12c1-412c-f8ed-90453dda4fb8"
      },
      "source": [
        "import pandas as df\n",
        "de_genes_up = df.read_csv('https://raw.githubusercontent.com/cytoscape/cytoscape-tutorials/gh-pages/protocols/data/TCGA-Ovarian-MesenvsImmuno-data-up.csv', sep='\\t')\n",
        "de_genes_up"
      ],
      "execution_count": 7,
      "outputs": [
        {
          "output_type": "execute_result",
          "data": {
            "text/html": [
              "<div>\n",
              "<style scoped>\n",
              "    .dataframe tbody tr th:only-of-type {\n",
              "        vertical-align: middle;\n",
              "    }\n",
              "\n",
              "    .dataframe tbody tr th {\n",
              "        vertical-align: top;\n",
              "    }\n",
              "\n",
              "    .dataframe thead th {\n",
              "        text-align: right;\n",
              "    }\n",
              "</style>\n",
              "<table border=\"1\" class=\"dataframe\">\n",
              "  <thead>\n",
              "    <tr style=\"text-align: right;\">\n",
              "      <th></th>\n",
              "      <th>Gene</th>\n",
              "      <th>logFC</th>\n",
              "      <th>FDR adjusted Pvalue</th>\n",
              "    </tr>\n",
              "  </thead>\n",
              "  <tbody>\n",
              "    <tr>\n",
              "      <th>0</th>\n",
              "      <td>9543</td>\n",
              "      <td>6.086663</td>\n",
              "      <td>7.110000e-33</td>\n",
              "    </tr>\n",
              "    <tr>\n",
              "      <th>1</th>\n",
              "      <td>165</td>\n",
              "      <td>2.119808</td>\n",
              "      <td>3.260000e-30</td>\n",
              "    </tr>\n",
              "    <tr>\n",
              "      <th>2</th>\n",
              "      <td>2200</td>\n",
              "      <td>2.110410</td>\n",
              "      <td>1.210000e-29</td>\n",
              "    </tr>\n",
              "    <tr>\n",
              "      <th>3</th>\n",
              "      <td>1307</td>\n",
              "      <td>1.870070</td>\n",
              "      <td>2.530000e-29</td>\n",
              "    </tr>\n",
              "    <tr>\n",
              "      <th>4</th>\n",
              "      <td>633</td>\n",
              "      <td>1.863731</td>\n",
              "      <td>2.530000e-29</td>\n",
              "    </tr>\n",
              "    <tr>\n",
              "      <th>...</th>\n",
              "      <td>...</td>\n",
              "      <td>...</td>\n",
              "      <td>...</td>\n",
              "    </tr>\n",
              "    <tr>\n",
              "      <th>188</th>\n",
              "      <td>3975</td>\n",
              "      <td>1.938058</td>\n",
              "      <td>1.082600e-04</td>\n",
              "    </tr>\n",
              "    <tr>\n",
              "      <th>189</th>\n",
              "      <td>723961</td>\n",
              "      <td>1.867745</td>\n",
              "      <td>1.285200e-04</td>\n",
              "    </tr>\n",
              "    <tr>\n",
              "      <th>190</th>\n",
              "      <td>4322</td>\n",
              "      <td>1.965297</td>\n",
              "      <td>6.385490e-04</td>\n",
              "    </tr>\n",
              "    <tr>\n",
              "      <th>191</th>\n",
              "      <td>51214</td>\n",
              "      <td>1.832688</td>\n",
              "      <td>8.290700e-04</td>\n",
              "    </tr>\n",
              "    <tr>\n",
              "      <th>192</th>\n",
              "      <td>8788</td>\n",
              "      <td>1.934639</td>\n",
              "      <td>7.305316e-03</td>\n",
              "    </tr>\n",
              "  </tbody>\n",
              "</table>\n",
              "<p>193 rows × 3 columns</p>\n",
              "</div>"
            ],
            "text/plain": [
              "       Gene     logFC  FDR adjusted Pvalue\n",
              "0      9543  6.086663         7.110000e-33\n",
              "1       165  2.119808         3.260000e-30\n",
              "2      2200  2.110410         1.210000e-29\n",
              "3      1307  1.870070         2.530000e-29\n",
              "4       633  1.863731         2.530000e-29\n",
              "..      ...       ...                  ...\n",
              "188    3975  1.938058         1.082600e-04\n",
              "189  723961  1.867745         1.285200e-04\n",
              "190    4322  1.965297         6.385490e-04\n",
              "191   51214  1.832688         8.290700e-04\n",
              "192    8788  1.934639         7.305316e-03\n",
              "\n",
              "[193 rows x 3 columns]"
            ]
          },
          "metadata": {
            "tags": []
          },
          "execution_count": 7
        }
      ]
    },
    {
      "cell_type": "code",
      "metadata": {
        "id": "-s1nV7PGrnjY",
        "colab": {
          "base_uri": "https://localhost:8080/"
        },
        "outputId": "121b177e-f042-4f00-e9be-82019fa35eb2"
      },
      "source": [
        "gene_list = str(de_genes_up[\"Gene\"].tolist())[1:-1]\n",
        "string_cmd = f'string protein query query=\"{gene_list}\" cutoff=0.4 species=\"Homo sapiens\"'\n",
        "print(string_cmd)\n",
        "p4c.commands_run(string_cmd)"
      ],
      "execution_count": 8,
      "outputs": [
        {
          "output_type": "stream",
          "text": [
            "string protein query query=\"9543, 165, 2200, 1307, 633, 1289, 83716, 1278, 84627, 7078, 1277, 1842, 1293, 148113, 55083, 11117, 1281, 284297, 114905, 4313, 83468, 2318, 1295, 1462, 775, 10082, 1009, 114899, 85352, 7425, 1290, 147906, 127435, 2335, 5592, 389136, 7058, 23704, 56917, 140862, 81792, 441631, 84624, 10234, 4330, 114794, 11227, 5740, 57158, 8639, 80114, 9509, 4969, 185, 22801, 54551, 5054, 8038, 340075, 4148, 120114, 8483, 387914, 4188, 144347, 6424, 5798, 23460, 170690, 85409, 3624, 79987, 6695, 1038, 84935, 10351, 56033, 131578, 8913, 5789, 63895, 5346, 9464, 4958, 8839, 54829, 115701, 79776, 64388, 51050, 56603, 84432, 50614, 6423, 72, 7379, 579, 5396, 26153, 1592, 164312, 1301, 27063, 6358, 65266, 9547, 114784, 1300, 2949, 8013, 84620, 7857, 63976, 79625, 2670, 4239, 223117, 10699, 9068, 2191, 340146, 4804, 9358, 23237, 54905, 4045, 10642, 4629, 8076, 84466, 5350, 1299, 108, 257194, 90019, 1311, 6899, 6332, 57537, 64399, 1359, 219348, 342897, 55714, 56301, 25928, 5737, 482, 10216, 415, 1280, 1943, 7140, 136227, 9370, 125, 9244, 2304, 1749, 1805, 1833, 3036, 10631, 5320, 40, 653145, 477, 6496, 27087, 2248, 1469, 4685, 2571, 131873, 2312, 2167, 8581, 8854, 2662, 3481, 6664, 146664, 149461, 727897, 1804, 80059, 9965, 1917, 3975, 723961, 4322, 51214, 8788\" cutoff=0.4 species=\"Homo sapiens\"\n"
          ],
          "name": "stdout"
        },
        {
          "output_type": "execute_result",
          "data": {
            "text/plain": [
              "[\"Loaded network 'String Network' with 202 nodes and 919 edges\"]"
            ]
          },
          "metadata": {
            "tags": []
          },
          "execution_count": 8
        }
      ]
    },
    {
      "cell_type": "code",
      "metadata": {
        "id": "FCWjRlbysK8F",
        "outputId": "eea01db9-683a-4b5f-dbce-0ed377fbc233",
        "colab": {
          "base_uri": "https://localhost:8080/"
        }
      },
      "source": [
        "p4c.create_subnetwork(edges='all', subnetwork_name='String de genes up')"
      ],
      "execution_count": 9,
      "outputs": [
        {
          "output_type": "execute_result",
          "data": {
            "text/plain": [
              "2331"
            ]
          },
          "metadata": {
            "tags": []
          },
          "execution_count": 9
        }
      ]
    },
    {
      "cell_type": "code",
      "metadata": {
        "id": "j-MIrmjusUNj",
        "outputId": "12afa1b7-e969-41b8-e03c-cae2d44bc79b",
        "colab": {
          "base_uri": "https://localhost:8080/",
          "height": 419
        }
      },
      "source": [
        "mapped_cols = p4c.map_table_column('display name', 'Human', 'HGNC', 'Entrez Gene')\n",
        "mapped_cols"
      ],
      "execution_count": 10,
      "outputs": [
        {
          "output_type": "execute_result",
          "data": {
            "text/html": [
              "<div>\n",
              "<style scoped>\n",
              "    .dataframe tbody tr th:only-of-type {\n",
              "        vertical-align: middle;\n",
              "    }\n",
              "\n",
              "    .dataframe tbody tr th {\n",
              "        vertical-align: top;\n",
              "    }\n",
              "\n",
              "    .dataframe thead th {\n",
              "        text-align: right;\n",
              "    }\n",
              "</style>\n",
              "<table border=\"1\" class=\"dataframe\">\n",
              "  <thead>\n",
              "    <tr style=\"text-align: right;\">\n",
              "      <th></th>\n",
              "      <th>display name</th>\n",
              "      <th>Entrez Gene</th>\n",
              "    </tr>\n",
              "  </thead>\n",
              "  <tbody>\n",
              "    <tr>\n",
              "      <th>256</th>\n",
              "      <td>SVEP1</td>\n",
              "      <td>79987</td>\n",
              "    </tr>\n",
              "    <tr>\n",
              "      <th>258</th>\n",
              "      <td>COL10A1</td>\n",
              "      <td>1300</td>\n",
              "    </tr>\n",
              "    <tr>\n",
              "      <th>259</th>\n",
              "      <td>VCAN</td>\n",
              "      <td>1462</td>\n",
              "    </tr>\n",
              "    <tr>\n",
              "      <th>260</th>\n",
              "      <td>GPC6</td>\n",
              "      <td>10082</td>\n",
              "    </tr>\n",
              "    <tr>\n",
              "      <th>261</th>\n",
              "      <td>GREM2</td>\n",
              "      <td>64388</td>\n",
              "    </tr>\n",
              "    <tr>\n",
              "      <th>...</th>\n",
              "      <td>...</td>\n",
              "      <td>...</td>\n",
              "    </tr>\n",
              "    <tr>\n",
              "      <th>250</th>\n",
              "      <td>ADAMTS12</td>\n",
              "      <td>81792</td>\n",
              "    </tr>\n",
              "    <tr>\n",
              "      <th>251</th>\n",
              "      <td>POSTN</td>\n",
              "      <td>10631</td>\n",
              "    </tr>\n",
              "    <tr>\n",
              "      <th>252</th>\n",
              "      <td>HAND2</td>\n",
              "      <td>9464</td>\n",
              "    </tr>\n",
              "    <tr>\n",
              "      <th>254</th>\n",
              "      <td>CCL14</td>\n",
              "      <td>6358</td>\n",
              "    </tr>\n",
              "    <tr>\n",
              "      <th>255</th>\n",
              "      <td>ADAMTS2</td>\n",
              "      <td>9509</td>\n",
              "    </tr>\n",
              "  </tbody>\n",
              "</table>\n",
              "<p>169 rows × 2 columns</p>\n",
              "</div>"
            ],
            "text/plain": [
              "    display name Entrez Gene\n",
              "256        SVEP1       79987\n",
              "258      COL10A1        1300\n",
              "259         VCAN        1462\n",
              "260         GPC6       10082\n",
              "261        GREM2       64388\n",
              "..           ...         ...\n",
              "250     ADAMTS12       81792\n",
              "251        POSTN       10631\n",
              "252        HAND2        9464\n",
              "254        CCL14        6358\n",
              "255      ADAMTS2        9509\n",
              "\n",
              "[169 rows x 2 columns]"
            ]
          },
          "metadata": {
            "tags": []
          },
          "execution_count": 10
        }
      ]
    },
    {
      "cell_type": "code",
      "metadata": {
        "id": "VHUjkYvVshHn",
        "outputId": "1002bf87-d49e-4cbb-8c7c-73269e1ccc44",
        "colab": {
          "base_uri": "https://localhost:8080/",
          "height": 157
        }
      },
      "source": [
        "de_genes_full = df.read_csv(\"https://raw.githubusercontent.com/cytoscape/cytoscape-tutorials/gh-pages/protocols/data/TCGA-Ovarian-MesenvsImmuno_data.csv\")\n",
        "p4c.load_table_data(de_genes_full, data_key_column=\"Gene\", table_key_column=\"Entrez Gene\")"
      ],
      "execution_count": 11,
      "outputs": [
        {
          "output_type": "stream",
          "text": [
            "/usr/local/lib/python3.6/dist-packages/py4cytoscape/tables.py:408: SettingWithCopyWarning: \n",
            "A value is trying to be set on a copy of a slice from a DataFrame.\n",
            "Try using .loc[row_indexer,col_indexer] = value instead\n",
            "\n",
            "See the caveats in the documentation: https://pandas.pydata.org/pandas-docs/stable/user_guide/indexing.html#returning-a-view-versus-a-copy\n",
            "  data_subset[col] = col_val\n"
          ],
          "name": "stderr"
        },
        {
          "output_type": "execute_result",
          "data": {
            "application/vnd.google.colaboratory.intrinsic+json": {
              "type": "string"
            },
            "text/plain": [
              "'Success: Data loaded in defaultnode table'"
            ]
          },
          "metadata": {
            "tags": []
          },
          "execution_count": 11
        }
      ]
    },
    {
      "cell_type": "code",
      "metadata": {
        "id": "4BL7b5DatBFX",
        "outputId": "1b84ed46-3d96-45ec-fd0a-746efc6566cf",
        "colab": {
          "base_uri": "https://localhost:8080/",
          "height": 35
        }
      },
      "source": [
        "', '.join(p4c.get_table_column_names())[-80:]"
      ],
      "execution_count": 14,
      "outputs": [
        {
          "output_type": "execute_result",
          "data": {
            "application/vnd.google.colaboratory.intrinsic+json": {
              "type": "string"
            },
            "text/plain": [
              "'nd, tissue::urine, name, selected, Entrez Gene, Gene, logFC, FDR adjusted Pvalue'"
            ]
          },
          "metadata": {
            "tags": []
          },
          "execution_count": 14
        }
      ]
    }
  ]
}
