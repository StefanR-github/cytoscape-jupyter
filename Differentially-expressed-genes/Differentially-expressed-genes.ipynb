{
  "nbformat": 4,
  "nbformat_minor": 0,
  "metadata": {
    "colab": {
      "name": "Sanity Test.ipynb",
      "provenance": [],
      "collapsed_sections": []
    },
    "kernelspec": {
      "name": "python3",
      "display_name": "Python 3"
    }
  },
  "cells": [
    {
      "cell_type": "markdown",
      "metadata": {
        "id": "EynlCq2w336-"
      },
      "source": [
        "---\n",
        "#Setup data files, py4cytoscape and Cytoscape connection\n",
        "---\n",
        "**NOTE: To run this notebook, you must manually start Cytoscape first -- don't proceed until you have started Cytoscape.**"
      ]
    },
    {
      "cell_type": "markdown",
      "metadata": {
        "id": "VvaiYm7HwcsN"
      },
      "source": [
        "---\n",
        "##Setup: Import source data files"
      ]
    },
    {
      "cell_type": "code",
      "metadata": {
        "id": "JmmSjrblGhpz",
        "colab": {
          "base_uri": "https://localhost:8080/"
        },
        "outputId": "f144489a-0bbf-414c-e326-1c91ff69ca41"
      },
      "source": [
        "!mkdir output\n",
        "!rm output/*\n",
        "!ls -l\n",
        "OUTPUT_DIR='output/'"
      ],
      "execution_count": 1,
      "outputs": [
        {
          "output_type": "stream",
          "text": [
            "rm: cannot remove 'galFiltered.sif': No such file or directory\n",
            "rm: cannot remove 'Affinity Purification.cys': No such file or directory\n",
            "rm: cannot remove 'All Predicates.filter': No such file or directory\n",
            "rm: cannot remove 'output/*': No such file or directory\n",
            "total 1052\n",
            "-rw-r--r-- 1 root root 1054245 Nov 23 19:39 'Affinity Purification.cys'\n",
            "-rw-r--r-- 1 root root    3969 Nov 23 19:39 'All Predicates.filter'\n",
            "-rw-r--r-- 1 root root    7181 Nov 23 19:39  galFiltered.sif\n",
            "drwxr-xr-x 2 root root    4096 Nov 23 19:39  output\n",
            "drwxr-xr-x 1 root root    4096 Nov 13 17:33  sample_data\n"
          ],
          "name": "stdout"
        }
      ]
    },
    {
      "cell_type": "markdown",
      "metadata": {
        "id": "wJ9RYWAF4wF6"
      },
      "source": [
        "---\n",
        "##Setup: Fetch latest py4cytoscape\n",
        "\n",
        "\n"
      ]
    },
    {
      "cell_type": "markdown",
      "metadata": {
        "id": "9RVNEFryzJR3"
      },
      "source": [
        "**Note that you can fetch from a specific github branch by adding \"@<branch>\" to the \"py4cytocape\" at the end of the github URL.**\n",
        "\n",
        "For example, to get branch 0.0.5: git+https://github.com/cytoscape/py4cytoscape@0.0.5"
      ]
    },
    {
      "cell_type": "code",
      "metadata": {
        "id": "pW3Jhe2PMD9z",
        "colab": {
          "base_uri": "https://localhost:8080/"
        },
        "outputId": "4e84271f-657e-4db9-b791-ac1d73d84730"
      },
      "source": [
        "!pip uninstall -y py4cytoscape\n",
        "\n",
        "!pip install py4cytoscape\n",
        "#!pip install git+https://github.com/cytoscape/py4cytoscape@0.0.5\n",
        "#!pip install git+https://github.com/cytoscape/py4cytoscape"
      ],
      "execution_count": 2,
      "outputs": [
        {
          "output_type": "stream",
          "text": [
            "\u001b[33mWARNING: Skipping py4cytoscape as it is not installed.\u001b[0m\n",
            "Collecting py4cytoscape\n",
            "\u001b[?25l  Downloading https://files.pythonhosted.org/packages/36/89/e3bf0ba869f99c5695a53fd540f259738aa8bd806c8741ab628fb64471ba/py4cytoscape-0.0.6-py3-none-any.whl (139kB)\n",
            "\u001b[K     |████████████████████████████████| 143kB 6.0MB/s \n",
            "\u001b[?25hCollecting python-igraph\n",
            "\u001b[?25l  Downloading https://files.pythonhosted.org/packages/20/6e/3ac2fc339051f652d4a01570d133e4d15321aaec929ffb5f49a67852f8d9/python_igraph-0.8.3-cp36-cp36m-manylinux2010_x86_64.whl (3.2MB)\n",
            "\u001b[K     |████████████████████████████████| 3.2MB 28.1MB/s \n",
            "\u001b[?25hRequirement already satisfied: pandas in /usr/local/lib/python3.6/dist-packages (from py4cytoscape) (1.1.4)\n",
            "Requirement already satisfied: requests in /usr/local/lib/python3.6/dist-packages (from py4cytoscape) (2.23.0)\n",
            "Requirement already satisfied: networkx in /usr/local/lib/python3.6/dist-packages (from py4cytoscape) (2.5)\n",
            "Collecting texttable>=1.6.2\n",
            "  Downloading https://files.pythonhosted.org/packages/06/f5/46201c428aebe0eecfa83df66bf3e6caa29659dbac5a56ddfd83cae0d4a4/texttable-1.6.3-py2.py3-none-any.whl\n",
            "Requirement already satisfied: pytz>=2017.2 in /usr/local/lib/python3.6/dist-packages (from pandas->py4cytoscape) (2018.9)\n",
            "Requirement already satisfied: python-dateutil>=2.7.3 in /usr/local/lib/python3.6/dist-packages (from pandas->py4cytoscape) (2.8.1)\n",
            "Requirement already satisfied: numpy>=1.15.4 in /usr/local/lib/python3.6/dist-packages (from pandas->py4cytoscape) (1.18.5)\n",
            "Requirement already satisfied: chardet<4,>=3.0.2 in /usr/local/lib/python3.6/dist-packages (from requests->py4cytoscape) (3.0.4)\n",
            "Requirement already satisfied: certifi>=2017.4.17 in /usr/local/lib/python3.6/dist-packages (from requests->py4cytoscape) (2020.11.8)\n",
            "Requirement already satisfied: urllib3!=1.25.0,!=1.25.1,<1.26,>=1.21.1 in /usr/local/lib/python3.6/dist-packages (from requests->py4cytoscape) (1.24.3)\n",
            "Requirement already satisfied: idna<3,>=2.5 in /usr/local/lib/python3.6/dist-packages (from requests->py4cytoscape) (2.10)\n",
            "Requirement already satisfied: decorator>=4.3.0 in /usr/local/lib/python3.6/dist-packages (from networkx->py4cytoscape) (4.4.2)\n",
            "Requirement already satisfied: six>=1.5 in /usr/local/lib/python3.6/dist-packages (from python-dateutil>=2.7.3->pandas->py4cytoscape) (1.15.0)\n",
            "Installing collected packages: texttable, python-igraph, py4cytoscape\n",
            "Successfully installed py4cytoscape-0.0.6 python-igraph-0.8.3 texttable-1.6.3\n"
          ],
          "name": "stdout"
        }
      ]
    },
    {
      "cell_type": "markdown",
      "metadata": {
        "id": "q2bNAluIV5ZN"
      },
      "source": [
        "---\n",
        "##Setup: Set up Cytoscape connection\n"
      ]
    },
    {
      "cell_type": "code",
      "metadata": {
        "id": "QPBzaizACq3g",
        "colab": {
          "base_uri": "https://localhost:8080/",
          "height": 34
        },
        "outputId": "700eef91-e38c-4b36-eb9f-ed69e50cc069"
      },
      "source": [
        "import IPython\n",
        "import py4cytoscape as p4c\n",
        "print(f'Loading Javascript client ... {p4c.get_browser_client_channel()} on {p4c.get_jupyter_bridge_url()}')\n",
        "browser_client_js = p4c.get_browser_client_js(False)\n",
        "IPython.display.Javascript(browser_client_js) # Start browser client\n"
      ],
      "execution_count": 3,
      "outputs": [
        {
          "output_type": "stream",
          "text": [
            "Loading Javascript client ... 726a1d9e-d1c3-496f-bb17-fbba4fd42586 on https://jupyter-bridge.cytoscape.org\n"
          ],
          "name": "stdout"
        },
        {
          "output_type": "execute_result",
          "data": {
            "application/javascript": [
              "var Channel = \"726a1d9e-d1c3-496f-bb17-fbba4fd42586\"; \n",
              "\n",
              "var JupyterBridge = \"https://jupyter-bridge.cytoscape.org\"; \n",
              "\n",
              "  /*\n",
              "    These functions serve as a connector between a remote Jupyter server and Cytoscape.\n",
              "    They run in the user's browser, which also shows the Jupyter Notebook.\n",
              "\n",
              "    A remote Jupyter Notebook call to the py4cytoscape package is forwarded to the Jupyter Bridge,\n",
              "    which is a standalone server. The functions in this connector execute in the Jupyter Notebook\n",
              "    browser, which executes on the same PC as Cytoscape. So, that's 4 components: (A) remote\n",
              "    Jupyter Notebook, (B) separate Jupyter Bridge server, (C) this browser-based component, and\n",
              "    (D) Cytoscape. (A) is on a remote server, (B) is on a different remote server, and (C) and (D)\n",
              "    are on the user's PC.\n",
              "\n",
              "    (A) calls its py4cytoscape module, which forwards the request (in a JSON wrapper) to (B).\n",
              "    (C) picks up the request from (B), unpacks the request and forwards it to (D). (C) awaits a\n",
              "    reply from (D), and when it gets it, it forwards the reply (in a JSON wrapper) to (B).\n",
              "    (A)'s py4cytoscape module picks up the reply on (B) when it becomes available, unpacks it,\n",
              "    and returns it to (A).\n",
              "\n",
              "    A Jupyter Notebook can talk to only one Cytoscape (i.e., the one on the machine running the\n",
              "    Jupyter Notebook browser), and Cytoscape should be called by only one Jupyter Notebook. The\n",
              "    Jupyter Bridge differentiates between Notebook-Cytoscape conversations via a channel UUID.\n",
              "    The UUID is prepended to this browser component by py4Cytoscape, and the component is\n",
              "    started by the Jupyter Notebook. (I wish py4Cytoscape could start the component, too, but I\n",
              "    haven't figured out how to do that yet, so startup code *is* required in the Jupyter\n",
              "    Notebook.)\n",
              "\n",
              "    Note that for the case of a Jupyter server running on the same machine as Cytoscape, this\n",
              "    bridge isn't necessary because the Jupyter server's HTTP calls can easily connect to\n",
              "    Cytoscape over a localhost socket. So, the combination of Jupyter Bridge and this browser\n",
              "    component solves the problem of a Jupyter server (e.g., Google's Colab) that can't\n",
              "    connect to Cytoscape that sits behind a firewall.\n",
              "\n",
              "    The request represents an HTTP call that py4cytoscape would normally make via HTTP directly\n",
              "    to Cytoscape via localhost when both py4cytoscape and Cytoscape are running on the same machine.\n",
              " */\n",
              "\n",
              "const VERSION = '0.0.2'\n",
              "\n",
              "var showDebug; // Flag indicating whether to show Jupyter-bridge progress\n",
              "if (typeof showDebug === 'undefined') {\n",
              "    showDebug = false\n",
              "}\n",
              "if (showDebug) {\n",
              "    alert(\"Starting Jupyter-bridge browser component\")\n",
              "}\n",
              "\n",
              "//const JupyterBridge = 'http://127.0.0.1:5000' // for testing against local Jupyter-bridge\n",
              "var JupyterBridge; // URL of Jupyter-bridge server could be defined by assignment pre-pended to this file\n",
              "if (typeof JupyterBridge === 'undefined') {\n",
              "    JupyterBridge = 'https://jupyter-bridge.cytoscape.org' // for production\n",
              "}\n",
              "var Channel; // Unique constant that could be defined by assignment pre-pended to this file\n",
              "if (typeof Channel === 'undefined') { // ... but if not assigned, use a debugging value\n",
              "    Channel = 1\n",
              "}\n",
              "\n",
              "\n",
              "var httpR = new XMLHttpRequest(); // for sending reply to Jupyter-bridge\n",
              "var httpRE = new XMLHttpRequest(); // for sending backup error reply to Jupyter-bridge\n",
              "var httpC = new XMLHttpRequest(); // for sending command to Cytoscape\n",
              "var httpJ = new XMLHttpRequest(); // for fetching request from Jupyter-bridge\n",
              "\n",
              "const HTTP_OK = 200\n",
              "const HTTP_SYS_ERR = 500\n",
              "const HTTP_TIMEOUT = 408\n",
              "const HTTP_TOO_MANY = 429\n",
              "\n",
              "\n",
              " /* This function is useful if we want to rewrite the incoming URL to resolve just to our local one.\n",
              "    Doing this stops the Jupyter component from abusing this client to call out to endpoints other\n",
              "    than local Cytoscape. On the other hand, it makes it hard to detect when the Jupyter component\n",
              "    has specified a genuinely bad URL and really should get an error result. For now, we'll execute\n",
              "    the Jupyter-supplied URL and return the result, whatever it may be.\n",
              "\n",
              "const LocalCytoscape = 'http://127.0.0.1:1234'\n",
              "\n",
              "function parseURL(url) {\n",
              "    var reURLInformation = new RegExp([\n",
              "        '^(https?:)//', // protocol\n",
              "        '(([^:/?#]*)(?::([0-9]+))?)', // host (hostname and port)\n",
              "        '(/{0,1}[^?#]*)', // pathname\n",
              "        '(\\\\?[^#]*|)', // search\n",
              "        '(#.*|)$' // hash\n",
              "    ].join(''));\n",
              "    var match = url.match(reURLInformation);\n",
              "    return match && {\n",
              "        url: url,\n",
              "        protocol: match[1],\n",
              "        host: match[2],\n",
              "        hostname: match[3],\n",
              "        port: match[4],\n",
              "        pathname: match[5],\n",
              "        search: match[6],\n",
              "        hash: match[7]\n",
              "    }\n",
              "}\n",
              "*/\n",
              "\n",
              "function replyCytoscape(replyStatus, replyStatusText, replyText) {\n",
              "\n",
              "    // Clean up after Jupyter bridge accepts reply\n",
              "    httpR.onreadystatechange = function() {\n",
              "        if (httpR.readyState === 4) {\n",
              "            if (showDebug) {\n",
              "                console.log(' status from queue_reply: ' + httpR.status + ', reply: ' + httpR.responseText)\n",
              "            }\n",
              "        }\n",
              "    }\n",
              "\n",
              "    httpR.onerror = function() {\n",
              "        // Clean up after Jupyter bridge accepts backup reply\n",
              "        httpRE.onreadystatechange = function() {\n",
              "            if (httpRE.readyState === 4) {\n",
              "                if (showDebug) {\n",
              "                    console.log(' status from backup queue_reply: ' + httpRE.status + ', reply: ' + httpRE.responseText)\n",
              "                }\n",
              "            }\n",
              "        }\n",
              "\n",
              "        if (showDebug) {\n",
              "            console.log(' error from queue_reply -- could be Jupyter-Bridge server reject')\n",
              "        }\n",
              "        var errReply = {'status': HTTP_SYS_ERR, 'reason': 'Jupyter-Bridge rejected reply', 'text': 'Possibly reply is too long for Jupyter-Bridge server'}\n",
              "        httpRE.open('POST', jupyterBridgeURL, true)\n",
              "        httpRE.setRequestHeader('Content-Type', 'text/plain')\n",
              "        httpRE.send(JSON.stringify(errReply))\n",
              "    }\n",
              "\n",
              "    var reply = {'status': replyStatus, 'reason': replyStatusText, 'text': replyText}\n",
              "\n",
              "    // Send reply to Jupyter bridge\n",
              "    var jupyterBridgeURL = JupyterBridge + '/queue_reply?channel=' + Channel\n",
              "    if (showDebug) {\n",
              "        console.log('Starting queue to Jupyter bridge: ' + jupyterBridgeURL)\n",
              "    }\n",
              "    httpR.open('POST', jupyterBridgeURL, true)\n",
              "    httpR.setRequestHeader('Content-Type', 'text/plain')\n",
              "    httpR.send(JSON.stringify(reply))\n",
              "}\n",
              "\n",
              "function callCytoscape(callSpec) {\n",
              "\n",
              "    // Captures Cytoscape reply and sends it on\n",
              "    httpC.onreadystatechange = function() {\n",
              "        if (httpC.readyState === 4) {\n",
              "            if (showDebug) {\n",
              "                console.log(' status from CyREST: ' + httpC.status + ', statusText: ' + httpC.statusText + ', reply: ' + httpC.responseText)\n",
              "            }\n",
              "            // Note that httpC.status is 0 if the URL can't be reached *OR* there is a CORS violation.\n",
              "            // I wish I could tell the difference because for a CORS violation, I'd return a 404,\n",
              "            // which would roughly match what Python's native request package would return.\n",
              "            // The practical consequence is that the ultimate caller (e.g., py4cytoscape)\n",
              "            // returns different exceptions, depending on wither this module is doing the\n",
              "            // HTTP operation or the native Python requests package is. This is minor, but\n",
              "            // messes up tests that verify the exception type.\n",
              "            replyCytoscape(httpC.status, httpC.statusText, httpC.responseText)\n",
              "            waitOnJupyterBridge()\n",
              "        }\n",
              "    }\n",
              "\n",
              "//  Build up request to Cytoscape, making sure host is local.\n",
              "//    Too heavy handed: localURL = LocalCytoscape + parseURL(callSpec.url).pathname\n",
              "    var localURL = callSpec.url // Try using what was passed in ... is there a security risk??\n",
              "\n",
              "    if (showDebug) {\n",
              "        console.log('Command to CyREST: ' + callSpec.command + ' (' + localURL + ')')\n",
              "        if (callSpec.params) {\n",
              "            console.log(' params: ' + JSON.stringify(callSpec.params))\n",
              "        }\n",
              "        if (callSpec.headers) {\n",
              "            console.log(' header: ' + JSON.stringify(callSpec.headers))\n",
              "        }\n",
              "        if (callSpec.data) {\n",
              "            console.log('   data: ' + JSON.stringify(callSpec.data))\n",
              "        }\n",
              "    }\n",
              "\n",
              "    if (callSpec.command === 'webbrowser') {\n",
              "        if (window.open(callSpec.url)) {\n",
              "            replyCytoscape(HTTP_OK, 'OK', '')\n",
              "        } else {\n",
              "            replyCytoscape(HTTP_SYS_ERR, 'BAD BROWSER OPEN', '')\n",
              "        }\n",
              "        waitOnJupyterBridge()\n",
              "    } else if (callSpec.command === 'version') {\n",
              "        replyCytoscape(HTTP_OK, 'OK',\n",
              "            JSON.stringify({\"jupyterBridgeVersion\": VERSION}))\n",
              "        waitOnJupyterBridge()\n",
              "    } else {\n",
              "        var joiner = '?'\n",
              "        for (let param in callSpec.params) {\n",
              "            localURL = localURL + joiner + param + '=' + encodeURIComponent(callSpec.params[param])\n",
              "            joiner = '&'\n",
              "        }\n",
              "\n",
              "        httpC.open(callSpec.command, localURL, true)\n",
              "        for (let header in callSpec.headers) {\n",
              "            httpC.setRequestHeader(header, callSpec.headers[header])\n",
              "        }\n",
              "\n",
              "        // Send request to Cytoscape ... reply goes to onreadystatechange handler\n",
              "        httpC.send(JSON.stringify(callSpec.data))\n",
              "    }\n",
              "}\n",
              "\n",
              "function waitOnJupyterBridge() {\n",
              "\n",
              "    // Captures request from Jupyter bridge\n",
              "    httpJ.onreadystatechange = function() {\n",
              "        if (httpJ.readyState === 4) {\n",
              "            if (showDebug) {\n",
              "                console.log(' status from dequeue_request: ' + httpJ.status + ', reply: ' + httpJ.responseText)\n",
              "            }\n",
              "            try {\n",
              "                if (httpJ.status == HTTP_TOO_MANY) {\n",
              "                    // Nothing more to do ... the browser has created too many listeners,\n",
              "                    // and it's time to stop listening because the server saw a listener\n",
              "                    // listening on this channel before we got there.\n",
              "                    console.log('  shutting down because of redundant reader on channel: ' + Channel)\n",
              "                } else {\n",
              "                    if (httpJ.status === HTTP_TIMEOUT) {\n",
              "                        waitOnJupyterBridge()\n",
              "                    } else {\n",
              "                        callCytoscape(JSON.parse(httpJ.responseText))\n",
              "                    }\n",
              "                }\n",
              "            } catch(err) {\n",
              "                if (showDebug) {\n",
              "                    console.log(' exception calling Cytoscape: ' + err)\n",
              "                }\n",
              "                // Bad responseText means something bad happened that we don't understand.\n",
              "                // Go wait on another request, as there's nothing to call Cytoscape with.\n",
              "                waitOnJupyterBridge()\n",
              "            }\n",
              "        }\n",
              "    }\n",
              "\n",
              "    // Wait for request from Jupyter bridge\n",
              "    var jupyterBridgeURL = JupyterBridge + '/dequeue_request?channel=' + Channel\n",
              "    if (showDebug) {\n",
              "        console.log('Starting dequeue on Jupyter bridge: ' + jupyterBridgeURL)\n",
              "    }\n",
              "    httpJ.open('GET', jupyterBridgeURL, true)\n",
              "    httpJ.send()\n",
              "}\n",
              "\n",
              "// This kicks off a loop that ends by calling waitOnJupyterBridge again. This first call\n",
              "// ejects any dead readers before we start a read\n",
              "waitOnJupyterBridge() // Wait for message from Jupyter bridge, execute it, and return reply\n",
              "\n",
              "if (showDebug) {\n",
              "    alert(\"Jupyter-bridge browser component is started on \" + JupyterBridge + ', channel ' + Channel)\n",
              "}\n"
            ],
            "text/plain": [
              "<IPython.core.display.Javascript object>"
            ]
          },
          "metadata": {
            "tags": []
          },
          "execution_count": 3
        }
      ]
    },
    {
      "cell_type": "markdown",
      "metadata": {
        "id": "sTJwg_HN3WPH"
      },
      "source": [
        "---\n",
        "#Fill in Section Title Here\n"
      ]
    },
    {
      "cell_type": "markdown",
      "metadata": {
        "id": "m5Uv0pTHWmvE"
      },
      "source": [
        "---\n",
        "##Sanity test: Cytoscape version\n"
      ]
    },
    {
      "cell_type": "code",
      "metadata": {
        "id": "sP5J_ey7C_t6",
        "colab": {
          "base_uri": "https://localhost:8080/"
        },
        "outputId": "7ab5eb19-9ac3-473f-f18e-c00cd137b0c2"
      },
      "source": [
        "p4c.cytoscape_ping()\n",
        "print(p4c.cytoscape_version_info())\n"
      ],
      "execution_count": 6,
      "outputs": [
        {
          "output_type": "stream",
          "text": [
            "You are connected to Cytoscape!\n",
            "{'apiVersion': 'v1', 'cytoscapeVersion': '3.8.2', 'automationAPIVersion': '1.0.0', 'py4cytoscapeVersion': '0.0.6', 'jupyterBridgeVersion': '0.0.2'}\n"
          ],
          "name": "stdout"
        }
      ]
    },
    {
      "cell_type": "markdown",
      "metadata": {
        "id": "MgvPeSXc3iUa"
      },
      "source": [
        "---\n",
        "## Sanity test: Cytoscape's sandbox path"
      ]
    },
    {
      "cell_type": "markdown",
      "metadata": {
        "id": "RlKSyX07FVL-"
      },
      "source": [
        "**Sandboxing is explained in https://py4cytoscape.readthedocs.io/en/latest/concepts.html#sandboxing**"
      ]
    },
    {
      "cell_type": "code",
      "metadata": {
        "id": "9MecXzJuDIwa",
        "colab": {
          "base_uri": "https://localhost:8080/"
        },
        "outputId": "ea9b1137-074d-4653-fa59-735d6664e12a"
      },
      "source": [
        "p4c.sandbox_get_file_info('.')"
      ],
      "execution_count": 7,
      "outputs": [
        {
          "output_type": "execute_result",
          "data": {
            "text/plain": [
              "{'filePath': 'C:\\\\Users\\\\CyDeveloper\\\\CytoscapeConfiguration\\\\filetransfer\\\\default_sandbox',\n",
              " 'isFile': False,\n",
              " 'modifiedTime': '2020-11-23 11:40:16.0823'}"
            ]
          },
          "metadata": {
            "tags": []
          },
          "execution_count": 7
        }
      ]
    },
    {
      "cell_type": "markdown",
      "metadata": {
        "id": "lzAhjmxU1-xd"
      },
      "source": [
        "---\n",
        "#Fill in section title here"
      ]
    },
    {
      "cell_type": "code",
      "metadata": {
        "id": "fPHhGykDpPhu",
        "outputId": "a10f7464-9424-4077-d3cd-a7861f41dfab",
        "colab": {
          "base_uri": "https://localhost:8080/"
        }
      },
      "source": [
        "p4c.install_app('stringApp')"
      ],
      "execution_count": 8,
      "outputs": [
        {
          "output_type": "stream",
          "text": [
            "{}\n"
          ],
          "name": "stdout"
        },
        {
          "output_type": "execute_result",
          "data": {
            "text/plain": [
              "{}"
            ]
          },
          "metadata": {
            "tags": []
          },
          "execution_count": 8
        }
      ]
    },
    {
      "cell_type": "code",
      "metadata": {
        "id": "0_o0dkFRpc9Z",
        "outputId": "c0aacc9b-17be-4016-ee8d-8ad0f9dc37f1",
        "colab": {
          "base_uri": "https://localhost:8080/",
          "height": 419
        }
      },
      "source": [
        "import pandas as df\n",
        "de_genes_up = df.read_csv('https://raw.githubusercontent.com/cytoscape/cytoscape-tutorials/gh-pages/protocols/data/TCGA-Ovarian-MesenvsImmuno-data-up.csv', sep='\\t')\n",
        "de_genes_up"
      ],
      "execution_count": 10,
      "outputs": [
        {
          "output_type": "execute_result",
          "data": {
            "text/html": [
              "<div>\n",
              "<style scoped>\n",
              "    .dataframe tbody tr th:only-of-type {\n",
              "        vertical-align: middle;\n",
              "    }\n",
              "\n",
              "    .dataframe tbody tr th {\n",
              "        vertical-align: top;\n",
              "    }\n",
              "\n",
              "    .dataframe thead th {\n",
              "        text-align: right;\n",
              "    }\n",
              "</style>\n",
              "<table border=\"1\" class=\"dataframe\">\n",
              "  <thead>\n",
              "    <tr style=\"text-align: right;\">\n",
              "      <th></th>\n",
              "      <th>Gene</th>\n",
              "      <th>logFC</th>\n",
              "      <th>FDR adjusted Pvalue</th>\n",
              "    </tr>\n",
              "  </thead>\n",
              "  <tbody>\n",
              "    <tr>\n",
              "      <th>0</th>\n",
              "      <td>9543</td>\n",
              "      <td>6.086663</td>\n",
              "      <td>7.110000e-33</td>\n",
              "    </tr>\n",
              "    <tr>\n",
              "      <th>1</th>\n",
              "      <td>165</td>\n",
              "      <td>2.119808</td>\n",
              "      <td>3.260000e-30</td>\n",
              "    </tr>\n",
              "    <tr>\n",
              "      <th>2</th>\n",
              "      <td>2200</td>\n",
              "      <td>2.110410</td>\n",
              "      <td>1.210000e-29</td>\n",
              "    </tr>\n",
              "    <tr>\n",
              "      <th>3</th>\n",
              "      <td>1307</td>\n",
              "      <td>1.870070</td>\n",
              "      <td>2.530000e-29</td>\n",
              "    </tr>\n",
              "    <tr>\n",
              "      <th>4</th>\n",
              "      <td>633</td>\n",
              "      <td>1.863731</td>\n",
              "      <td>2.530000e-29</td>\n",
              "    </tr>\n",
              "    <tr>\n",
              "      <th>...</th>\n",
              "      <td>...</td>\n",
              "      <td>...</td>\n",
              "      <td>...</td>\n",
              "    </tr>\n",
              "    <tr>\n",
              "      <th>188</th>\n",
              "      <td>3975</td>\n",
              "      <td>1.938058</td>\n",
              "      <td>1.082600e-04</td>\n",
              "    </tr>\n",
              "    <tr>\n",
              "      <th>189</th>\n",
              "      <td>723961</td>\n",
              "      <td>1.867745</td>\n",
              "      <td>1.285200e-04</td>\n",
              "    </tr>\n",
              "    <tr>\n",
              "      <th>190</th>\n",
              "      <td>4322</td>\n",
              "      <td>1.965297</td>\n",
              "      <td>6.385490e-04</td>\n",
              "    </tr>\n",
              "    <tr>\n",
              "      <th>191</th>\n",
              "      <td>51214</td>\n",
              "      <td>1.832688</td>\n",
              "      <td>8.290700e-04</td>\n",
              "    </tr>\n",
              "    <tr>\n",
              "      <th>192</th>\n",
              "      <td>8788</td>\n",
              "      <td>1.934639</td>\n",
              "      <td>7.305316e-03</td>\n",
              "    </tr>\n",
              "  </tbody>\n",
              "</table>\n",
              "<p>193 rows × 3 columns</p>\n",
              "</div>"
            ],
            "text/plain": [
              "       Gene     logFC  FDR adjusted Pvalue\n",
              "0      9543  6.086663         7.110000e-33\n",
              "1       165  2.119808         3.260000e-30\n",
              "2      2200  2.110410         1.210000e-29\n",
              "3      1307  1.870070         2.530000e-29\n",
              "4       633  1.863731         2.530000e-29\n",
              "..      ...       ...                  ...\n",
              "188    3975  1.938058         1.082600e-04\n",
              "189  723961  1.867745         1.285200e-04\n",
              "190    4322  1.965297         6.385490e-04\n",
              "191   51214  1.832688         8.290700e-04\n",
              "192    8788  1.934639         7.305316e-03\n",
              "\n",
              "[193 rows x 3 columns]"
            ]
          },
          "metadata": {
            "tags": []
          },
          "execution_count": 10
        }
      ]
    },
    {
      "cell_type": "code",
      "metadata": {
        "id": "-s1nV7PGrnjY",
        "outputId": "380f17a3-f9ff-4d41-b0aa-5683e08337bd",
        "colab": {
          "base_uri": "https://localhost:8080/"
        }
      },
      "source": [
        "gene_list = str(de_genes_up[\"Gene\"].tolist())[1:-1]\n",
        "string_cmd = f'string protein query query=\"{gene_list}\" cutoff=0.4 species=\"Homo sapiens\"'\n",
        "print(string_cmd)\n",
        "p4c.commands_run(string_cmd)"
      ],
      "execution_count": 20,
      "outputs": [
        {
          "output_type": "stream",
          "text": [
            "string protein query query=\"9543, 165, 2200, 1307, 633, 1289, 83716, 1278, 84627, 7078, 1277, 1842, 1293, 148113, 55083, 11117, 1281, 284297, 114905, 4313, 83468, 2318, 1295, 1462, 775, 10082, 1009, 114899, 85352, 7425, 1290, 147906, 127435, 2335, 5592, 389136, 7058, 23704, 56917, 140862, 81792, 441631, 84624, 10234, 4330, 114794, 11227, 5740, 57158, 8639, 80114, 9509, 4969, 185, 22801, 54551, 5054, 8038, 340075, 4148, 120114, 8483, 387914, 4188, 144347, 6424, 5798, 23460, 170690, 85409, 3624, 79987, 6695, 1038, 84935, 10351, 56033, 131578, 8913, 5789, 63895, 5346, 9464, 4958, 8839, 54829, 115701, 79776, 64388, 51050, 56603, 84432, 50614, 6423, 72, 7379, 579, 5396, 26153, 1592, 164312, 1301, 27063, 6358, 65266, 9547, 114784, 1300, 2949, 8013, 84620, 7857, 63976, 79625, 2670, 4239, 223117, 10699, 9068, 2191, 340146, 4804, 9358, 23237, 54905, 4045, 10642, 4629, 8076, 84466, 5350, 1299, 108, 257194, 90019, 1311, 6899, 6332, 57537, 64399, 1359, 219348, 342897, 55714, 56301, 25928, 5737, 482, 10216, 415, 1280, 1943, 7140, 136227, 9370, 125, 9244, 2304, 1749, 1805, 1833, 3036, 10631, 5320, 40, 653145, 477, 6496, 27087, 2248, 1469, 4685, 2571, 131873, 2312, 2167, 8581, 8854, 2662, 3481, 6664, 146664, 149461, 727897, 1804, 80059, 9965, 1917, 3975, 723961, 4322, 51214, 8788\" cutoff=0.4 species=\"Homo sapiens\"\n"
          ],
          "name": "stdout"
        },
        {
          "output_type": "execute_result",
          "data": {
            "text/plain": [
              "[\"Loaded network 'String Network' with 202 nodes and 919 edges\"]"
            ]
          },
          "metadata": {
            "tags": []
          },
          "execution_count": 20
        }
      ]
    },
    {
      "cell_type": "markdown",
      "metadata": {
        "id": "rGXFP0AF2Qne"
      },
      "source": [
        "---\n",
        "##Demo: Load standard Cytoscape sample session\n"
      ]
    },
    {
      "cell_type": "markdown",
      "metadata": {
        "id": "VkURxElvvhMJ"
      },
      "source": [
        "assert() checks verify that function result was plausible"
      ]
    },
    {
      "cell_type": "code",
      "metadata": {
        "id": "K8oTSgCEjPqK"
      },
      "source": [
        "assert(p4c.open_session() == {})\n",
        "assert(p4c.get_network_count() == 1)\n",
        "assert(p4c.get_network_name() == 'galFiltered.sif')\n",
        "print('Successfully opened sample session')"
      ],
      "execution_count": null,
      "outputs": []
    },
    {
      "cell_type": "markdown",
      "metadata": {
        "id": "0d2Bik452Wb4"
      },
      "source": [
        "---\n",
        "##Demo: Download and load my session"
      ]
    },
    {
      "cell_type": "markdown",
      "metadata": {
        "id": "wEPbN8mvvsC7"
      },
      "source": [
        "**This is a big session, so loading it may take a minute to download it to the sandbox and then load it into Cytoscape.**\n",
        "\n",
        "assert() checks verify that function result was plausible"
      ]
    },
    {
      "cell_type": "code",
      "metadata": {
        "id": "AJfe3jMejPaU"
      },
      "source": [
        "p4c.sandbox_send_to('Affinity Purification.cys')\n",
        "print('Successfully downloaded session ... beginning session load ...')\n",
        "assert(p4c.open_session('Affinity Purification.cys') == {})\n",
        "assert(p4c.get_network_count() == 1)\n",
        "assert(p4c.get_network_name() == 'HIV-human PPI')\n",
        "print('Successfully opened Affinity Purification.cys')"
      ],
      "execution_count": null,
      "outputs": []
    },
    {
      "cell_type": "markdown",
      "metadata": {
        "id": "vhY7ViFn2eey"
      },
      "source": [
        "---\n",
        "##Demo: Load standard Cytoscape sample network"
      ]
    },
    {
      "cell_type": "markdown",
      "metadata": {
        "id": "t5h8R0OUyPRu"
      },
      "source": [
        "assert() checks verify that function result was plausible"
      ]
    },
    {
      "cell_type": "code",
      "metadata": {
        "id": "EunbbevVybTG"
      },
      "source": [
        "res = p4c.import_network_from_file()\n",
        "assert(type(res['networks']) is list)\n",
        "assert(len(res['networks']) == 1)\n",
        "assert(type(res['views']) is list)\n",
        "assert(len(res['views']) == 1)\n",
        "print('Successfully loaded sample network')"
      ],
      "execution_count": null,
      "outputs": []
    },
    {
      "cell_type": "markdown",
      "metadata": {
        "id": "5DbcKvRF2inY"
      },
      "source": [
        "---\n",
        "##Demo: Download and load my network"
      ]
    },
    {
      "cell_type": "markdown",
      "metadata": {
        "id": "fU33BgLxx3DC"
      },
      "source": [
        "assert() checks verify that function result was plausible"
      ]
    },
    {
      "cell_type": "code",
      "metadata": {
        "id": "Y6OVe1JMjOtg"
      },
      "source": [
        "p4c.sandbox_send_to('galFiltered.sif')\n",
        "res = p4c.import_network_from_file('galFiltered.sif')\n",
        "assert(type(res['networks']) is list)\n",
        "assert(len(res['networks']) == 1)\n",
        "assert(type(res['views']) is list)\n",
        "assert(len(res['views']) == 1)\n",
        "print('Successfully loaded network galFiltered.sif')"
      ],
      "execution_count": null,
      "outputs": []
    },
    {
      "cell_type": "markdown",
      "metadata": {
        "id": "82Wr5Qds2oJc"
      },
      "source": [
        "---\n",
        "##Demo: Save session and upload to Notebook's file system"
      ]
    },
    {
      "cell_type": "markdown",
      "metadata": {
        "id": "FZjMB5Tpyy_L"
      },
      "source": [
        "**This is a 44MB file, so it may take a while for Cytoscape to save it, and then another while to upload it.**\n",
        "\n",
        "assert() checks verify that function result was plausible"
      ]
    },
    {
      "cell_type": "code",
      "metadata": {
        "id": "cUQb7tMszL4q"
      },
      "source": [
        "p4c.sandbox_remove_file('Three network session.cys')\n",
        "res = p4c.save_session('Three network session')\n",
        "assert(type(res) is dict)\n",
        "assert(res == {})\n",
        "print(\"Successfully saved network ... transferring network to Notebook server now ...\")\n",
        "p4c.sandbox_get_from('Three network session.cys', OUTPUT_DIR + 'Three network session.cys')"
      ],
      "execution_count": null,
      "outputs": []
    },
    {
      "cell_type": "markdown",
      "metadata": {
        "id": "CFFe6QYQ2vDi"
      },
      "source": [
        "---\n",
        "##Demo: Save network and upload to Notebook's file system"
      ]
    },
    {
      "cell_type": "markdown",
      "metadata": {
        "id": "9fsxnSpb2w_z"
      },
      "source": [
        "assert() checks verify that function result was plausible"
      ]
    },
    {
      "cell_type": "code",
      "metadata": {
        "id": "Gw2r73u52yPv"
      },
      "source": [
        "p4c.sandbox_remove_file('HIV-human PPI.sif')\n",
        "res = p4c.export_network(filename='HIV-human PPI.sif', network='HIV-human PPI', type='sif')\n",
        "assert(type(res) is dict)\n",
        "assert('file' in res)\n",
        "print('Successfully saved HIV-human PPI')\n",
        "p4c.sandbox_get_from('HIV-human PPI.sif', OUTPUT_DIR + 'HIV-human PPI.sif')"
      ],
      "execution_count": null,
      "outputs": []
    },
    {
      "cell_type": "markdown",
      "metadata": {
        "id": "0AisTJN320E2"
      },
      "source": [
        "---\n",
        "##Demo: Save visual styles and upload to Notebook's file system"
      ]
    },
    {
      "cell_type": "markdown",
      "metadata": {
        "id": "u5sy5jwG5Yck"
      },
      "source": [
        "assert() checks verify that function result was plausbile"
      ]
    },
    {
      "cell_type": "code",
      "metadata": {
        "id": "bjgRPr3a5ZFj"
      },
      "source": [
        "p4c.sandbox_remove_file('styles.xml')\n",
        "res = p4c.export_visual_styles()\n",
        "assert(type(res) is dict)\n",
        "assert('file' in res)\n",
        "print('Successfully saved default visual styles file')\n",
        "p4c.sandbox_get_from('styles.xml', OUTPUT_DIR + 'styles.xml')"
      ],
      "execution_count": null,
      "outputs": []
    },
    {
      "cell_type": "markdown",
      "metadata": {
        "id": "vFmgwapu230_"
      },
      "source": [
        "---\n",
        "##Demo: Save visual styles and upload to Notebook's file system (alternate)"
      ]
    },
    {
      "cell_type": "markdown",
      "metadata": {
        "id": "xiYtLd6g6g1f"
      },
      "source": [
        "assert() checks verify that function result was plausible"
      ]
    },
    {
      "cell_type": "code",
      "metadata": {
        "id": "49jva__x6hH5"
      },
      "source": [
        "p4c.sandbox_remove_file('mystyles.json')\n",
        "res = p4c.export_visual_styles(filename='mystyles', type='json')\n",
        "assert(type(res) is dict)\n",
        "assert('file' in res)\n",
        "print('Successfully saved mystyles.json styles file')\n",
        "p4c.sandbox_get_from('mystyles.json', OUTPUT_DIR + 'mystyles.json')"
      ],
      "execution_count": null,
      "outputs": []
    },
    {
      "cell_type": "markdown",
      "metadata": {
        "id": "lMZ-avF527-m"
      },
      "source": [
        "---\n",
        "##Demo: Download and load visual styles file"
      ]
    },
    {
      "cell_type": "markdown",
      "metadata": {
        "id": "qL0nwuh48q7T"
      },
      "source": [
        "assert() checks verify that function result was plausible"
      ]
    },
    {
      "cell_type": "code",
      "metadata": {
        "id": "9laPib-V7_4N"
      },
      "source": [
        "p4c.sandbox_send_to(OUTPUT_DIR + 'styles.xml')\n",
        "res = p4c.import_visual_styles()\n",
        "assert(type(res) is list)\n",
        "assert(len(res) == 1)\n",
        "print('Successfully loaded from default styles file: ' + str(res))"
      ],
      "execution_count": null,
      "outputs": []
    },
    {
      "cell_type": "markdown",
      "metadata": {
        "id": "ObsFAUex3Ayq"
      },
      "source": [
        "---\n",
        "##Demo: Download and load visual styles file (alternate)"
      ]
    },
    {
      "cell_type": "markdown",
      "metadata": {
        "id": "XFKIbTWZ85dS"
      },
      "source": [
        "assert() checks verify that function result was plausible"
      ]
    },
    {
      "cell_type": "code",
      "metadata": {
        "id": "9rE8jTrp9FSc"
      },
      "source": [
        "p4c.sandbox_remove_file('custom.xml')\n",
        "p4c.sandbox_send_to(OUTPUT_DIR + 'styles.xml', 'custom.xml')\n",
        "res = p4c.import_visual_styles(filename='custom.xml')\n",
        "assert(type(res) is list)\n",
        "assert(len(res) == 1)\n",
        "print('Successfully loaded from custom styles file: ' + str(res))"
      ],
      "execution_count": null,
      "outputs": []
    },
    {
      "cell_type": "markdown",
      "metadata": {
        "id": "pggo9NzL3E8k"
      },
      "source": [
        "---\n",
        "##Demo: Export network image and upload to Notebook's file system"
      ]
    },
    {
      "cell_type": "markdown",
      "metadata": {
        "id": "vPTXrstZ9EAM"
      },
      "source": [
        "assert() checks verify that function result was plausible\n",
        "\n"
      ]
    },
    {
      "cell_type": "code",
      "metadata": {
        "id": "LSQCrKBC-dwI"
      },
      "source": [
        "from IPython.display import Image\n",
        "\n",
        "p4c.sandbox_remove_file('HIV-human PPI.png')\n",
        "res = p4c.export_image('HIV-human PPI', network='HIV-human PPI')\n",
        "assert(type(res) is dict)\n",
        "assert('file' in res)\n",
        "print('Successfully exported HIV-human PPI network')\n",
        "p4c.sandbox_get_from('HIV-human PPI.png', OUTPUT_DIR + 'HIV-human PPI.png')\n",
        "Image(filename=OUTPUT_DIR + 'HIV-human PPI.png')\n"
      ],
      "execution_count": null,
      "outputs": []
    },
    {
      "cell_type": "markdown",
      "metadata": {
        "id": "p2hzsJVD3K-8"
      },
      "source": [
        "---\n",
        "##Demo: Export filters and upload to Notebook's file system"
      ]
    },
    {
      "cell_type": "markdown",
      "metadata": {
        "id": "KcaX32vj-WoG"
      },
      "source": [
        "assert() checks verify that function result was plausible"
      ]
    },
    {
      "cell_type": "code",
      "metadata": {
        "id": "_CcaIB1aAvaT"
      },
      "source": [
        "p4c.sandbox_remove_file('filters.json')\n",
        "res = p4c.export_filters()\n",
        "assert(type(res) is list)\n",
        "assert(len(res) == 0)\n",
        "print('Successfully exported filters to filters.json')\n",
        "p4c.sandbox_get_from('filters.json', OUTPUT_DIR + 'filters.json')\n"
      ],
      "execution_count": null,
      "outputs": []
    },
    {
      "cell_type": "markdown",
      "metadata": {
        "id": "t7k-PZJs3Oil"
      },
      "source": [
        "---\n",
        "##Demo: Download and load custom filters"
      ]
    },
    {
      "cell_type": "markdown",
      "metadata": {
        "id": "mCxPjdOjB4DE"
      },
      "source": [
        "Note that these custom filters don't match the network they're loaded into. They won't do much.\n",
        "\n",
        "assert() checks verify that function result was plausible"
      ]
    },
    {
      "cell_type": "code",
      "metadata": {
        "id": "LKnXZw1LCC1g"
      },
      "source": [
        "p4c.sandbox_send_to('All Predicates.filter')\n",
        "res = p4c.import_filters(filename='All Predicates.filter')\n",
        "assert(type(res) is list)\n",
        "assert(len(res) == 0)\n",
        "print('Successfully loaded from custom filters file')"
      ],
      "execution_count": null,
      "outputs": []
    },
    {
      "cell_type": "markdown",
      "metadata": {
        "id": "DbpQeKsaPfNM"
      },
      "source": [
        "---\n",
        "##Demo: Install and/or activate MCODE app"
      ]
    },
    {
      "cell_type": "markdown",
      "metadata": {
        "id": "kbeSg9CuPwQ8"
      },
      "source": [
        "The MCODE app could be installed, disabled or not installed at all. If it's not installed or it's disabled, install and enable it. If it's already installed, make sure it's the latest version."
      ]
    },
    {
      "cell_type": "code",
      "metadata": {
        "id": "qFJrQaihPd7h"
      },
      "source": [
        "# Cytoscape is having trouble with app functions, so this section is skipped\n",
        "# PLEASE MANUALLY VERIFY THAT MCODE 2.0 OR GREATER IS INSTALLED\n",
        "\n",
        "# if p4c.get_app_status('MCODE')['status'] == 'Installed':\n",
        "#   p4c.update_app('MCODE') # Update it if it's not at current version\n",
        "# else:\n",
        "#   p4c.install_app('MCODE') # Install it if it wasn't installed\n",
        "#   p4c.enable_app('MCODE') # Re-enable it if it wasn't enabled\n",
        "# print(f\"Success trying to install/update/activate MCODE ... result: {p4c.get_app_status('MCODE')['status']}\")"
      ],
      "execution_count": null,
      "outputs": []
    },
    {
      "cell_type": "markdown",
      "metadata": {
        "id": "rN1tjHjS5iRN"
      },
      "source": [
        "#Application shows creating networks, calculating clusters, and showing subnetworks"
      ]
    },
    {
      "cell_type": "markdown",
      "metadata": {
        "id": "njXnrKqZ128k"
      },
      "source": [
        "---\n",
        "##App Part 1: Load sample session and calculate edges"
      ]
    },
    {
      "cell_type": "markdown",
      "metadata": {
        "id": "j_z9-pM26Akv"
      },
      "source": [
        "**Note that this uses the Cytoscape session already loaded into the Cytoscape sandbox by default.**\n",
        "\n",
        "The output will be a dataframe that shows the network's edges.\n",
        "\n",
        "*Question:* Where did 'sampleData/sessions/Affinity Purification.cys' come from ... there was no explicit sandbox_send_to() call? \n",
        "\n",
        "*Answer:* When a sandbox is created, it is seeded with a copy of the sampleData folder already in the Cytoscape install directory. There are many samples in this folder."
      ]
    },
    {
      "cell_type": "code",
      "metadata": {
        "id": "mnWNVSTvz-a-"
      },
      "source": [
        " import uuid\n",
        " import re\n",
        " import pandas as df\n",
        " import time\n",
        "\n",
        "\n",
        " p4c.open_session('sampleData/sessions/Affinity Purification.cys')\n",
        " edges = p4c.get_all_edges()\n",
        " sources = [re.match('(\\S*) \\(.*\\) (\\S*)', edge).group(1)   for edge in edges]\n",
        " targets = [re.match('(\\S*) \\(.*\\) (\\S*)', edge).group(2)   for edge in edges]\n",
        " edge_data = {'source': sources, 'target': targets}\n",
        "\n",
        " edges_frame = df.DataFrame(data=edge_data, columns=['source', 'target'])\n",
        " edges_frame"
      ],
      "execution_count": null,
      "outputs": []
    },
    {
      "cell_type": "markdown",
      "metadata": {
        "id": "9k876_tV1to5"
      },
      "source": [
        "---\n",
        "##App Part 2: Create a fresh network out of just the edges"
      ]
    },
    {
      "cell_type": "markdown",
      "metadata": {
        "id": "jtDhFseT6KX9"
      },
      "source": [
        "The time reported should be less than 30s."
      ]
    },
    {
      "cell_type": "code",
      "metadata": {
        "id": "1EtRbUlt0BOA"
      },
      "source": [
        "network_name = uuid.uuid4().hex\n",
        "start_create = time.monotonic()\n",
        "network_suid = p4c.networks.create_network_from_data_frames(edges=edges_frame, title=network_name, collection=network_name + '_collection')\n",
        "print(f'create took {(time.monotonic() - start_create):10.2f} seconds')"
      ],
      "execution_count": null,
      "outputs": []
    },
    {
      "cell_type": "markdown",
      "metadata": {
        "id": "YVKHy2Z41mjA"
      },
      "source": [
        "---\n",
        "## App Part 3: Call MCODE to calculate clusters"
      ]
    },
    {
      "cell_type": "markdown",
      "metadata": {
        "id": "xH_fhejK7C-I"
      },
      "source": [
        "**Note that py4cytoscape doesn't have a function that calls MCODE. Instead, we use the commands_post technique documented here: https://py4cytoscape.readthedocs.io/en/latest/concepts.html#calling-cytoscape-apps**\n",
        "\n",
        "The output is a list of clusters that have more than 3 nodes.\n",
        "\n",
        "Note that you must have MCODE app installed in Cytoscape for this to work."
      ]
    },
    {
      "cell_type": "code",
      "metadata": {
        "id": "MftmGjyj3BEL"
      },
      "source": [
        "start_mcode = time.monotonic()\n",
        "mcode = p4c.commands.commands_post('mcode cluster degreeCutoff=2 fluff=false fluffNodeDensityCutoff=0.1 haircut=true includeLoops=false kCore=2 maxDepthFromStart=100 network=current nodeScoreCutoff=0.2 scope=NETWORK')\n",
        "print(f'mcode took {(time.monotonic() - start_mcode):10.2f} seconds')\n",
        "\n",
        "big_clusters = [i for i in range(len(mcode['clusters'])) if len(mcode['clusters'][i]['nodes']) > 3]\n",
        "big_clusters"
      ],
      "execution_count": null,
      "outputs": []
    },
    {
      "cell_type": "code",
      "metadata": {
        "id": "1ftkelDkyQhN"
      },
      "source": [
        ""
      ],
      "execution_count": null,
      "outputs": []
    },
    {
      "cell_type": "markdown",
      "metadata": {
        "id": "gZjnLxUh1hJN"
      },
      "source": [
        "---\n",
        "## App Part 4: Image each cluster and upload to Notebook's file system"
      ]
    },
    {
      "cell_type": "markdown",
      "metadata": {
        "id": "90otDWxv9vTL"
      },
      "source": [
        "**At the end of this cell, all .png images are displayed.**\n",
        "\n",
        "Because the .png is created in the Cytoscape sandbox, it must be uploaded to this Notebook's file system before it can be viewed.\n",
        "\n",
        "There is a call to get_table_columns() that is never used, but it sure takes a while. It's here just to show that Cytoscape can be called for a long operation."
      ]
    },
    {
      "cell_type": "code",
      "metadata": {
        "id": "TLUZU9kx0HSp"
      },
      "source": [
        "from IPython.display import Image, display\n",
        "import os\n",
        "\n",
        "if not os.path.exists('data'):  os.mkdir('data') # Prepare for .png files\n",
        "\n",
        "clusters = []\n",
        "list_of_images = []\n",
        "for i in range(len(big_clusters)):\n",
        "    start_view = time.monotonic()\n",
        "    view_id = p4c.commands.commands_post('mcode view id=1 rank=' + str(i+1))\n",
        "    print(f'{i} view took {(time.monotonic() - start_view):10.2f} seconds')\n",
        "\n",
        "    start_append = time.monotonic()\n",
        "    # Just for fun, show how to get a dataframe that is manipulated in Python. \n",
        "    clusters.append( p4c.tables.get_table_columns()\n",
        "                      .drop(columns=['id','name','selected','MCODE::Clusters (1)','SUID'])\n",
        "                      .sort_values(by=['MCODE::Score (1)'], ascending=False)\n",
        "                      .reset_index(drop=True) )\n",
        "    print(f'{i} append took {(time.monotonic() - start_append):10.2f} seconds')\n",
        "\n",
        "    img_name = uuid.uuid4().hex\n",
        "    start_export = time.monotonic()\n",
        "    p4c.export_image(f'{img_name}')\n",
        "    p4c.sandbox_get_from(f'{img_name}.png', f'{OUTPUT_DIR}{img_name}.png')\n",
        "    p4c.sandbox_remove_file(f'{img_name}.png')\n",
        "    print(f'{i} export took {(time.monotonic() - start_export):10.2f} seconds')\n",
        "    list_of_images.append(f'{OUTPUT_DIR}{img_name}.png')\n",
        "    \n",
        "# Show all of the clusters\n",
        "for image_name in list_of_images:\n",
        "    display(Image(filename=image_name))"
      ],
      "execution_count": null,
      "outputs": []
    }
  ]
}