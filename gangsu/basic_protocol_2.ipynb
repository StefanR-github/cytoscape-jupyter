{
  "nbformat": 4,
  "nbformat_minor": 0,
  "metadata": {
    "colab": {
      "name": "basic protocol 2.ipynb",
      "provenance": [],
      "collapsed_sections": [],
      "include_colab_link": true
    },
    "kernelspec": {
      "name": "python3",
      "display_name": "Python 3"
    }
  },
  "cells": [
    {
      "cell_type": "markdown",
      "metadata": {
        "id": "view-in-github",
        "colab_type": "text"
      },
      "source": [
        "<a href=\"https://colab.research.google.com/github/bdemchak/cytoscape-jupyter/blob/main/gangsu/basic_protocol_2.ipynb\" target=\"_parent\"><img src=\"https://colab.research.google.com/assets/colab-badge.svg\" alt=\"Open In Colab\"/></a>"
      ]
    },
    {
      "cell_type": "markdown",
      "metadata": {
        "id": "khjUrLor-5w_"
      },
      "source": [
        "This is a work-in-progress reproduction of the [Biological Network Exploration with Cytoscape 3](https://pubmed.ncbi.nlm.nih.gov/25199793/) Basic Protocol 2, which imports data from the Goh/Barabasi human disease network and displays it for exploration.\n"
      ]
    },
    {
      "cell_type": "markdown",
      "metadata": {
        "id": "EynlCq2w336-"
      },
      "source": [
        "---\n",
        "#Setup data files, py4cytoscape and Cytoscape connection\n",
        "---\n",
        "**NOTE: To run this notebook, you must manually start Cytoscape first -- don't proceed until you have started Cytoscape.**"
      ]
    },
    {
      "cell_type": "markdown",
      "metadata": {
        "id": "VvaiYm7HwcsN"
      },
      "source": [
        "---\n",
        "##Setup: Import source data files\n",
        "\n",
        "The network files are pre-positioned in GitHub, and are downloaded here for convenience. Once downloaded into the Python file system, they are downloaded into the Cytoscape sandbox for direct access by Cytoscape.\n",
        "\n",
        "They really should be in web locations enables them to be downloaded directly by Cytoscape via a CyREST POST v1/networks call (assuming we can get Cytoscape itself to load directly from a URL). \n"
      ]
    },
    {
      "cell_type": "code",
      "metadata": {
        "id": "sTP9Tf7hb9g0",
        "colab": {
          "base_uri": "https://localhost:8080/"
        },
        "outputId": "816a6c0a-e92d-4c5a-e049-0941a96cbaa5"
      },
      "source": [
        "!rm -r Barabasi\n",
        "!mkdir Barabasi\n",
        "\n",
        "!rm -r output/\n",
        "!mkdir output\n",
        "!ls -l \n",
        "OUTPUT_DIR = 'output/'\n"
      ],
      "execution_count": 1,
      "outputs": [
        {
          "output_type": "stream",
          "text": [
            "total 16\n",
            "drwxr-xr-x 2 root root 4096 Mar 19 00:31 Barabasi\n",
            "drwxr-xr-x 2 root root 4096 Mar 19 00:25 logs\n",
            "drwxr-xr-x 2 root root 4096 Mar 19 00:31 output\n",
            "drwxr-xr-x 1 root root 4096 Mar  5 14:37 sample_data\n"
          ],
          "name": "stdout"
        }
      ]
    },
    {
      "cell_type": "markdown",
      "metadata": {
        "id": "wJ9RYWAF4wF6"
      },
      "source": [
        "---\n",
        "##Setup: Fetch latest py4cytoscape\n",
        "\n",
        "\n"
      ]
    },
    {
      "cell_type": "markdown",
      "metadata": {
        "id": "9RVNEFryzJR3"
      },
      "source": [
        "**Note that you can fetch from a specific github branch by adding \"@<branch>\" to the \"py4cytocape\" at the end of the github URL.**\n",
        "\n",
        "For example, to get branch 0.0.5: git+https://github.com/cytoscape/py4cytoscape@0.0.5"
      ]
    },
    {
      "cell_type": "code",
      "metadata": {
        "id": "pW3Jhe2PMD9z",
        "colab": {
          "base_uri": "https://localhost:8080/"
        },
        "outputId": "c653979f-8f29-4c19-9265-31bda7955df6"
      },
      "source": [
        "!pip uninstall -y py4cytoscape\n",
        "\n",
        "#!pip install py4cytoscape\n",
        "!pip install git+https://github.com/cytoscape/py4cytoscape@0.0.8\n",
        "#!pip install git+https://github.com/cytoscape/py4cytoscape"
      ],
      "execution_count": 2,
      "outputs": [
        {
          "output_type": "stream",
          "text": [
            "Uninstalling py4cytoscape-0.0.8:\n",
            "  Successfully uninstalled py4cytoscape-0.0.8\n",
            "Collecting git+https://github.com/cytoscape/py4cytoscape@0.0.8\n",
            "  Cloning https://github.com/cytoscape/py4cytoscape (to revision 0.0.8) to /tmp/pip-req-build-xy130_cb\n",
            "  Running command git clone -q https://github.com/cytoscape/py4cytoscape /tmp/pip-req-build-xy130_cb\n",
            "  Running command git checkout -b 0.0.8 --track origin/0.0.8\n",
            "  Switched to a new branch '0.0.8'\n",
            "  Branch '0.0.8' set up to track remote branch '0.0.8' from 'origin'.\n",
            "Requirement already satisfied: pandas in /usr/local/lib/python3.7/dist-packages (from py4cytoscape==0.0.8) (1.1.5)\n",
            "Requirement already satisfied: networkx in /usr/local/lib/python3.7/dist-packages (from py4cytoscape==0.0.8) (2.5)\n",
            "Requirement already satisfied: requests in /usr/local/lib/python3.7/dist-packages (from py4cytoscape==0.0.8) (2.23.0)\n",
            "Requirement already satisfied: python-igraph in /usr/local/lib/python3.7/dist-packages (from py4cytoscape==0.0.8) (0.9.0)\n",
            "Requirement already satisfied: pytz>=2017.2 in /usr/local/lib/python3.7/dist-packages (from pandas->py4cytoscape==0.0.8) (2018.9)\n",
            "Requirement already satisfied: python-dateutil>=2.7.3 in /usr/local/lib/python3.7/dist-packages (from pandas->py4cytoscape==0.0.8) (2.8.1)\n",
            "Requirement already satisfied: numpy>=1.15.4 in /usr/local/lib/python3.7/dist-packages (from pandas->py4cytoscape==0.0.8) (1.19.5)\n",
            "Requirement already satisfied: decorator>=4.3.0 in /usr/local/lib/python3.7/dist-packages (from networkx->py4cytoscape==0.0.8) (4.4.2)\n",
            "Requirement already satisfied: idna<3,>=2.5 in /usr/local/lib/python3.7/dist-packages (from requests->py4cytoscape==0.0.8) (2.10)\n",
            "Requirement already satisfied: chardet<4,>=3.0.2 in /usr/local/lib/python3.7/dist-packages (from requests->py4cytoscape==0.0.8) (3.0.4)\n",
            "Requirement already satisfied: certifi>=2017.4.17 in /usr/local/lib/python3.7/dist-packages (from requests->py4cytoscape==0.0.8) (2020.12.5)\n",
            "Requirement already satisfied: urllib3!=1.25.0,!=1.25.1,<1.26,>=1.21.1 in /usr/local/lib/python3.7/dist-packages (from requests->py4cytoscape==0.0.8) (1.24.3)\n",
            "Requirement already satisfied: texttable>=1.6.2 in /usr/local/lib/python3.7/dist-packages (from python-igraph->py4cytoscape==0.0.8) (1.6.3)\n",
            "Requirement already satisfied: six>=1.5 in /usr/local/lib/python3.7/dist-packages (from python-dateutil>=2.7.3->pandas->py4cytoscape==0.0.8) (1.15.0)\n",
            "Building wheels for collected packages: py4cytoscape\n",
            "  Building wheel for py4cytoscape (setup.py) ... \u001b[?25l\u001b[?25hdone\n",
            "  Created wheel for py4cytoscape: filename=py4cytoscape-0.0.8-cp37-none-any.whl size=144178 sha256=b4b0a1f697ad704054d270e69e3358001a413df5b8f17a1763e855e4daf190f2\n",
            "  Stored in directory: /tmp/pip-ephem-wheel-cache-tnj4nmxc/wheels/50/fb/ad/2ef86b83249494e3b5793a114c7b3640f4c5f926fbfc9c23c8\n",
            "Successfully built py4cytoscape\n",
            "Installing collected packages: py4cytoscape\n",
            "Successfully installed py4cytoscape-0.0.8\n"
          ],
          "name": "stdout"
        }
      ]
    },
    {
      "cell_type": "markdown",
      "metadata": {
        "id": "q2bNAluIV5ZN"
      },
      "source": [
        "---\n",
        "##Setup: Set up Cytoscape connection\n"
      ]
    },
    {
      "cell_type": "code",
      "metadata": {
        "id": "QPBzaizACq3g",
        "colab": {
          "base_uri": "https://localhost:8080/",
          "height": 34
        },
        "outputId": "11d87f64-5618-4863-c0fd-5643c9469228"
      },
      "source": [
        "import IPython\n",
        "import py4cytoscape as p4c\n",
        "print(f'Loading Javascript client ... {p4c.get_browser_client_channel()} on {p4c.get_jupyter_bridge_url()}')\n",
        "browser_client_js = p4c.get_browser_client_js(True)\n",
        "IPython.display.Javascript(browser_client_js) # Start browser client\n"
      ],
      "execution_count": 3,
      "outputs": [
        {
          "output_type": "stream",
          "text": [
            "Loading Javascript client ... f40f6696-4ab1-4e6d-9407-516d3a034254 on https://jupyter-bridge.cytoscape.org\n"
          ],
          "name": "stdout"
        },
        {
          "output_type": "execute_result",
          "data": {
            "application/javascript": [
              "var showDebug = true; \n",
              "\n",
              "var Channel = \"f40f6696-4ab1-4e6d-9407-516d3a034254\"; \n",
              "\n",
              "var JupyterBridge = \"https://jupyter-bridge.cytoscape.org\"; \n",
              "\n",
              "  /*\n",
              "    These functions serve as a connector between a remote Jupyter server and Cytoscape.\n",
              "    They run in the user's browser, which also shows the Jupyter Notebook.\n",
              "\n",
              "    A remote Jupyter Notebook call to the py4cytoscape package is forwarded to the Jupyter Bridge,\n",
              "    which is a standalone server. The functions in this connector execute in the Jupyter Notebook\n",
              "    browser, which executes on the same PC as Cytoscape. So, that's 4 components: (A) remote\n",
              "    Jupyter Notebook, (B) separate Jupyter Bridge server, (C) this browser-based component, and\n",
              "    (D) Cytoscape. (A) is on a remote server, (B) is on a different remote server, and (C) and (D)\n",
              "    are on the user's PC.\n",
              "\n",
              "    (A) calls its py4cytoscape module, which forwards the request (in a JSON wrapper) to (B).\n",
              "    (C) picks up the request from (B), unpacks the request and forwards it to (D). (C) awaits a\n",
              "    reply from (D), and when it gets it, it forwards the reply (in a JSON wrapper) to (B).\n",
              "    (A)'s py4cytoscape module picks up the reply on (B) when it becomes available, unpacks it,\n",
              "    and returns it to (A).\n",
              "\n",
              "    A Jupyter Notebook can talk to only one Cytoscape (i.e., the one on the machine running the\n",
              "    Jupyter Notebook browser), and Cytoscape should be called by only one Jupyter Notebook. The\n",
              "    Jupyter Bridge differentiates between Notebook-Cytoscape conversations via a channel UUID.\n",
              "    The UUID is prepended to this browser component by py4Cytoscape, and the component is\n",
              "    started by the Jupyter Notebook. (I wish py4Cytoscape could start the component, too, but I\n",
              "    haven't figured out how to do that yet, so startup code *is* required in the Jupyter\n",
              "    Notebook.)\n",
              "\n",
              "    Note that for the case of a Jupyter server running on the same machine as Cytoscape, this\n",
              "    bridge isn't necessary because the Jupyter server's HTTP calls can easily connect to\n",
              "    Cytoscape over a localhost socket. So, the combination of Jupyter Bridge and this browser\n",
              "    component solves the problem of a Jupyter server (e.g., Google's Colab) that can't\n",
              "    connect to Cytoscape that sits behind a firewall.\n",
              "\n",
              "    The request represents an HTTP call that py4cytoscape would normally make via HTTP directly\n",
              "    to Cytoscape via localhost when both py4cytoscape and Cytoscape are running on the same machine.\n",
              " */\n",
              "\n",
              "const VERSION = '0.0.2'\n",
              "\n",
              "var showDebug; // Flag indicating whether to show Jupyter-bridge progress\n",
              "if (typeof showDebug === 'undefined') {\n",
              "    showDebug = false\n",
              "}\n",
              "if (showDebug) {\n",
              "    alert(\"Starting Jupyter-bridge browser component\")\n",
              "}\n",
              "\n",
              "//const JupyterBridge = 'http://127.0.0.1:5000' // for testing against local Jupyter-bridge\n",
              "var JupyterBridge; // URL of Jupyter-bridge server could be defined by assignment pre-pended to this file\n",
              "if (typeof JupyterBridge === 'undefined') {\n",
              "    JupyterBridge = 'https://jupyter-bridge.cytoscape.org' // for production\n",
              "}\n",
              "var Channel; // Unique constant that could be defined by assignment pre-pended to this file\n",
              "if (typeof Channel === 'undefined') { // ... but if not assigned, use a debugging value\n",
              "    Channel = 1\n",
              "}\n",
              "\n",
              "\n",
              "var httpR = new XMLHttpRequest(); // for sending reply to Jupyter-bridge\n",
              "var httpRE = new XMLHttpRequest(); // for sending backup error reply to Jupyter-bridge\n",
              "var httpC = new XMLHttpRequest(); // for sending command to Cytoscape\n",
              "var httpJ = new XMLHttpRequest(); // for fetching request from Jupyter-bridge\n",
              "\n",
              "const HTTP_OK = 200\n",
              "const HTTP_SYS_ERR = 500\n",
              "const HTTP_TIMEOUT = 408\n",
              "const HTTP_TOO_MANY = 429\n",
              "\n",
              "\n",
              " /* This function is useful if we want to rewrite the incoming URL to resolve just to our local one.\n",
              "    Doing this stops the Jupyter component from abusing this client to call out to endpoints other\n",
              "    than local Cytoscape. On the other hand, it makes it hard to detect when the Jupyter component\n",
              "    has specified a genuinely bad URL and really should get an error result. For now, we'll execute\n",
              "    the Jupyter-supplied URL and return the result, whatever it may be.\n",
              "\n",
              "const LocalCytoscape = 'http://127.0.0.1:1234'\n",
              "\n",
              "function parseURL(url) {\n",
              "    var reURLInformation = new RegExp([\n",
              "        '^(https?:)//', // protocol\n",
              "        '(([^:/?#]*)(?::([0-9]+))?)', // host (hostname and port)\n",
              "        '(/{0,1}[^?#]*)', // pathname\n",
              "        '(\\\\?[^#]*|)', // search\n",
              "        '(#.*|)$' // hash\n",
              "    ].join(''));\n",
              "    var match = url.match(reURLInformation);\n",
              "    return match && {\n",
              "        url: url,\n",
              "        protocol: match[1],\n",
              "        host: match[2],\n",
              "        hostname: match[3],\n",
              "        port: match[4],\n",
              "        pathname: match[5],\n",
              "        search: match[6],\n",
              "        hash: match[7]\n",
              "    }\n",
              "}\n",
              "*/\n",
              "\n",
              "function replyCytoscape(replyStatus, replyStatusText, replyText) {\n",
              "\n",
              "    // Clean up after Jupyter bridge accepts reply\n",
              "    httpR.onreadystatechange = function() {\n",
              "        if (httpR.readyState === 4) {\n",
              "            if (showDebug) {\n",
              "                console.log(' status from queue_reply: ' + httpR.status + ', reply: ' + httpR.responseText)\n",
              "            }\n",
              "        }\n",
              "    }\n",
              "\n",
              "    httpR.onerror = function() {\n",
              "        // Clean up after Jupyter bridge accepts backup reply\n",
              "        httpRE.onreadystatechange = function() {\n",
              "            if (httpRE.readyState === 4) {\n",
              "                if (showDebug) {\n",
              "                    console.log(' status from backup queue_reply: ' + httpRE.status + ', reply: ' + httpRE.responseText)\n",
              "                }\n",
              "            }\n",
              "        }\n",
              "\n",
              "        if (showDebug) {\n",
              "            console.log(' error from queue_reply -- could be Jupyter-Bridge server reject')\n",
              "        }\n",
              "        var errReply = {'status': HTTP_SYS_ERR, 'reason': 'Jupyter-Bridge rejected reply', 'text': 'Possibly reply is too long for Jupyter-Bridge server'}\n",
              "        httpRE.open('POST', jupyterBridgeURL, true)\n",
              "        httpRE.setRequestHeader('Content-Type', 'text/plain')\n",
              "        httpRE.send(JSON.stringify(errReply))\n",
              "    }\n",
              "\n",
              "    var reply = {'status': replyStatus, 'reason': replyStatusText, 'text': replyText}\n",
              "\n",
              "    // Send reply to Jupyter bridge\n",
              "    var jupyterBridgeURL = JupyterBridge + '/queue_reply?channel=' + Channel\n",
              "    if (showDebug) {\n",
              "        console.log('Starting queue to Jupyter bridge: ' + jupyterBridgeURL)\n",
              "    }\n",
              "    httpR.open('POST', jupyterBridgeURL, true)\n",
              "    httpR.setRequestHeader('Content-Type', 'text/plain')\n",
              "    httpR.send(JSON.stringify(reply))\n",
              "}\n",
              "\n",
              "function callCytoscape(callSpec) {\n",
              "\n",
              "    // Captures Cytoscape reply and sends it on\n",
              "    httpC.onreadystatechange = function() {\n",
              "        if (httpC.readyState === 4) {\n",
              "            if (showDebug) {\n",
              "                console.log(' status from CyREST: ' + httpC.status + ', statusText: ' + httpC.statusText + ', reply: ' + httpC.responseText)\n",
              "            }\n",
              "            // Note that httpC.status is 0 if the URL can't be reached *OR* there is a CORS violation.\n",
              "            // I wish I could tell the difference because for a CORS violation, I'd return a 404,\n",
              "            // which would roughly match what Python's native request package would return.\n",
              "            // The practical consequence is that the ultimate caller (e.g., py4cytoscape)\n",
              "            // returns different exceptions, depending on wither this module is doing the\n",
              "            // HTTP operation or the native Python requests package is. This is minor, but\n",
              "            // messes up tests that verify the exception type.\n",
              "            replyCytoscape(httpC.status, httpC.statusText, httpC.responseText)\n",
              "            waitOnJupyterBridge()\n",
              "        }\n",
              "    }\n",
              "\n",
              "//  Build up request to Cytoscape, making sure host is local.\n",
              "//    Too heavy handed: localURL = LocalCytoscape + parseURL(callSpec.url).pathname\n",
              "    var localURL = callSpec.url // Try using what was passed in ... is there a security risk??\n",
              "\n",
              "    if (showDebug) {\n",
              "        console.log('Command to CyREST: ' + callSpec.command + ' (' + localURL + ')')\n",
              "        if (callSpec.params) {\n",
              "            console.log(' params: ' + JSON.stringify(callSpec.params))\n",
              "        }\n",
              "        if (callSpec.headers) {\n",
              "            console.log(' header: ' + JSON.stringify(callSpec.headers))\n",
              "        }\n",
              "        if (callSpec.data) {\n",
              "            console.log('   data: ' + JSON.stringify(callSpec.data))\n",
              "        }\n",
              "    }\n",
              "\n",
              "    if (callSpec.command === 'webbrowser') {\n",
              "        if (window.open(callSpec.url)) {\n",
              "            replyCytoscape(HTTP_OK, 'OK', '')\n",
              "        } else {\n",
              "            replyCytoscape(HTTP_SYS_ERR, 'BAD BROWSER OPEN', '')\n",
              "        }\n",
              "        waitOnJupyterBridge()\n",
              "    } else if (callSpec.command === 'version') {\n",
              "        replyCytoscape(HTTP_OK, 'OK',\n",
              "            JSON.stringify({\"jupyterBridgeVersion\": VERSION}))\n",
              "        waitOnJupyterBridge()\n",
              "    } else {\n",
              "        var joiner = '?'\n",
              "        for (let param in callSpec.params) {\n",
              "            localURL = localURL + joiner + param + '=' + encodeURIComponent(callSpec.params[param])\n",
              "            joiner = '&'\n",
              "        }\n",
              "\n",
              "        httpC.open(callSpec.command, localURL, true)\n",
              "        for (let header in callSpec.headers) {\n",
              "            httpC.setRequestHeader(header, callSpec.headers[header])\n",
              "        }\n",
              "\n",
              "        // Send request to Cytoscape ... reply goes to onreadystatechange handler\n",
              "        httpC.send(JSON.stringify(callSpec.data))\n",
              "    }\n",
              "}\n",
              "\n",
              "function waitOnJupyterBridge() {\n",
              "\n",
              "    // Captures request from Jupyter bridge\n",
              "    httpJ.onreadystatechange = function() {\n",
              "        if (httpJ.readyState === 4) {\n",
              "            if (showDebug) {\n",
              "                console.log(' status from dequeue_request: ' + httpJ.status + ', reply: ' + httpJ.responseText)\n",
              "            }\n",
              "            try {\n",
              "                if (httpJ.status == HTTP_TOO_MANY) {\n",
              "                    // Nothing more to do ... the browser has created too many listeners,\n",
              "                    // and it's time to stop listening because the server saw a listener\n",
              "                    // listening on this channel before we got there.\n",
              "                    console.log('  shutting down because of redundant reader on channel: ' + Channel)\n",
              "                } else {\n",
              "                    if (httpJ.status === HTTP_TIMEOUT) {\n",
              "                        waitOnJupyterBridge()\n",
              "                    } else {\n",
              "                        callCytoscape(JSON.parse(httpJ.responseText))\n",
              "                    }\n",
              "                }\n",
              "            } catch(err) {\n",
              "                if (showDebug) {\n",
              "                    console.log(' exception calling Cytoscape: ' + err)\n",
              "                }\n",
              "                // Bad responseText means something bad happened that we don't understand.\n",
              "                // Go wait on another request, as there's nothing to call Cytoscape with.\n",
              "                waitOnJupyterBridge()\n",
              "            }\n",
              "        }\n",
              "    }\n",
              "\n",
              "    // Wait for request from Jupyter bridge\n",
              "    var jupyterBridgeURL = JupyterBridge + '/dequeue_request?channel=' + Channel\n",
              "    if (showDebug) {\n",
              "        console.log('Starting dequeue on Jupyter bridge: ' + jupyterBridgeURL)\n",
              "    }\n",
              "    httpJ.open('GET', jupyterBridgeURL, true)\n",
              "    httpJ.send()\n",
              "}\n",
              "\n",
              "// This kicks off a loop that ends by calling waitOnJupyterBridge again. This first call\n",
              "// ejects any dead readers before we start a read\n",
              "waitOnJupyterBridge() // Wait for message from Jupyter bridge, execute it, and return reply\n",
              "\n",
              "if (showDebug) {\n",
              "    alert(\"Jupyter-bridge browser component is started on \" + JupyterBridge + ', channel ' + Channel)\n",
              "}\n"
            ],
            "text/plain": [
              "<IPython.core.display.Javascript object>"
            ]
          },
          "metadata": {
            "tags": []
          },
          "execution_count": 3
        }
      ]
    },
    {
      "cell_type": "markdown",
      "metadata": {
        "id": "sTJwg_HN3WPH"
      },
      "source": [
        "---\n",
        "#Sanity test to verify Cytoscape connection\n"
      ]
    },
    {
      "cell_type": "code",
      "metadata": {
        "id": "sP5J_ey7C_t6",
        "colab": {
          "base_uri": "https://localhost:8080/"
        },
        "outputId": "d323b601-8278-400d-e622-38f94093db49"
      },
      "source": [
        "p4c.cytoscape_version_info()\n"
      ],
      "execution_count": 4,
      "outputs": [
        {
          "output_type": "execute_result",
          "data": {
            "text/plain": [
              "{'apiVersion': 'v1',\n",
              " 'automationAPIVersion': '1.0.0',\n",
              " 'cytoscapeVersion': '3.9.0-SNAPSHOT',\n",
              " 'jupyterBridgeVersion': '0.0.2',\n",
              " 'py4cytoscapeVersion': '0.0.8'}"
            ]
          },
          "metadata": {
            "tags": []
          },
          "execution_count": 4
        }
      ]
    },
    {
      "cell_type": "markdown",
      "metadata": {
        "id": "MgvPeSXc3iUa"
      },
      "source": [
        "---\n",
        "# Position network files into Cytoscape's current sandbox"
      ]
    },
    {
      "cell_type": "markdown",
      "metadata": {
        "id": "RlKSyX07FVL-"
      },
      "source": [
        "**Sandboxing is explained in https://py4cytoscape.readthedocs.io/en/latest/concepts.html#sandboxing**"
      ]
    },
    {
      "cell_type": "code",
      "metadata": {
        "id": "xWrKAv3Z-xD5",
        "colab": {
          "base_uri": "https://localhost:8080/"
        },
        "outputId": "69bf602d-46e2-4643-8f2f-c2c6e3a8f0c6"
      },
      "source": [
        "barabasi = {}\n",
        "barabasi['disease_net_txt'] = p4c.sandbox_url_to('https://github.com/bdemchak/cytoscape-jupyter/blob/main/gangsu/Barabasi/disease.net.txt', 'disease.net.txt')\n",
        "barabasi['gene_net_txt'] = p4c.sandbox_url_to('https://github.com/bdemchak/cytoscape-jupyter/blob/main/gangsu/Barabasi/gene.net.txt', 'gene.net.txt')\n",
        "barabasi['supp_tablesS2_txt'] = p4c.sandbox_url_to('https://github.com/bdemchak/cytoscape-jupyter/blob/main/gangsu/Barabasi/supplementary_tableS2.txt', 'supplementary_tableS2.txt')\n",
        "barabasi['supp_tablesS3_txt'] = p4c.sandbox_url_to('https://github.com/bdemchak/cytoscape-jupyter/blob/main/gangsu/Barabasi/supplementary_tableS3.txt', 'supplementary_tableS3.txt')\n",
        "barabasi['supp_tablesS4_txt'] = p4c.sandbox_url_to('https://github.com/bdemchak/cytoscape-jupyter/blob/main/gangsu/Barabasi/supplementary_tableS4.txt', 'supplementary_tableS4.txt')\n",
        "print(barabasi)\n"
      ],
      "execution_count": 6,
      "outputs": [
        {
          "output_type": "stream",
          "text": [
            "{'disease_net_txt': {'filePath': 'C:\\\\Users\\\\CyDeveloper\\\\CytoscapeConfiguration\\\\filetransfer\\\\default_sandbox\\\\disease.net.txt', 'fileByteCount': 35861}, 'gene_net_txt': {'filePath': 'C:\\\\Users\\\\CyDeveloper\\\\CytoscapeConfiguration\\\\filetransfer\\\\default_sandbox\\\\gene.net.txt', 'fileByteCount': 197835}, 'supp_tablesS2_txt': {'filePath': 'C:\\\\Users\\\\CyDeveloper\\\\CytoscapeConfiguration\\\\filetransfer\\\\default_sandbox\\\\supplementary_tableS2.txt', 'fileByteCount': 97916}, 'supp_tablesS3_txt': {'filePath': 'C:\\\\Users\\\\CyDeveloper\\\\CytoscapeConfiguration\\\\filetransfer\\\\default_sandbox\\\\supplementary_tableS3.txt', 'fileByteCount': 127626}, 'supp_tablesS4_txt': {'filePath': 'C:\\\\Users\\\\CyDeveloper\\\\CytoscapeConfiguration\\\\filetransfer\\\\default_sandbox\\\\supplementary_tableS4.txt', 'fileByteCount': 557710}}\n"
          ],
          "name": "stdout"
        }
      ]
    },
    {
      "cell_type": "markdown",
      "metadata": {
        "id": "h9cZXTLrKsUd"
      },
      "source": [
        "\n",
        "---\n",
        "#Explore the protein-protein interaction network."
      ]
    },
    {
      "cell_type": "markdown",
      "metadata": {
        "id": "HxnxPpnYRQmH"
      },
      "source": [
        "First, load the protein-protein network into Cytoscape."
      ]
    },
    {
      "cell_type": "markdown",
      "metadata": {
        "id": "iCbKkC2FVTLF"
      },
      "source": [
        "This could take a few minutes because of the automatic force-directed layout.\n"
      ]
    },
    {
      "cell_type": "code",
      "metadata": {
        "colab": {
          "base_uri": "https://localhost:8080/"
        },
        "id": "MQiO5W_uK1K6",
        "outputId": "5de52ef8-bb7d-467c-93ea-c34f455e5692"
      },
      "source": [
        "p4c.close_session(False)\n",
        "p4c.import_network_from_file('supplementary_tableS4.txt', tabular_params={'firstRowAsColumnNames': True, 'startLoadRow': 2, 'columnTypeList': 'x,s,x,t,i'})\n"
      ],
      "execution_count": 7,
      "outputs": [
        {
          "output_type": "execute_result",
          "data": {
            "text/plain": [
              "{'networks': [40899], 'views': [129573]}"
            ]
          },
          "metadata": {
            "tags": []
          },
          "execution_count": 7
        }
      ]
    },
    {
      "cell_type": "markdown",
      "metadata": {
        "id": "uq9LTzzpIpRA"
      },
      "source": [
        "##Layout and overlay information on the network"
      ]
    },
    {
      "cell_type": "markdown",
      "metadata": {
        "id": "bauOpYwxVtHl"
      },
      "source": [
        "1.   Create a different colors for the edges representing different types of interactions.\n",
        "2.   Make the nodes themselves transparent so edges are easier to see.\n",
        "3.   For fun, create an image of the resulting network and display it in this notebook.\n"
      ]
    },
    {
      "cell_type": "code",
      "metadata": {
        "colab": {
          "base_uri": "https://localhost:8080/",
          "height": 302
        },
        "id": "8KqK58RuA1HK",
        "outputId": "2ea55d6b-9128-4078-fdd5-ee77aa45153b"
      },
      "source": [
        "RED = '#ff0000'\n",
        "GREEN = '#00ff00'\n",
        "TEAL = '#00ffff'\n",
        "PURPLE = '#ff00ff'\n",
        "YELLOW = '#ffff00', \n",
        "BLUE = '#0000ff'\n",
        "GREY = '#808080'\n",
        "\n",
        "map = p4c.map_visual_property('EDGE_STROKE_UNSELECTED_PAINT', 'interaction', 'discrete', \n",
        "                              ['L', 'R', 'RL', 'RS', 'RSL', 'S', 'SL'], \n",
        "                              [RED, GREEN, TEAL, PURPLE, YELLOW, BLUE, GREY])\n",
        "p4c.update_style_mapping('default', map)\n",
        "\n",
        "p4c.set_node_fill_opacity_default(100, 'default')\n",
        "p4c.toggle_graphics_details()\n",
        "\n",
        "OUT_FILE = 'WholeNetwork.png'\n",
        "p4c.export_image(OUT_FILE)\n",
        "p4c.sandbox_get_from(OUT_FILE, f'{OUTPUT_DIR}{OUT_FILE}')\n",
        "\n",
        "from IPython.display import Image, display\n",
        "display(Image(filename=f'{OUTPUT_DIR}{OUT_FILE}'))"
      ],
      "execution_count": 8,
      "outputs": [
        {
          "output_type": "display_data",
          "data": {
            "image/png": "[encoded data removed]",
            "text/plain": [
              "<IPython.core.display.Image object>"
            ]
          },
          "metadata": {
            "tags": []
          }
        }
      ]
    },
    {
      "cell_type": "markdown",
      "metadata": {
        "id": "R8Jemd38QqKE"
      },
      "source": [
        "## Discover local gene clusters using MCODE"
      ]
    },
    {
      "cell_type": "markdown",
      "metadata": {
        "id": "QUZrMfLPQvuC"
      },
      "source": [
        "Call MCODE to cluster genes using default settings, and then extract the second cluster into a network of its own.\n",
        "\n",
        "For fun, export the network image and show it in this notebook."
      ]
    },
    {
      "cell_type": "code",
      "metadata": {
        "colab": {
          "base_uri": "https://localhost:8080/",
          "height": 319
        },
        "id": "3LcTZRcp_AHb",
        "outputId": "39349854-b169-4d6a-ba0a-56697d216deb"
      },
      "source": [
        "p4c.install_app('MCODE')\n",
        "p4c.commands_post('mcode cluster network=\"\"')\n",
        "p4c.commands.commands_post('mcode view id=1 rank=2')\n",
        "\n",
        "OUT_FILE = 'Cluster.png'\n",
        "p4c.export_image(OUT_FILE)\n",
        "p4c.sandbox_get_from(OUT_FILE, f'{OUTPUT_DIR}{OUT_FILE}')\n",
        "\n",
        "from IPython.display import Image, display\n",
        "display(Image(filename=f'{OUTPUT_DIR}{OUT_FILE}'))"
      ],
      "execution_count": 9,
      "outputs": [
        {
          "output_type": "stream",
          "text": [
            "{}\n"
          ],
          "name": "stdout"
        },
        {
          "output_type": "display_data",
          "data": {
            "image/png": "[encoded data removed]",
            "text/plain": [
              "<IPython.core.display.Image object>"
            ]
          },
          "metadata": {
            "tags": []
          }
        }
      ]
    },
    {
      "cell_type": "markdown",
      "metadata": {
        "id": "hPmyQ2S0Sw8l"
      },
      "source": [
        "---\n",
        "# Explore the human disease network"
      ]
    },
    {
      "cell_type": "markdown",
      "metadata": {
        "id": "x5dwV97tXgwY"
      },
      "source": [
        "First, load the disease network into Cytoscape.\n",
        "\n",
        "Note that the delimiter between values is \" \""
      ]
    },
    {
      "cell_type": "code",
      "metadata": {
        "colab": {
          "base_uri": "https://localhost:8080/"
        },
        "id": "f-eZRmIPS5uT",
        "outputId": "9ac68e0c-f5b6-4067-f601-65534b1b0572"
      },
      "source": [
        "p4c.close_session(False)\n",
        "p4c.import_network_from_file('disease.net.txt', tabular_params={'firstRowAsColumnNames': True, 'startLoadRow': 1, 'columnTypeList': 's,t,ea', 'delimiters': ' '})\n",
        "\n"
      ],
      "execution_count": 11,
      "outputs": [
        {
          "output_type": "execute_result",
          "data": {
            "text/plain": [
              "{'networks': [475647], 'views': [487445]}"
            ]
          },
          "metadata": {
            "tags": []
          },
          "execution_count": 11
        }
      ]
    },
    {
      "cell_type": "markdown",
      "metadata": {
        "id": "G477dQWQZ9BM"
      },
      "source": [
        "There are lots of duplicate edges, so remove duplicates.\n",
        "\n",
        "Note that we'd prefer to use delete_duplicate_edges() for this, but it doesn't work for this case. I suspect it's because it doesn't offer a distinction between directional and non-directional edges.\n",
        "\n",
        "Better to extend CyREST to expose duplicate edge deletion.\n",
        "\n",
        "TODO: get this fixed."
      ]
    },
    {
      "cell_type": "markdown",
      "metadata": {
        "id": "miZ6D_C5HxRs"
      },
      "source": [
        "**NOTE:** This is tracked as CYTOSCAPE-12767 ... when it's fixed, verify it in this code"
      ]
    },
    {
      "cell_type": "code",
      "metadata": {
        "colab": {
          "base_uri": "https://localhost:8080/",
          "height": 52
        },
        "id": "zavMXVXBZ9as",
        "outputId": "b1827603-2f8e-43d4-bb6d-645d38034be9"
      },
      "source": [
        "#p4c.delete_duplicate_edges()\n",
        "input('Execute Edit | Remove Duplicate Edges manually ... select \"disease.net.txt\" ... check \"Ignore edge direction\"')"
      ],
      "execution_count": null,
      "outputs": [
        {
          "output_type": "stream",
          "text": [
            "Execute Edit | Remove Duplicate Edges manually ... select \"disease.net.txt\" ... check \"Ignore edge direction\"\n"
          ],
          "name": "stdout"
        },
        {
          "output_type": "execute_result",
          "data": {
            "application/vnd.google.colaboratory.intrinsic+json": {
              "type": "string"
            },
            "text/plain": [
              "''"
            ]
          },
          "metadata": {
            "tags": []
          },
          "execution_count": 11
        }
      ]
    },
    {
      "cell_type": "markdown",
      "metadata": {
        "id": "z39LjBHVdNeh"
      },
      "source": [
        "## Annotate network with S2 table values"
      ]
    },
    {
      "cell_type": "markdown",
      "metadata": {
        "id": "51837W_PdarD"
      },
      "source": [
        "Use Pandas to parse the data because we need to rename the 'name' column to 'Disease Name' to avoid conflicts with the network's existing 'name' column.\n",
        "\n",
        "Once that is done, we can import the annotations into the node table, keyed on the 'Disease ID' column. Note that Pandas would naturally import Disease ID as an int, but we coerce it to str to be compatible with the network's 'name' column."
      ]
    },
    {
      "cell_type": "code",
      "metadata": {
        "colab": {
          "base_uri": "https://localhost:8080/",
          "height": 487
        },
        "id": "Utv1tbaqiHUE",
        "outputId": "973c23a3-625e-4208-b041-64718b7e53f3"
      },
      "source": [
        "p4c.sandbox_get_from('supplementary_tableS2.txt', 'Barabasi/supplementary_tableS2.txt')\n",
        "import pandas as df\n",
        "disease_table = df.read_csv('Barabasi/supplementary_tableS2.txt', sep='\\t', header=1, dtype={'Disease ID':str})\n",
        "disease_table.rename({'Name': 'Disease Name'}, axis=1, inplace=True)\n",
        "disease_table"
      ],
      "execution_count": 12,
      "outputs": [
        {
          "output_type": "execute_result",
          "data": {
            "text/html": [
              "<div>\n",
              "<style scoped>\n",
              "    .dataframe tbody tr th:only-of-type {\n",
              "        vertical-align: middle;\n",
              "    }\n",
              "\n",
              "    .dataframe tbody tr th {\n",
              "        vertical-align: top;\n",
              "    }\n",
              "\n",
              "    .dataframe thead th {\n",
              "        text-align: right;\n",
              "    }\n",
              "</style>\n",
              "<table border=\"1\" class=\"dataframe\">\n",
              "  <thead>\n",
              "    <tr style=\"text-align: right;\">\n",
              "      <th></th>\n",
              "      <th>Disease ID</th>\n",
              "      <th>Disease Name</th>\n",
              "      <th>Disorder class</th>\n",
              "      <th>Size (s)</th>\n",
              "      <th>Degree (k)</th>\n",
              "      <th>Class-degree (k)</th>\n",
              "      <th>Genes implicated (Entrez ID) [comma-deliminated]</th>\n",
              "    </tr>\n",
              "  </thead>\n",
              "  <tbody>\n",
              "    <tr>\n",
              "      <th>0</th>\n",
              "      <td>1</td>\n",
              "      <td>17,20-lyase_deficiency</td>\n",
              "      <td>Endocrine</td>\n",
              "      <td>1</td>\n",
              "      <td>0</td>\n",
              "      <td>0</td>\n",
              "      <td>CYP17A1 (1586)</td>\n",
              "    </tr>\n",
              "    <tr>\n",
              "      <th>1</th>\n",
              "      <td>3</td>\n",
              "      <td>2-methyl-3-hydroxybutyryl-CoA_dehydrogenase_de...</td>\n",
              "      <td>Metabolic</td>\n",
              "      <td>1</td>\n",
              "      <td>0</td>\n",
              "      <td>0</td>\n",
              "      <td>HADH2 (3028)</td>\n",
              "    </tr>\n",
              "    <tr>\n",
              "      <th>2</th>\n",
              "      <td>4</td>\n",
              "      <td>2-methylbutyrylglycinuria</td>\n",
              "      <td>Metabolic</td>\n",
              "      <td>1</td>\n",
              "      <td>0</td>\n",
              "      <td>0</td>\n",
              "      <td>ACADSB (36)</td>\n",
              "    </tr>\n",
              "    <tr>\n",
              "      <th>3</th>\n",
              "      <td>5</td>\n",
              "      <td>3-beta-hydroxysteroid_dehydrogenase,_type_II,_...</td>\n",
              "      <td>Metabolic</td>\n",
              "      <td>1</td>\n",
              "      <td>0</td>\n",
              "      <td>0</td>\n",
              "      <td>HSD3B2 (3284)</td>\n",
              "    </tr>\n",
              "    <tr>\n",
              "      <th>4</th>\n",
              "      <td>6</td>\n",
              "      <td>3-hydroxyacyl-CoA_dehydrogenase_deficiency</td>\n",
              "      <td>Metabolic</td>\n",
              "      <td>1</td>\n",
              "      <td>0</td>\n",
              "      <td>0</td>\n",
              "      <td>HADHSC (3033)</td>\n",
              "    </tr>\n",
              "    <tr>\n",
              "      <th>...</th>\n",
              "      <td>...</td>\n",
              "      <td>...</td>\n",
              "      <td>...</td>\n",
              "      <td>...</td>\n",
              "      <td>...</td>\n",
              "      <td>...</td>\n",
              "      <td>...</td>\n",
              "    </tr>\n",
              "    <tr>\n",
              "      <th>1279</th>\n",
              "      <td>8350</td>\n",
              "      <td>Combined_SAP_deficiency</td>\n",
              "      <td>Metabolic</td>\n",
              "      <td>1</td>\n",
              "      <td>2</td>\n",
              "      <td>2</td>\n",
              "      <td>PSAP (5660)</td>\n",
              "    </tr>\n",
              "    <tr>\n",
              "      <th>1280</th>\n",
              "      <td>9037</td>\n",
              "      <td>Multiple_myeloma</td>\n",
              "      <td>Cancer</td>\n",
              "      <td>2</td>\n",
              "      <td>1</td>\n",
              "      <td>0</td>\n",
              "      <td>IRF4 (3662), LIG4 (3981)</td>\n",
              "    </tr>\n",
              "    <tr>\n",
              "      <th>1281</th>\n",
              "      <td>9038</td>\n",
              "      <td>Multiple_sclerosis</td>\n",
              "      <td>Neurological</td>\n",
              "      <td>2</td>\n",
              "      <td>3</td>\n",
              "      <td>2</td>\n",
              "      <td>CIITA (4261), PTPRC (5788)</td>\n",
              "    </tr>\n",
              "    <tr>\n",
              "      <th>1282</th>\n",
              "      <td>9039</td>\n",
              "      <td>Multiple_sulfatase_deficiency</td>\n",
              "      <td>Metabolic</td>\n",
              "      <td>1</td>\n",
              "      <td>0</td>\n",
              "      <td>0</td>\n",
              "      <td>SUMF1 (285362)</td>\n",
              "    </tr>\n",
              "    <tr>\n",
              "      <th>1283</th>\n",
              "      <td>9308</td>\n",
              "      <td>Renal_tubular_dysgenesis</td>\n",
              "      <td>Renal</td>\n",
              "      <td>4</td>\n",
              "      <td>8</td>\n",
              "      <td>4</td>\n",
              "      <td>ACE (1636), AGTR1 (185), AGT (183), REN (5972)</td>\n",
              "    </tr>\n",
              "  </tbody>\n",
              "</table>\n",
              "<p>1284 rows × 7 columns</p>\n",
              "</div>"
            ],
            "text/plain": [
              "     Disease ID  ... Genes implicated (Entrez ID) [comma-deliminated]\n",
              "0             1  ...                                   CYP17A1 (1586)\n",
              "1             3  ...                                     HADH2 (3028)\n",
              "2             4  ...                                      ACADSB (36)\n",
              "3             5  ...                                    HSD3B2 (3284)\n",
              "4             6  ...                                    HADHSC (3033)\n",
              "...         ...  ...                                              ...\n",
              "1279       8350  ...                                      PSAP (5660)\n",
              "1280       9037  ...                         IRF4 (3662), LIG4 (3981)\n",
              "1281       9038  ...                       CIITA (4261), PTPRC (5788)\n",
              "1282       9039  ...                                   SUMF1 (285362)\n",
              "1283       9308  ...   ACE (1636), AGTR1 (185), AGT (183), REN (5972)\n",
              "\n",
              "[1284 rows x 7 columns]"
            ]
          },
          "metadata": {
            "tags": []
          },
          "execution_count": 12
        }
      ]
    },
    {
      "cell_type": "code",
      "metadata": {
        "id": "sAuTeSpqNahz",
        "colab": {
          "base_uri": "https://localhost:8080/",
          "height": 137
        },
        "outputId": "758c26bc-88fb-4717-ce3d-6d9fd6e87618"
      },
      "source": [
        "p4c.load_table_data(disease_table, data_key_column='Disease ID')"
      ],
      "execution_count": 13,
      "outputs": [
        {
          "output_type": "stream",
          "text": [
            "/usr/local/lib/python3.7/dist-packages/py4cytoscape/tables.py:470: SettingWithCopyWarning: \n",
            "A value is trying to be set on a copy of a slice from a DataFrame.\n",
            "Try using .loc[row_indexer,col_indexer] = value instead\n",
            "\n",
            "See the caveats in the documentation: https://pandas.pydata.org/pandas-docs/stable/user_guide/indexing.html#returning-a-view-versus-a-copy\n",
            "  data_subset[col] = col_val\n"
          ],
          "name": "stderr"
        },
        {
          "output_type": "execute_result",
          "data": {
            "application/vnd.google.colaboratory.intrinsic+json": {
              "type": "string"
            },
            "text/plain": [
              "'Success: Data loaded in defaultnode table'"
            ]
          },
          "metadata": {
            "tags": []
          },
          "execution_count": 13
        }
      ]
    },
    {
      "cell_type": "markdown",
      "metadata": {
        "id": "y-Wc1V5oi6CW"
      },
      "source": [
        "## Search for and select all nodes that have any attribute having to do with Neuro."
      ]
    },
    {
      "cell_type": "markdown",
      "metadata": {
        "id": "8OF1BwzBQdWf"
      },
      "source": [
        "Create a filter that identifies the term `Neuro` in each description column, then create a composite filter that selects all nodes that match either filter."
      ]
    },
    {
      "cell_type": "code",
      "metadata": {
        "id": "dalK8ZJh4OKo",
        "colab": {
          "base_uri": "https://localhost:8080/"
        },
        "outputId": "92ec4209-3620-4c1d-9100-4fb7e2364779"
      },
      "source": [
        "p4c.create_column_filter('Find Neuro in Name', 'Disease Name', 'Neuro', 'CONTAINS', apply=False)\n",
        "p4c.create_column_filter('Find Neuro in class', 'Disorder class', 'Neuro', 'CONTAINS', apply=False)\n",
        "p4c.create_composite_filter('Find Neuro', ['Find Neuro in Name', 'Find Neuro in class'], type='ANY')"
      ],
      "execution_count": 16,
      "outputs": [
        {
          "output_type": "stream",
          "text": [
            "No edges selected.\n"
          ],
          "name": "stdout"
        },
        {
          "output_type": "execute_result",
          "data": {
            "text/plain": [
              "{'edges': None,\n",
              " 'nodes': ['942',\n",
              "  '908',\n",
              "  '807',\n",
              "  '461',\n",
              "  '1196',\n",
              "  '811',\n",
              "  '1057',\n",
              "  '1055',\n",
              "  '817',\n",
              "  '1097',\n",
              "  '990',\n",
              "  '1095',\n",
              "  '1096',\n",
              "  '891',\n",
              "  '1171',\n",
              "  '1198',\n",
              "  '4291',\n",
              "  '1200',\n",
              "  '734',\n",
              "  '984',\n",
              "  '497',\n",
              "  '289',\n",
              "  '1091',\n",
              "  '656',\n",
              "  '1396',\n",
              "  '1428',\n",
              "  '1192',\n",
              "  '291',\n",
              "  '676',\n",
              "  '1456',\n",
              "  '296',\n",
              "  '295',\n",
              "  '301',\n",
              "  '1099',\n",
              "  '56',\n",
              "  '1307',\n",
              "  '57',\n",
              "  '318',\n",
              "  '103',\n",
              "  '996',\n",
              "  '1117',\n",
              "  '877',\n",
              "  '1376',\n",
              "  '86',\n",
              "  '96',\n",
              "  '98',\n",
              "  '1013',\n",
              "  '1093',\n",
              "  '412',\n",
              "  '1225',\n",
              "  '102',\n",
              "  '1092',\n",
              "  '913',\n",
              "  '104',\n",
              "  '1261',\n",
              "  '1418',\n",
              "  '359',\n",
              "  '2385',\n",
              "  '1253',\n",
              "  '1321',\n",
              "  '733',\n",
              "  '3260',\n",
              "  '1007',\n",
              "  '226',\n",
              "  '712',\n",
              "  '581',\n",
              "  '388',\n",
              "  '708',\n",
              "  '1263',\n",
              "  '988',\n",
              "  '1440',\n",
              "  '725',\n",
              "  '4188',\n",
              "  '1022',\n",
              "  '829',\n",
              "  '985',\n",
              "  '495',\n",
              "  '154',\n",
              "  '162',\n",
              "  '220',\n",
              "  '1462',\n",
              "  '1174',\n",
              "  '1476',\n",
              "  '462',\n",
              "  '9038',\n",
              "  '1098']}"
            ]
          },
          "metadata": {
            "tags": []
          },
          "execution_count": 16
        }
      ]
    },
    {
      "cell_type": "markdown",
      "metadata": {
        "id": "-u1KKTHsjDiM"
      },
      "source": [
        "## Randomly assign colors to each disease"
      ]
    },
    {
      "cell_type": "markdown",
      "metadata": {
        "id": "Ndk16YRwQykj"
      },
      "source": [
        "TODO: Figure out how to do mapping value generator to randomly assign colors for node Fill Color"
      ]
    },
    {
      "cell_type": "markdown",
      "metadata": {
        "id": "xxSl6G8MJh3G"
      },
      "source": [
        "**NOTE:** This is tracked as CSD-437. When it's fixed, use it here."
      ]
    },
    {
      "cell_type": "markdown",
      "metadata": {
        "id": "vI5ko-frjJdT"
      },
      "source": [
        "## Create edge widths according to the number of neighbors"
      ]
    },
    {
      "cell_type": "markdown",
      "metadata": {
        "id": "DYAInLNIQ9e_"
      },
      "source": [
        "TODO: Figure out how to do mapping value generator to assign a number series for edge width\n"
      ]
    },
    {
      "cell_type": "markdown",
      "metadata": {
        "id": "iCo8KXM1JvM0"
      },
      "source": [
        "**NOTE:** This is tracked as CSD-437. When it's fixed, use it here."
      ]
    },
    {
      "cell_type": "markdown",
      "metadata": {
        "id": "byRN_KASRZOi"
      },
      "source": [
        "## Show the resulting network for fun"
      ]
    },
    {
      "cell_type": "markdown",
      "metadata": {
        "id": "I53QR6ETSfRJ"
      },
      "source": [
        "## Change node label to be disease name instead of disease number"
      ]
    },
    {
      "cell_type": "code",
      "metadata": {
        "id": "oa8aKe3sR2Ke",
        "colab": {
          "base_uri": "https://localhost:8080/",
          "height": 35
        },
        "outputId": "0a847123-765b-4f6e-f8ab-d4196f6f624e"
      },
      "source": [
        "node_label_map = p4c.map_visual_property('NODE_LABEL', 'Disease Name', 'passthrough')\n",
        "p4c.update_style_mapping('default', node_label_map)\n"
      ],
      "execution_count": 17,
      "outputs": [
        {
          "output_type": "execute_result",
          "data": {
            "application/vnd.google.colaboratory.intrinsic+json": {
              "type": "string"
            },
            "text/plain": [
              "''"
            ]
          },
          "metadata": {
            "tags": []
          },
          "execution_count": 17
        }
      ]
    },
    {
      "cell_type": "markdown",
      "metadata": {
        "id": "DbanRU9pV6Jc"
      },
      "source": [
        "## Set node width and height to be proportional to Degree (k) column value"
      ]
    },
    {
      "cell_type": "code",
      "metadata": {
        "id": "gbngBcpoTdKg",
        "colab": {
          "base_uri": "https://localhost:8080/",
          "height": 35
        },
        "outputId": "309de2be-b964-431e-c113-2995ae78b5b9"
      },
      "source": [
        "node_height_map = p4c.map_visual_property('NODE_HEIGHT', 'Degree (k)', 'continuous', [1, 50], [30, 300])\n",
        "p4c.update_style_mapping('default', node_height_map)\n",
        "node_width_map = p4c.map_visual_property('NODE_WIDTH', 'Degree (k)', 'continuous', [1, 50], [30, 300])\n",
        "p4c.update_style_mapping('default', node_width_map)"
      ],
      "execution_count": 18,
      "outputs": [
        {
          "output_type": "execute_result",
          "data": {
            "application/vnd.google.colaboratory.intrinsic+json": {
              "type": "string"
            },
            "text/plain": [
              "''"
            ]
          },
          "metadata": {
            "tags": []
          },
          "execution_count": 18
        }
      ]
    },
    {
      "cell_type": "markdown",
      "metadata": {
        "id": "Zc8-mgBbeQCo"
      },
      "source": [
        "## Toss all disconnected sub-networks"
      ]
    },
    {
      "cell_type": "markdown",
      "metadata": {
        "id": "45ZVTID0eYMD"
      },
      "source": [
        "We start by identifying a node in the main network ... I chose node 812, which is Insomnia. Next, we keep finding new neighbors until there are no more new neighbors. The only nodes left out will be the disconnected ones.\n",
        "\n",
        "Next, we delete the disconnected nodes and re-size the network to fill the drawing space."
      ]
    },
    {
      "cell_type": "code",
      "metadata": {
        "id": "ue8A4fmvYlqJ",
        "colab": {
          "base_uri": "https://localhost:8080/"
        },
        "outputId": "2b663e57-add5-40f8-9731-13baedef0dd0"
      },
      "source": [
        "select_list = p4c.select_nodes(['812'], by_col='name', preserve_current_selection=False)['nodes']\n",
        "\n",
        "new_select_list = p4c.select_first_neighbors()['nodes']\n",
        "while len(select_list) != len(new_select_list):\n",
        "  select_list = new_select_list\n",
        "  new_select_list = p4c.select_first_neighbors()['nodes']\n",
        "\n",
        "p4c.invert_node_selection()\n",
        "p4c.delete_selected_nodes()\n",
        "p4c.fit_content()\n",
        "\n"
      ],
      "execution_count": 19,
      "outputs": [
        {
          "output_type": "execute_result",
          "data": {
            "text/plain": [
              "{}"
            ]
          },
          "metadata": {
            "tags": []
          },
          "execution_count": 19
        }
      ]
    },
    {
      "cell_type": "markdown",
      "metadata": {
        "id": "kRYSHF5hexO8"
      },
      "source": [
        "## Display the network, just for fun"
      ]
    },
    {
      "cell_type": "code",
      "metadata": {
        "id": "tYR6AVuvcnAB",
        "colab": {
          "base_uri": "https://localhost:8080/",
          "height": 302
        },
        "outputId": "49ec0291-bf08-4a05-9e00-47ecc31c675e"
      },
      "source": [
        "OUT_FILE = 'Disease.png'\n",
        "p4c.export_image(OUT_FILE)\n",
        "p4c.sandbox_get_from(OUT_FILE, f'{OUTPUT_DIR}{OUT_FILE}')\n",
        "\n",
        "from IPython.display import Image, display\n",
        "display(Image(filename=f'{OUTPUT_DIR}{OUT_FILE}'))"
      ],
      "execution_count": 20,
      "outputs": [
        {
          "output_type": "display_data",
          "data": {
            "image/png": "[encoded data removed]",
            "text/plain": [
              "<IPython.core.display.Image object>"
            ]
          },
          "metadata": {
            "tags": []
          }
        }
      ]
    }
  ]
}