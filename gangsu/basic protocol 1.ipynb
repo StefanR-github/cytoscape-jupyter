{
  "nbformat": 4,
  "nbformat_minor": 0,
  "metadata": {
    "colab": {
      "name": "Sanity Test.ipynb",
      "provenance": [],
      "collapsed_sections": [],
      "toc_visible": true
    },
    "kernelspec": {
      "name": "python3",
      "display_name": "Python 3"
    }
  },
  "cells": [
    {
      "cell_type": "markdown",
      "metadata": {
        "id": "EynlCq2w336-"
      },
      "source": [
        "---\n",
        "#Setup data files, py4cytoscape and Cytoscape connection\n",
        "---\n",
        "**NOTE: To run this notebook, you must manually start Cytoscape first -- don't proceed until you have started Cytoscape.**"
      ]
    },
    {
      "cell_type": "markdown",
      "metadata": {
        "id": "VvaiYm7HwcsN"
      },
      "source": [
        "---\n",
        "##Setup: Import source data files"
      ]
    },
    {
      "cell_type": "code",
      "metadata": {
        "id": "sTP9Tf7hb9g0",
        "outputId": "92b3f9d2-da3e-4025-9e5b-56525e4ba68b",
        "colab": {
          "base_uri": "https://localhost:8080/"
        }
      },
      "source": [
        "!rm GDS112_full.soft BIOGRID-ORGANISM-Saccharomyces_cerevisiae_S288c-3.4.129.mitab\n",
        "!wget -q --no-check-certificate https://www.dropbox.com/s/9g2nenijehidy0g/BIOGRID-ORGANISM-Saccharomyces_cerevisiae_S288c-3.4.129.mitab?dl=0\n",
        "!mv BIOGRID-ORGANISM-Saccharomyces_cerevisiae_S288c-3.4.129.mitab?dl=0 BIOGRID-ORGANISM-Saccharomyces_cerevisiae_S288c-3.4.129.mitab\n",
        "!wget -q --no-check-certificate https://www.dropbox.com/s/r15azh0xb53smu1/GDS112_full.soft?dl=0\n",
        "!mv GDS112_full.soft?dl=0 GDS112_full.soft\n",
        "!rm -r output/\n",
        "!ls -l \n",
        "OUTPUT_DIR = 'output/'"
      ],
      "execution_count": 6,
      "outputs": [
        {
          "output_type": "stream",
          "text": [
            "rm: cannot remove 'GDS112_full.soft': No such file or directory\n",
            "total 229480\n",
            "-rw-r--r-- 1 root root 229445088 Nov 10 23:27 BIOGRID-ORGANISM-Saccharomyces_cerevisiae_S288c-3.4.129.mitab\n",
            "-rw-r--r-- 1 root root   5536880 Nov 10 23:27 GDS112_full.soft\n",
            "drwxr-xr-x 1 root root      4096 Nov  6 17:30 sample_data\n"
          ],
          "name": "stdout"
        }
      ]
    },
    {
      "cell_type": "markdown",
      "metadata": {
        "id": "wJ9RYWAF4wF6"
      },
      "source": [
        "---\n",
        "##Setup: Fetch latest py4cytoscape\n",
        "\n",
        "\n"
      ]
    },
    {
      "cell_type": "markdown",
      "metadata": {
        "id": "9RVNEFryzJR3"
      },
      "source": [
        "**Note that you can fetch from a specific github branch by adding \"@<branch>\" to the \"py4cytocape\" at the end of the github URL.**\n",
        "\n",
        "For example, to get branch 0.0.5: git+https://github.com/cytoscape/py4cytoscape@0.0.5"
      ]
    },
    {
      "cell_type": "code",
      "metadata": {
        "id": "pW3Jhe2PMD9z",
        "outputId": "9796d834-4037-4623-8c47-b4a95e4ebf2f",
        "colab": {
          "base_uri": "https://localhost:8080/"
        }
      },
      "source": [
        "!pip uninstall -y py4cytoscape\n",
        "\n",
        "!pip install py4cytoscape\n",
        "#!pip install git+https://github.com/cytoscape/py4cytoscape@0.0.5\n",
        "#!pip install git+https://github.com/cytoscape/py4cytoscape"
      ],
      "execution_count": 8,
      "outputs": [
        {
          "output_type": "stream",
          "text": [
            "\u001b[33mWARNING: Skipping py4cytoscape as it is not installed.\u001b[0m\n",
            "Collecting py4cytoscape\n",
            "\u001b[?25l  Downloading https://files.pythonhosted.org/packages/36/89/e3bf0ba869f99c5695a53fd540f259738aa8bd806c8741ab628fb64471ba/py4cytoscape-0.0.6-py3-none-any.whl (139kB)\n",
            "\u001b[K     |████████████████████████████████| 143kB 2.8MB/s \n",
            "\u001b[?25hCollecting python-igraph\n",
            "\u001b[?25l  Downloading https://files.pythonhosted.org/packages/20/6e/3ac2fc339051f652d4a01570d133e4d15321aaec929ffb5f49a67852f8d9/python_igraph-0.8.3-cp36-cp36m-manylinux2010_x86_64.whl (3.2MB)\n",
            "\u001b[K     |████████████████████████████████| 3.2MB 8.8MB/s \n",
            "\u001b[?25hRequirement already satisfied: networkx in /usr/local/lib/python3.6/dist-packages (from py4cytoscape) (2.5)\n",
            "Requirement already satisfied: pandas in /usr/local/lib/python3.6/dist-packages (from py4cytoscape) (1.1.4)\n",
            "Requirement already satisfied: requests in /usr/local/lib/python3.6/dist-packages (from py4cytoscape) (2.23.0)\n",
            "Collecting texttable>=1.6.2\n",
            "  Downloading https://files.pythonhosted.org/packages/06/f5/46201c428aebe0eecfa83df66bf3e6caa29659dbac5a56ddfd83cae0d4a4/texttable-1.6.3-py2.py3-none-any.whl\n",
            "Requirement already satisfied: decorator>=4.3.0 in /usr/local/lib/python3.6/dist-packages (from networkx->py4cytoscape) (4.4.2)\n",
            "Requirement already satisfied: pytz>=2017.2 in /usr/local/lib/python3.6/dist-packages (from pandas->py4cytoscape) (2018.9)\n",
            "Requirement already satisfied: numpy>=1.15.4 in /usr/local/lib/python3.6/dist-packages (from pandas->py4cytoscape) (1.18.5)\n",
            "Requirement already satisfied: python-dateutil>=2.7.3 in /usr/local/lib/python3.6/dist-packages (from pandas->py4cytoscape) (2.8.1)\n",
            "Requirement already satisfied: chardet<4,>=3.0.2 in /usr/local/lib/python3.6/dist-packages (from requests->py4cytoscape) (3.0.4)\n",
            "Requirement already satisfied: urllib3!=1.25.0,!=1.25.1,<1.26,>=1.21.1 in /usr/local/lib/python3.6/dist-packages (from requests->py4cytoscape) (1.24.3)\n",
            "Requirement already satisfied: certifi>=2017.4.17 in /usr/local/lib/python3.6/dist-packages (from requests->py4cytoscape) (2020.6.20)\n",
            "Requirement already satisfied: idna<3,>=2.5 in /usr/local/lib/python3.6/dist-packages (from requests->py4cytoscape) (2.10)\n",
            "Requirement already satisfied: six>=1.5 in /usr/local/lib/python3.6/dist-packages (from python-dateutil>=2.7.3->pandas->py4cytoscape) (1.15.0)\n",
            "Installing collected packages: texttable, python-igraph, py4cytoscape\n",
            "Successfully installed py4cytoscape-0.0.6 python-igraph-0.8.3 texttable-1.6.3\n"
          ],
          "name": "stdout"
        }
      ]
    },
    {
      "cell_type": "markdown",
      "metadata": {
        "id": "q2bNAluIV5ZN"
      },
      "source": [
        "---\n",
        "##Setup: Set up Cytoscape connection\n"
      ]
    },
    {
      "cell_type": "code",
      "metadata": {
        "id": "QPBzaizACq3g",
        "outputId": "bde7acbb-e641-4fe6-e100-28c7fa4be7f1",
        "colab": {
          "base_uri": "https://localhost:8080/",
          "height": 34
        }
      },
      "source": [
        "import IPython\n",
        "import py4cytoscape as p4c\n",
        "print(f'Loading Javascript client ... {p4c.get_browser_client_channel()} on {p4c.get_jupyter_bridge_url()}')\n",
        "browser_client_js = p4c.get_browser_client_js(False)\n",
        "IPython.display.Javascript(browser_client_js) # Start browser client\n"
      ],
      "execution_count": 9,
      "outputs": [
        {
          "output_type": "stream",
          "text": [
            "Loading Javascript client ... 96356a35-814f-48e5-9e82-f2f8b02ab8ae on https://jupyter-bridge.cytoscape.org\n"
          ],
          "name": "stdout"
        },
        {
          "output_type": "execute_result",
          "data": {
            "application/javascript": [
              "var Channel = \"96356a35-814f-48e5-9e82-f2f8b02ab8ae\"; \n",
              "\n",
              "var JupyterBridge = \"https://jupyter-bridge.cytoscape.org\"; \n",
              "\n",
              "  /*\n",
              "    These functions serve as a connector between a remote Jupyter server and Cytoscape.\n",
              "    They run in the user's browser, which also shows the Jupyter Notebook.\n",
              "\n",
              "    A remote Jupyter Notebook call to the py4cytoscape package is forwarded to the Jupyter Bridge,\n",
              "    which is a standalone server. The functions in this connector execute in the Jupyter Notebook\n",
              "    browser, which executes on the same PC as Cytoscape. So, that's 4 components: (A) remote\n",
              "    Jupyter Notebook, (B) separate Jupyter Bridge server, (C) this browser-based component, and\n",
              "    (D) Cytoscape. (A) is on a remote server, (B) is on a different remote server, and (C) and (D)\n",
              "    are on the user's PC.\n",
              "\n",
              "    (A) calls its py4cytoscape module, which forwards the request (in a JSON wrapper) to (B).\n",
              "    (C) picks up the request from (B), unpacks the request and forwards it to (D). (C) awaits a\n",
              "    reply from (D), and when it gets it, it forwards the reply (in a JSON wrapper) to (B).\n",
              "    (A)'s py4cytoscape module picks up the reply on (B) when it becomes available, unpacks it,\n",
              "    and returns it to (A).\n",
              "\n",
              "    A Jupyter Notebook can talk to only one Cytoscape (i.e., the one on the machine running the\n",
              "    Jupyter Notebook browser), and Cytoscape should be called by only one Jupyter Notebook. The\n",
              "    Jupyter Bridge differentiates between Notebook-Cytoscape conversations via a channel UUID.\n",
              "    The UUID is prepended to this browser component by py4Cytoscape, and the component is\n",
              "    started by the Jupyter Notebook. (I wish py4Cytoscape could start the component, too, but I\n",
              "    haven't figured out how to do that yet, so startup code *is* required in the Jupyter\n",
              "    Notebook.)\n",
              "\n",
              "    Note that for the case of a Jupyter server running on the same machine as Cytoscape, this\n",
              "    bridge isn't necessary because the Jupyter server's HTTP calls can easily connect to\n",
              "    Cytoscape over a localhost socket. So, the combination of Jupyter Bridge and this browser\n",
              "    component solves the problem of a Jupyter server (e.g., Google's Colab) that can't\n",
              "    connect to Cytoscape that sits behind a firewall.\n",
              "\n",
              "    The request represents an HTTP call that py4cytoscape would normally make via HTTP directly\n",
              "    to Cytoscape via localhost when both py4cytoscape and Cytoscape are running on the same machine.\n",
              " */\n",
              "\n",
              "const VERSION = '0.0.2'\n",
              "\n",
              "var showDebug; // Flag indicating whether to show Jupyter-bridge progress\n",
              "if (typeof showDebug === 'undefined') {\n",
              "    showDebug = false\n",
              "}\n",
              "if (showDebug) {\n",
              "    alert(\"Starting Jupyter-bridge browser component\")\n",
              "}\n",
              "\n",
              "//const JupyterBridge = 'http://127.0.0.1:5000' // for testing against local Jupyter-bridge\n",
              "var JupyterBridge; // URL of Jupyter-bridge server could be defined by assignment pre-pended to this file\n",
              "if (typeof JupyterBridge === 'undefined') {\n",
              "    JupyterBridge = 'https://jupyter-bridge.cytoscape.org' // for production\n",
              "}\n",
              "var Channel; // Unique constant that could be defined by assignment pre-pended to this file\n",
              "if (typeof Channel === 'undefined') { // ... but if not assigned, use a debugging value\n",
              "    Channel = 1\n",
              "}\n",
              "\n",
              "\n",
              "var httpR = new XMLHttpRequest(); // for sending reply to Jupyter-bridge\n",
              "var httpRE = new XMLHttpRequest(); // for sending backup error reply to Jupyter-bridge\n",
              "var httpC = new XMLHttpRequest(); // for sending command to Cytoscape\n",
              "var httpJ = new XMLHttpRequest(); // for fetching request from Jupyter-bridge\n",
              "\n",
              "const HTTP_OK = 200\n",
              "const HTTP_SYS_ERR = 500\n",
              "const HTTP_TIMEOUT = 408\n",
              "const HTTP_TOO_MANY = 429\n",
              "\n",
              "\n",
              " /* This function is useful if we want to rewrite the incoming URL to resolve just to our local one.\n",
              "    Doing this stops the Jupyter component from abusing this client to call out to endpoints other\n",
              "    than local Cytoscape. On the other hand, it makes it hard to detect when the Jupyter component\n",
              "    has specified a genuinely bad URL and really should get an error result. For now, we'll execute\n",
              "    the Jupyter-supplied URL and return the result, whatever it may be.\n",
              "\n",
              "const LocalCytoscape = 'http://127.0.0.1:1234'\n",
              "\n",
              "function parseURL(url) {\n",
              "    var reURLInformation = new RegExp([\n",
              "        '^(https?:)//', // protocol\n",
              "        '(([^:/?#]*)(?::([0-9]+))?)', // host (hostname and port)\n",
              "        '(/{0,1}[^?#]*)', // pathname\n",
              "        '(\\\\?[^#]*|)', // search\n",
              "        '(#.*|)$' // hash\n",
              "    ].join(''));\n",
              "    var match = url.match(reURLInformation);\n",
              "    return match && {\n",
              "        url: url,\n",
              "        protocol: match[1],\n",
              "        host: match[2],\n",
              "        hostname: match[3],\n",
              "        port: match[4],\n",
              "        pathname: match[5],\n",
              "        search: match[6],\n",
              "        hash: match[7]\n",
              "    }\n",
              "}\n",
              "*/\n",
              "\n",
              "function replyCytoscape(replyStatus, replyStatusText, replyText) {\n",
              "\n",
              "    // Clean up after Jupyter bridge accepts reply\n",
              "    httpR.onreadystatechange = function() {\n",
              "        if (httpR.readyState === 4) {\n",
              "            if (showDebug) {\n",
              "                console.log(' status from queue_reply: ' + httpR.status + ', reply: ' + httpR.responseText)\n",
              "            }\n",
              "        }\n",
              "    }\n",
              "\n",
              "    httpR.onerror = function() {\n",
              "        // Clean up after Jupyter bridge accepts backup reply\n",
              "        httpRE.onreadystatechange = function() {\n",
              "            if (httpRE.readyState === 4) {\n",
              "                if (showDebug) {\n",
              "                    console.log(' status from backup queue_reply: ' + httpRE.status + ', reply: ' + httpRE.responseText)\n",
              "                }\n",
              "            }\n",
              "        }\n",
              "\n",
              "        if (showDebug) {\n",
              "            console.log(' error from queue_reply -- could be Jupyter-Bridge server reject')\n",
              "        }\n",
              "        var errReply = {'status': HTTP_SYS_ERR, 'reason': 'Jupyter-Bridge rejected reply', 'text': 'Possibly reply is too long for Jupyter-Bridge server'}\n",
              "        httpRE.open('POST', jupyterBridgeURL, true)\n",
              "        httpRE.setRequestHeader('Content-Type', 'text/plain')\n",
              "        httpRE.send(JSON.stringify(errReply))\n",
              "    }\n",
              "\n",
              "    var reply = {'status': replyStatus, 'reason': replyStatusText, 'text': replyText}\n",
              "\n",
              "    // Send reply to Jupyter bridge\n",
              "    var jupyterBridgeURL = JupyterBridge + '/queue_reply?channel=' + Channel\n",
              "    if (showDebug) {\n",
              "        console.log('Starting queue to Jupyter bridge: ' + jupyterBridgeURL)\n",
              "    }\n",
              "    httpR.open('POST', jupyterBridgeURL, true)\n",
              "    httpR.setRequestHeader('Content-Type', 'text/plain')\n",
              "    httpR.send(JSON.stringify(reply))\n",
              "}\n",
              "\n",
              "function callCytoscape(callSpec) {\n",
              "\n",
              "    // Captures Cytoscape reply and sends it on\n",
              "    httpC.onreadystatechange = function() {\n",
              "        if (httpC.readyState === 4) {\n",
              "            if (showDebug) {\n",
              "                console.log(' status from CyREST: ' + httpC.status + ', statusText: ' + httpC.statusText + ', reply: ' + httpC.responseText)\n",
              "            }\n",
              "            // Note that httpC.status is 0 if the URL can't be reached *OR* there is a CORS violation.\n",
              "            // I wish I could tell the difference because for a CORS violation, I'd return a 404,\n",
              "            // which would roughly match what Python's native request package would return.\n",
              "            // The practical consequence is that the ultimate caller (e.g., py4cytoscape)\n",
              "            // returns different exceptions, depending on wither this module is doing the\n",
              "            // HTTP operation or the native Python requests package is. This is minor, but\n",
              "            // messes up tests that verify the exception type.\n",
              "            replyCytoscape(httpC.status, httpC.statusText, httpC.responseText)\n",
              "            waitOnJupyterBridge()\n",
              "        }\n",
              "    }\n",
              "\n",
              "//  Build up request to Cytoscape, making sure host is local.\n",
              "//    Too heavy handed: localURL = LocalCytoscape + parseURL(callSpec.url).pathname\n",
              "    var localURL = callSpec.url // Try using what was passed in ... is there a security risk??\n",
              "\n",
              "    if (showDebug) {\n",
              "        console.log('Command to CyREST: ' + callSpec.command + ' (' + localURL + ')')\n",
              "        if (callSpec.params) {\n",
              "            console.log(' params: ' + JSON.stringify(callSpec.params))\n",
              "        }\n",
              "        if (callSpec.headers) {\n",
              "            console.log(' header: ' + JSON.stringify(callSpec.headers))\n",
              "        }\n",
              "        if (callSpec.data) {\n",
              "            console.log('   data: ' + JSON.stringify(callSpec.data))\n",
              "        }\n",
              "    }\n",
              "\n",
              "    if (callSpec.command === 'webbrowser') {\n",
              "        if (window.open(callSpec.url)) {\n",
              "            replyCytoscape(HTTP_OK, 'OK', '')\n",
              "        } else {\n",
              "            replyCytoscape(HTTP_SYS_ERR, 'BAD BROWSER OPEN', '')\n",
              "        }\n",
              "        waitOnJupyterBridge()\n",
              "    } else if (callSpec.command === 'version') {\n",
              "        replyCytoscape(HTTP_OK, 'OK',\n",
              "            JSON.stringify({\"jupyterBridgeVersion\": VERSION}))\n",
              "        waitOnJupyterBridge()\n",
              "    } else {\n",
              "        var joiner = '?'\n",
              "        for (let param in callSpec.params) {\n",
              "            localURL = localURL + joiner + param + '=' + encodeURIComponent(callSpec.params[param])\n",
              "            joiner = '&'\n",
              "        }\n",
              "\n",
              "        httpC.open(callSpec.command, localURL, true)\n",
              "        for (let header in callSpec.headers) {\n",
              "            httpC.setRequestHeader(header, callSpec.headers[header])\n",
              "        }\n",
              "\n",
              "        // Send request to Cytoscape ... reply goes to onreadystatechange handler\n",
              "        httpC.send(JSON.stringify(callSpec.data))\n",
              "    }\n",
              "}\n",
              "\n",
              "function waitOnJupyterBridge() {\n",
              "\n",
              "    // Captures request from Jupyter bridge\n",
              "    httpJ.onreadystatechange = function() {\n",
              "        if (httpJ.readyState === 4) {\n",
              "            if (showDebug) {\n",
              "                console.log(' status from dequeue_request: ' + httpJ.status + ', reply: ' + httpJ.responseText)\n",
              "            }\n",
              "            try {\n",
              "                if (httpJ.status == HTTP_TOO_MANY) {\n",
              "                    // Nothing more to do ... the browser has created too many listeners,\n",
              "                    // and it's time to stop listening because the server saw a listener\n",
              "                    // listening on this channel before we got there.\n",
              "                    console.log('  shutting down because of redundant reader on channel: ' + Channel)\n",
              "                } else {\n",
              "                    if (httpJ.status === HTTP_TIMEOUT) {\n",
              "                        waitOnJupyterBridge()\n",
              "                    } else {\n",
              "                        callCytoscape(JSON.parse(httpJ.responseText))\n",
              "                    }\n",
              "                }\n",
              "            } catch(err) {\n",
              "                if (showDebug) {\n",
              "                    console.log(' exception calling Cytoscape: ' + err)\n",
              "                }\n",
              "                // Bad responseText means something bad happened that we don't understand.\n",
              "                // Go wait on another request, as there's nothing to call Cytoscape with.\n",
              "                waitOnJupyterBridge()\n",
              "            }\n",
              "        }\n",
              "    }\n",
              "\n",
              "    // Wait for request from Jupyter bridge\n",
              "    var jupyterBridgeURL = JupyterBridge + '/dequeue_request?channel=' + Channel\n",
              "    if (showDebug) {\n",
              "        console.log('Starting dequeue on Jupyter bridge: ' + jupyterBridgeURL)\n",
              "    }\n",
              "    httpJ.open('GET', jupyterBridgeURL, true)\n",
              "    httpJ.send()\n",
              "}\n",
              "\n",
              "// This kicks off a loop that ends by calling waitOnJupyterBridge again. This first call\n",
              "// ejects any dead readers before we start a read\n",
              "waitOnJupyterBridge() // Wait for message from Jupyter bridge, execute it, and return reply\n",
              "\n",
              "if (showDebug) {\n",
              "    alert(\"Jupyter-bridge browser component is started on \" + JupyterBridge + ', channel ' + Channel)\n",
              "}\n"
            ],
            "text/plain": [
              "<IPython.core.display.Javascript object>"
            ]
          },
          "metadata": {
            "tags": []
          },
          "execution_count": 9
        }
      ]
    },
    {
      "cell_type": "markdown",
      "metadata": {
        "id": "sTJwg_HN3WPH"
      },
      "source": [
        "---\n",
        "#Sanity tests to verify Cytoscape connection\n"
      ]
    },
    {
      "cell_type": "markdown",
      "metadata": {
        "id": "m5Uv0pTHWmvE"
      },
      "source": [
        "---\n",
        "##Sanity test: Cytoscape version\n"
      ]
    },
    {
      "cell_type": "code",
      "metadata": {
        "id": "sP5J_ey7C_t6",
        "outputId": "28f4adda-d720-48e2-ab1f-f0469b43a1d1",
        "colab": {
          "base_uri": "https://localhost:8080/"
        }
      },
      "source": [
        "p4c.cytoscape_version_info()\n"
      ],
      "execution_count": 10,
      "outputs": [
        {
          "output_type": "execute_result",
          "data": {
            "text/plain": [
              "{'apiVersion': 'v1',\n",
              " 'automationAPIVersion': '1.0.0',\n",
              " 'cytoscapeVersion': '3.8.2',\n",
              " 'jupyterBridgeVersion': '0.0.2',\n",
              " 'py4cytoscapeVersion': '0.0.6'}"
            ]
          },
          "metadata": {
            "tags": []
          },
          "execution_count": 10
        }
      ]
    },
    {
      "cell_type": "markdown",
      "metadata": {
        "id": "MgvPeSXc3iUa"
      },
      "source": [
        "---\n",
        "## Sanity test: Cytoscape's sandbox path"
      ]
    },
    {
      "cell_type": "markdown",
      "metadata": {
        "id": "RlKSyX07FVL-"
      },
      "source": [
        "**Sandboxing is explained in https://py4cytoscape.readthedocs.io/en/latest/concepts.html#sandboxing**"
      ]
    },
    {
      "cell_type": "code",
      "metadata": {
        "id": "9MecXzJuDIwa",
        "outputId": "31b8400e-a073-4ea6-81af-da7076130c64",
        "colab": {
          "base_uri": "https://localhost:8080/"
        }
      },
      "source": [
        "p4c.sandbox_get_file_info('.')"
      ],
      "execution_count": 11,
      "outputs": [
        {
          "output_type": "execute_result",
          "data": {
            "text/plain": [
              "{'filePath': 'C:\\\\Users\\\\CyDeveloper\\\\CytoscapeConfiguration\\\\filetransfer\\\\default_sandbox',\n",
              " 'isFile': False,\n",
              " 'modifiedTime': '2020-11-10 15:32:21.0721'}"
            ]
          },
          "metadata": {
            "tags": []
          },
          "execution_count": 11
        }
      ]
    },
    {
      "cell_type": "code",
      "metadata": {
        "id": "c8dbs1Mlf1uB",
        "outputId": "1e95a199-1ece-47de-fa7c-8d0935999ef9",
        "colab": {
          "base_uri": "https://localhost:8080/"
        }
      },
      "source": [
        "p4c.sandbox_send_to('GDS112_full.soft')"
      ],
      "execution_count": 13,
      "outputs": [
        {
          "output_type": "execute_result",
          "data": {
            "text/plain": [
              "{'filePath': 'C:\\\\Users\\\\CyDeveloper\\\\CytoscapeConfiguration\\\\filetransfer\\\\default_sandbox\\\\GDS112_full.soft'}"
            ]
          },
          "metadata": {
            "tags": []
          },
          "execution_count": 13
        }
      ]
    },
    {
      "cell_type": "markdown",
      "metadata": {
        "id": "fX1fQqyFuvIp"
      },
      "source": [
        "Get the gene expression data into a data frame that has Gene ID as a string ... that's what will fit with the 'name' column already in the BIOGRID network\n",
        "\n",
        "ToDo:\n",
        "1) Consider how to use read_csv to force Gene ID to string ... see here: https://pandas.pydata.org/pandas-docs/stable/reference/api/pandas.read_csv.html ... dtype parameter\n",
        "2) *do* drop null GeneIDs\n",
        "3) Consider how to use read_csv to avoid having to do wget in the first place"
      ]
    },
    {
      "cell_type": "code",
      "metadata": {
        "id": "o7CfmL3GiLiP",
        "outputId": "8fafdd2f-1c48-48b6-90c4-2450ce3c73b9",
        "colab": {
          "base_uri": "https://localhost:8080/",
          "height": 1000
        }
      },
      "source": [
        "import pandas as df\n",
        "GDS112_full = df.read_csv('GDS112_full.soft', skiprows=82, sep='\\t')\n",
        "GDS112_full.dropna(subset=['Gene ID'], inplace=True)\n",
        "GDS112_full['Gene ID'] = df.to_numeric(GDS112_full['Gene ID'], downcast='integer')\n",
        "GDS112_full = GDS112_full.astype({'Gene ID': 'string'})\n",
        "print(GDS112_full.dtypes)\n",
        "\n",
        "\n",
        "GDS112_full\n",
        "\n"
      ],
      "execution_count": 47,
      "outputs": [
        {
          "output_type": "stream",
          "text": [
            "ID_REF                    object\n",
            "IDENTIFIER                object\n",
            "GSM1029                  float64\n",
            "GSM1030                  float64\n",
            "GSM1032                  float64\n",
            "GSM1033                  float64\n",
            "GSM1034                  float64\n",
            "Gene title                object\n",
            "Gene symbol               object\n",
            "Gene ID                   string\n",
            "UniGene title            float64\n",
            "UniGene symbol           float64\n",
            "UniGene ID               float64\n",
            "Nucleotide Title         float64\n",
            "GI                       float64\n",
            "GenBank Accession        float64\n",
            "Platform_CLONEID         float64\n",
            "Platform_ORF              object\n",
            "Platform_SPOTID           object\n",
            "Chromosome location      float64\n",
            "Chromosome annotation     object\n",
            "GO:Function               object\n",
            "GO:Process                object\n",
            "GO:Component              object\n",
            "GO:Function ID            object\n",
            "GO:Process ID             object\n",
            "GO:Component ID           object\n",
            "dtype: object\n"
          ],
          "name": "stdout"
        },
        {
          "output_type": "execute_result",
          "data": {
            "text/html": [
              "<div>\n",
              "<style scoped>\n",
              "    .dataframe tbody tr th:only-of-type {\n",
              "        vertical-align: middle;\n",
              "    }\n",
              "\n",
              "    .dataframe tbody tr th {\n",
              "        vertical-align: top;\n",
              "    }\n",
              "\n",
              "    .dataframe thead th {\n",
              "        text-align: right;\n",
              "    }\n",
              "</style>\n",
              "<table border=\"1\" class=\"dataframe\">\n",
              "  <thead>\n",
              "    <tr style=\"text-align: right;\">\n",
              "      <th></th>\n",
              "      <th>ID_REF</th>\n",
              "      <th>IDENTIFIER</th>\n",
              "      <th>GSM1029</th>\n",
              "      <th>GSM1030</th>\n",
              "      <th>GSM1032</th>\n",
              "      <th>GSM1033</th>\n",
              "      <th>GSM1034</th>\n",
              "      <th>Gene title</th>\n",
              "      <th>Gene symbol</th>\n",
              "      <th>Gene ID</th>\n",
              "      <th>UniGene title</th>\n",
              "      <th>UniGene symbol</th>\n",
              "      <th>UniGene ID</th>\n",
              "      <th>Nucleotide Title</th>\n",
              "      <th>GI</th>\n",
              "      <th>GenBank Accession</th>\n",
              "      <th>Platform_CLONEID</th>\n",
              "      <th>Platform_ORF</th>\n",
              "      <th>Platform_SPOTID</th>\n",
              "      <th>Chromosome location</th>\n",
              "      <th>Chromosome annotation</th>\n",
              "      <th>GO:Function</th>\n",
              "      <th>GO:Process</th>\n",
              "      <th>GO:Component</th>\n",
              "      <th>GO:Function ID</th>\n",
              "      <th>GO:Process ID</th>\n",
              "      <th>GO:Component ID</th>\n",
              "    </tr>\n",
              "  </thead>\n",
              "  <tbody>\n",
              "    <tr>\n",
              "      <th>24</th>\n",
              "      <td>25</td>\n",
              "      <td>TFC3</td>\n",
              "      <td>-0.663</td>\n",
              "      <td>0.144</td>\n",
              "      <td>0.605</td>\n",
              "      <td>0.696</td>\n",
              "      <td>0.659</td>\n",
              "      <td>transcription factor TFIIIC subunit TFC3</td>\n",
              "      <td>TFC3</td>\n",
              "      <td>851262</td>\n",
              "      <td>NaN</td>\n",
              "      <td>NaN</td>\n",
              "      <td>NaN</td>\n",
              "      <td>NaN</td>\n",
              "      <td>NaN</td>\n",
              "      <td>NaN</td>\n",
              "      <td>NaN</td>\n",
              "      <td>YAL001C</td>\n",
              "      <td>NaN</td>\n",
              "      <td>NaN</td>\n",
              "      <td>Chromosome I, NC_001133.9 (147594..151166, com...</td>\n",
              "      <td>DNA binding///contributes_to DNA binding, bend...</td>\n",
              "      <td>5S class rRNA transcription from RNA polymeras...</td>\n",
              "      <td>mitochondrion///mitochondrion///colocalizes_wi...</td>\n",
              "      <td>GO:0003677///contributes_to GO:0008301///contr...</td>\n",
              "      <td>GO:0042791///GO:0042791///GO:0071168///GO:0006...</td>\n",
              "      <td>GO:0005739///GO:0005739///colocalizes_with GO:...</td>\n",
              "    </tr>\n",
              "    <tr>\n",
              "      <th>25</th>\n",
              "      <td>26</td>\n",
              "      <td>EFB1</td>\n",
              "      <td>0.678</td>\n",
              "      <td>0.343</td>\n",
              "      <td>0.844</td>\n",
              "      <td>-0.072</td>\n",
              "      <td>-0.084</td>\n",
              "      <td>translation elongation factor 1 subunit beta</td>\n",
              "      <td>EFB1</td>\n",
              "      <td>851260</td>\n",
              "      <td>NaN</td>\n",
              "      <td>NaN</td>\n",
              "      <td>NaN</td>\n",
              "      <td>NaN</td>\n",
              "      <td>NaN</td>\n",
              "      <td>NaN</td>\n",
              "      <td>NaN</td>\n",
              "      <td>YAL003W</td>\n",
              "      <td>NaN</td>\n",
              "      <td>NaN</td>\n",
              "      <td>Chromosome I, NC_001133.9 (142174..143160)</td>\n",
              "      <td>guanyl-nucleotide exchange factor activity///t...</td>\n",
              "      <td>maintenance of translational fidelity///negati...</td>\n",
              "      <td>eukaryotic translation elongation factor 1 com...</td>\n",
              "      <td>GO:0005085///GO:0003746</td>\n",
              "      <td>GO:1990145///GO:0032232///GO:0006449///GO:0006...</td>\n",
              "      <td>GO:0005853///GO:0005853</td>\n",
              "    </tr>\n",
              "    <tr>\n",
              "      <th>26</th>\n",
              "      <td>27</td>\n",
              "      <td>SSA1</td>\n",
              "      <td>-0.956</td>\n",
              "      <td>-0.026</td>\n",
              "      <td>1.441</td>\n",
              "      <td>0.854</td>\n",
              "      <td>0.025</td>\n",
              "      <td>Hsp70 family ATPase SSA1</td>\n",
              "      <td>SSA1</td>\n",
              "      <td>851259</td>\n",
              "      <td>NaN</td>\n",
              "      <td>NaN</td>\n",
              "      <td>NaN</td>\n",
              "      <td>NaN</td>\n",
              "      <td>NaN</td>\n",
              "      <td>NaN</td>\n",
              "      <td>NaN</td>\n",
              "      <td>YAL005C</td>\n",
              "      <td>NaN</td>\n",
              "      <td>NaN</td>\n",
              "      <td>Chromosome I, NC_001133.9 (139503..141431, com...</td>\n",
              "      <td>ATP binding///ATPase activity///nucleotide bin...</td>\n",
              "      <td>SRP-dependent cotranslational protein targetin...</td>\n",
              "      <td>cell wall///colocalizes_with chaperonin-contai...</td>\n",
              "      <td>GO:0005524///GO:0016887///GO:0000166///GO:0000...</td>\n",
              "      <td>GO:0006616///GO:0072318///GO:0002181///GO:0043...</td>\n",
              "      <td>GO:0005618///colocalizes_with GO:0005832///GO:...</td>\n",
              "    </tr>\n",
              "    <tr>\n",
              "      <th>27</th>\n",
              "      <td>28</td>\n",
              "      <td>FUN14</td>\n",
              "      <td>-0.435</td>\n",
              "      <td>-0.247</td>\n",
              "      <td>0.662</td>\n",
              "      <td>0.688</td>\n",
              "      <td>0.192</td>\n",
              "      <td>Fun14p</td>\n",
              "      <td>FUN14</td>\n",
              "      <td>851225</td>\n",
              "      <td>NaN</td>\n",
              "      <td>NaN</td>\n",
              "      <td>NaN</td>\n",
              "      <td>NaN</td>\n",
              "      <td>NaN</td>\n",
              "      <td>NaN</td>\n",
              "      <td>NaN</td>\n",
              "      <td>YAL008W</td>\n",
              "      <td>NaN</td>\n",
              "      <td>NaN</td>\n",
              "      <td>Chromosome I, NC_001133.9 (136914..137510)</td>\n",
              "      <td>molecular_function</td>\n",
              "      <td>mitochondrion organization///phospholipid home...</td>\n",
              "      <td>integral component of membrane///integral comp...</td>\n",
              "      <td>GO:0003674</td>\n",
              "      <td>GO:0007005///GO:0055091</td>\n",
              "      <td>GO:0016021///GO:0031307///GO:0016020///GO:0005...</td>\n",
              "    </tr>\n",
              "    <tr>\n",
              "      <th>28</th>\n",
              "      <td>29</td>\n",
              "      <td>MDM10</td>\n",
              "      <td>-0.505</td>\n",
              "      <td>0.169</td>\n",
              "      <td>0.823</td>\n",
              "      <td>0.457</td>\n",
              "      <td>0.208</td>\n",
              "      <td>Mdm10p</td>\n",
              "      <td>MDM10</td>\n",
              "      <td>851223</td>\n",
              "      <td>NaN</td>\n",
              "      <td>NaN</td>\n",
              "      <td>NaN</td>\n",
              "      <td>NaN</td>\n",
              "      <td>NaN</td>\n",
              "      <td>NaN</td>\n",
              "      <td>NaN</td>\n",
              "      <td>YAL010C</td>\n",
              "      <td>NaN</td>\n",
              "      <td>NaN</td>\n",
              "      <td>Chromosome I, NC_001133.9 (134184..135665, com...</td>\n",
              "      <td>molecular_function</td>\n",
              "      <td>establishment of mitochondrion localization///...</td>\n",
              "      <td>ERMES complex///ERMES complex///integral compo...</td>\n",
              "      <td>GO:0003674</td>\n",
              "      <td>GO:0051654///GO:0000002///GO:0070096///GO:0070...</td>\n",
              "      <td>GO:0032865///GO:0032865///GO:0016021///GO:0031...</td>\n",
              "    </tr>\n",
              "    <tr>\n",
              "      <th>...</th>\n",
              "      <td>...</td>\n",
              "      <td>...</td>\n",
              "      <td>...</td>\n",
              "      <td>...</td>\n",
              "      <td>...</td>\n",
              "      <td>...</td>\n",
              "      <td>...</td>\n",
              "      <td>...</td>\n",
              "      <td>...</td>\n",
              "      <td>...</td>\n",
              "      <td>...</td>\n",
              "      <td>...</td>\n",
              "      <td>...</td>\n",
              "      <td>...</td>\n",
              "      <td>...</td>\n",
              "      <td>...</td>\n",
              "      <td>...</td>\n",
              "      <td>...</td>\n",
              "      <td>...</td>\n",
              "      <td>...</td>\n",
              "      <td>...</td>\n",
              "      <td>...</td>\n",
              "      <td>...</td>\n",
              "      <td>...</td>\n",
              "      <td>...</td>\n",
              "      <td>...</td>\n",
              "      <td>...</td>\n",
              "    </tr>\n",
              "    <tr>\n",
              "      <th>9201</th>\n",
              "      <td>9202</td>\n",
              "      <td>VMA13</td>\n",
              "      <td>0.162</td>\n",
              "      <td>-0.202</td>\n",
              "      <td>0.649</td>\n",
              "      <td>0.132</td>\n",
              "      <td>0.042</td>\n",
              "      <td>H(+)-transporting V1 sector ATPase subunit H</td>\n",
              "      <td>VMA13</td>\n",
              "      <td>856148</td>\n",
              "      <td>NaN</td>\n",
              "      <td>NaN</td>\n",
              "      <td>NaN</td>\n",
              "      <td>NaN</td>\n",
              "      <td>NaN</td>\n",
              "      <td>NaN</td>\n",
              "      <td>NaN</td>\n",
              "      <td>YPR036W</td>\n",
              "      <td>NaN</td>\n",
              "      <td>NaN</td>\n",
              "      <td>Chromosome XVI, NC_001148.4 (643836..645272)</td>\n",
              "      <td>hydrolase activity, acting on acid anhydrides,...</td>\n",
              "      <td>ATP hydrolysis coupled proton transport///ion ...</td>\n",
              "      <td>fungal-type vacuole membrane///integral compon...</td>\n",
              "      <td>GO:0016820///GO:0046961///GO:0046961</td>\n",
              "      <td>GO:0015991///GO:0006811///GO:0015992///GO:0006...</td>\n",
              "      <td>GO:0000329///GO:0016021///GO:0016020///GO:0005...</td>\n",
              "    </tr>\n",
              "    <tr>\n",
              "      <th>9203</th>\n",
              "      <td>9204</td>\n",
              "      <td>TIP41</td>\n",
              "      <td>0.084</td>\n",
              "      <td>-0.088</td>\n",
              "      <td>0.262</td>\n",
              "      <td>0.118</td>\n",
              "      <td>0.039</td>\n",
              "      <td>Tip41p</td>\n",
              "      <td>TIP41</td>\n",
              "      <td>856153</td>\n",
              "      <td>NaN</td>\n",
              "      <td>NaN</td>\n",
              "      <td>NaN</td>\n",
              "      <td>NaN</td>\n",
              "      <td>NaN</td>\n",
              "      <td>NaN</td>\n",
              "      <td>NaN</td>\n",
              "      <td>YPR040W</td>\n",
              "      <td>NaN</td>\n",
              "      <td>NaN</td>\n",
              "      <td>Chromosome XVI, NC_001148.4 (647305..648375)</td>\n",
              "      <td>molecular_function</td>\n",
              "      <td>negative regulation of signal transduction///s...</td>\n",
              "      <td>cytoplasm///cytoplasm///nucleus///nucleus</td>\n",
              "      <td>GO:0003674</td>\n",
              "      <td>GO:0009968///GO:0007165///GO:0007165</td>\n",
              "      <td>GO:0005737///GO:0005737///GO:0005634///GO:0005634</td>\n",
              "    </tr>\n",
              "    <tr>\n",
              "      <th>9205</th>\n",
              "      <td>9206</td>\n",
              "      <td>ANT1</td>\n",
              "      <td>0.163</td>\n",
              "      <td>-0.314</td>\n",
              "      <td>0.011</td>\n",
              "      <td>0.350</td>\n",
              "      <td>0.472</td>\n",
              "      <td>Ant1p</td>\n",
              "      <td>ANT1</td>\n",
              "      <td>856246</td>\n",
              "      <td>NaN</td>\n",
              "      <td>NaN</td>\n",
              "      <td>NaN</td>\n",
              "      <td>NaN</td>\n",
              "      <td>NaN</td>\n",
              "      <td>NaN</td>\n",
              "      <td>NaN</td>\n",
              "      <td>YPR128C</td>\n",
              "      <td>NaN</td>\n",
              "      <td>NaN</td>\n",
              "      <td>Chromosome XVI, NC_001148.4 (791218..792204, c...</td>\n",
              "      <td>adenine nucleotide transmembrane transporter a...</td>\n",
              "      <td>ATP transport///fatty acid beta-oxidation///fa...</td>\n",
              "      <td>cytoplasm///integral component of membrane///i...</td>\n",
              "      <td>GO:0000295///GO:0000295</td>\n",
              "      <td>GO:0015867///GO:0006635///GO:0006635///GO:0006...</td>\n",
              "      <td>GO:0005737///GO:0016021///GO:0016021///GO:0005...</td>\n",
              "    </tr>\n",
              "    <tr>\n",
              "      <th>9207</th>\n",
              "      <td>9208</td>\n",
              "      <td>RPS23B</td>\n",
              "      <td>0.849</td>\n",
              "      <td>0.124</td>\n",
              "      <td>-0.872</td>\n",
              "      <td>-1.023</td>\n",
              "      <td>-0.432</td>\n",
              "      <td>ribosomal 40S subunit protein S23B</td>\n",
              "      <td>RPS23B</td>\n",
              "      <td>856250</td>\n",
              "      <td>NaN</td>\n",
              "      <td>NaN</td>\n",
              "      <td>NaN</td>\n",
              "      <td>NaN</td>\n",
              "      <td>NaN</td>\n",
              "      <td>NaN</td>\n",
              "      <td>NaN</td>\n",
              "      <td>YPR132W</td>\n",
              "      <td>NaN</td>\n",
              "      <td>NaN</td>\n",
              "      <td>Chromosome XVI, NC_001148.4 (794965..795767)</td>\n",
              "      <td>structural constituent of ribosome///structura...</td>\n",
              "      <td>maturation of SSU-rRNA from tricistronic rRNA ...</td>\n",
              "      <td>cytoplasm///cytosolic small ribosomal subunit/...</td>\n",
              "      <td>GO:0003735///GO:0003735</td>\n",
              "      <td>GO:0000462///GO:0006450///GO:0006450///GO:0006412</td>\n",
              "      <td>GO:0005737///GO:0022627///GO:0005622///GO:0030...</td>\n",
              "    </tr>\n",
              "    <tr>\n",
              "      <th>9208</th>\n",
              "      <td>9209</td>\n",
              "      <td>MSS18</td>\n",
              "      <td>0.494</td>\n",
              "      <td>-0.053</td>\n",
              "      <td>0.155</td>\n",
              "      <td>0.212</td>\n",
              "      <td>-0.020</td>\n",
              "      <td>Mss18p</td>\n",
              "      <td>MSS18</td>\n",
              "      <td>856253</td>\n",
              "      <td>NaN</td>\n",
              "      <td>NaN</td>\n",
              "      <td>NaN</td>\n",
              "      <td>NaN</td>\n",
              "      <td>NaN</td>\n",
              "      <td>NaN</td>\n",
              "      <td>NaN</td>\n",
              "      <td>YPR134W</td>\n",
              "      <td>NaN</td>\n",
              "      <td>NaN</td>\n",
              "      <td>Chromosome XVI, NC_001148.4 (798051..798857)</td>\n",
              "      <td>molecular_function</td>\n",
              "      <td>Group I intron splicing///Group I intron splic...</td>\n",
              "      <td>mitochondrion///mitochondrion///mitochondrion</td>\n",
              "      <td>GO:0003674</td>\n",
              "      <td>GO:0000372///GO:0000372///GO:0008380///GO:0006397</td>\n",
              "      <td>GO:0005739///GO:0005739///GO:0005739</td>\n",
              "    </tr>\n",
              "  </tbody>\n",
              "</table>\n",
              "<p>7352 rows × 27 columns</p>\n",
              "</div>"
            ],
            "text/plain": [
              "     ID_REF  ...                                    GO:Component ID\n",
              "24       25  ...  GO:0005739///GO:0005739///colocalizes_with GO:...\n",
              "25       26  ...                            GO:0005853///GO:0005853\n",
              "26       27  ...  GO:0005618///colocalizes_with GO:0005832///GO:...\n",
              "27       28  ...  GO:0016021///GO:0031307///GO:0016020///GO:0005...\n",
              "28       29  ...  GO:0032865///GO:0032865///GO:0016021///GO:0031...\n",
              "...     ...  ...                                                ...\n",
              "9201   9202  ...  GO:0000329///GO:0016021///GO:0016020///GO:0005...\n",
              "9203   9204  ...  GO:0005737///GO:0005737///GO:0005634///GO:0005634\n",
              "9205   9206  ...  GO:0005737///GO:0016021///GO:0016021///GO:0005...\n",
              "9207   9208  ...  GO:0005737///GO:0022627///GO:0005622///GO:0030...\n",
              "9208   9209  ...               GO:0005739///GO:0005739///GO:0005739\n",
              "\n",
              "[7352 rows x 27 columns]"
            ]
          },
          "metadata": {
            "tags": []
          },
          "execution_count": 47
        }
      ]
    },
    {
      "cell_type": "code",
      "metadata": {
        "id": "tE5WZdy5lmCq",
        "outputId": "10dd7c08-efab-4deb-af4f-37a19fed5779",
        "colab": {
          "base_uri": "https://localhost:8080/",
          "height": 137
        }
      },
      "source": [
        "p4c.load_table_data(GDS112_full, data_key_column='Gene ID')"
      ],
      "execution_count": 48,
      "outputs": [
        {
          "output_type": "stream",
          "text": [
            "/usr/local/lib/python3.6/dist-packages/py4cytoscape/tables.py:408: SettingWithCopyWarning: \n",
            "A value is trying to be set on a copy of a slice from a DataFrame.\n",
            "Try using .loc[row_indexer,col_indexer] = value instead\n",
            "\n",
            "See the caveats in the documentation: https://pandas.pydata.org/pandas-docs/stable/user_guide/indexing.html#returning-a-view-versus-a-copy\n",
            "  data_subset[col] = col_val\n"
          ],
          "name": "stderr"
        },
        {
          "output_type": "execute_result",
          "data": {
            "application/vnd.google.colaboratory.intrinsic+json": {
              "type": "string"
            },
            "text/plain": [
              "'Success: Data loaded in defaultnode table'"
            ]
          },
          "metadata": {
            "tags": []
          },
          "execution_count": 48
        }
      ]
    }
  ]
}