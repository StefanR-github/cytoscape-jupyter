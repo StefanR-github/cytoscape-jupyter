{
  "nbformat": 4,
  "nbformat_minor": 0,
  "metadata": {
    "colab": {
      "name": "Sanity Test.ipynb",
      "provenance": [],
      "collapsed_sections": []
    },
    "kernelspec": {
      "name": "python3",
      "display_name": "Python 3"
    }
  },
  "cells": [
    {
      "cell_type": "markdown",
      "metadata": {
        "id": "UTRBAPm6r-G_"
      },
      "source": [
        "---\n",
        "#Startup: Establish link to Google Drive\n",
        "**You'll be prompted for a credential, and the prompt will have instructions for getting it. Once you enter it, Google Drive files will be available as '/gdrive/My Drive/xxx' where 'xxx is a file name or path with your Google Drive.**\n",
        "\n",
        "Source for this method: https://www.marktechpost.com/2019/06/07/how-to-connect-google-colab-with-google-drive/\n",
        "\n",
        "You can examine the Google Drive on your own by adding this to a cell:\n",
        "\n",
        "!ls \"/gdrive/My Drive/data\"\n",
        "\n",
        "The Google Drive API is documented [here](https://developers.google.com/drive/api/v3/about-sdk).\n",
        "\n",
        "\n"
      ]
    },
    {
      "cell_type": "code",
      "metadata": {
        "id": "Ciy2sfC9r8hR",
        "outputId": "50c045c9-9b31-4725-91fd-3536c7d234db",
        "colab": {
          "base_uri": "https://localhost:8080/",
          "height": 54
        }
      },
      "source": [
        "from google.colab import drive\n",
        "drive.mount('/gdrive')\n",
        "DATA_DIR = '/gdrive/My Drive/data/'\n",
        "OUTPUT_DIR = DATA_DIR + 'output/'\n",
        "print('Successfully mounted Google drive')"
      ],
      "execution_count": 1,
      "outputs": [
        {
          "output_type": "stream",
          "text": [
            "Mounted at /gdrive\n",
            "Successfully mounted Google drive\n"
          ],
          "name": "stdout"
        }
      ]
    },
    {
      "cell_type": "markdown",
      "metadata": {
        "id": "wJ9RYWAF4wF6"
      },
      "source": [
        "---\n",
        "#Startup: Fetch latest py4cytoscape\n",
        "**Note that you can fetch from a specific github branch by adding \"@\\<branch>\" to the \"py4cytocape\" at the end of the github URL.**\n",
        "\n",
        "For example, to get branch 0.0.5: git+https://github.com/cytoscape/py4cytoscape@0.0.5\n",
        "\n"
      ]
    },
    {
      "cell_type": "code",
      "metadata": {
        "id": "pW3Jhe2PMD9z",
        "outputId": "7bc986a4-719e-4fd2-876c-dad2432dad14",
        "colab": {
          "base_uri": "https://localhost:8080/",
          "height": 551
        }
      },
      "source": [
        "!pip uninstall -y py4cytoscape\n",
        "\n",
        "#!pip install py4cytoscape\n",
        "#!pip install git+https://github.com/cytoscape/py4cytoscape@0.0.5\n",
        "!pip install git+https://github.com/cytoscape/py4cytoscape"
      ],
      "execution_count": 2,
      "outputs": [
        {
          "output_type": "stream",
          "text": [
            "\u001b[33mWARNING: Skipping py4cytoscape as it is not installed.\u001b[0m\n",
            "Collecting git+https://github.com/cytoscape/py4cytoscape\n",
            "  Cloning https://github.com/cytoscape/py4cytoscape to /tmp/pip-req-build-1ihhipmp\n",
            "  Running command git clone -q https://github.com/cytoscape/py4cytoscape /tmp/pip-req-build-1ihhipmp\n",
            "Requirement already satisfied: pandas in /usr/local/lib/python3.6/dist-packages (from py4cytoscape==0.0.6) (1.1.2)\n",
            "Requirement already satisfied: networkx in /usr/local/lib/python3.6/dist-packages (from py4cytoscape==0.0.6) (2.5)\n",
            "Requirement already satisfied: requests in /usr/local/lib/python3.6/dist-packages (from py4cytoscape==0.0.6) (2.23.0)\n",
            "Collecting python-igraph\n",
            "\u001b[?25l  Downloading https://files.pythonhosted.org/packages/20/6e/3ac2fc339051f652d4a01570d133e4d15321aaec929ffb5f49a67852f8d9/python_igraph-0.8.3-cp36-cp36m-manylinux2010_x86_64.whl (3.2MB)\n",
            "\u001b[K     |████████████████████████████████| 3.2MB 2.8MB/s \n",
            "\u001b[?25hRequirement already satisfied: python-dateutil>=2.7.3 in /usr/local/lib/python3.6/dist-packages (from pandas->py4cytoscape==0.0.6) (2.8.1)\n",
            "Requirement already satisfied: pytz>=2017.2 in /usr/local/lib/python3.6/dist-packages (from pandas->py4cytoscape==0.0.6) (2018.9)\n",
            "Requirement already satisfied: numpy>=1.15.4 in /usr/local/lib/python3.6/dist-packages (from pandas->py4cytoscape==0.0.6) (1.18.5)\n",
            "Requirement already satisfied: decorator>=4.3.0 in /usr/local/lib/python3.6/dist-packages (from networkx->py4cytoscape==0.0.6) (4.4.2)\n",
            "Requirement already satisfied: idna<3,>=2.5 in /usr/local/lib/python3.6/dist-packages (from requests->py4cytoscape==0.0.6) (2.10)\n",
            "Requirement already satisfied: chardet<4,>=3.0.2 in /usr/local/lib/python3.6/dist-packages (from requests->py4cytoscape==0.0.6) (3.0.4)\n",
            "Requirement already satisfied: certifi>=2017.4.17 in /usr/local/lib/python3.6/dist-packages (from requests->py4cytoscape==0.0.6) (2020.6.20)\n",
            "Requirement already satisfied: urllib3!=1.25.0,!=1.25.1,<1.26,>=1.21.1 in /usr/local/lib/python3.6/dist-packages (from requests->py4cytoscape==0.0.6) (1.24.3)\n",
            "Collecting texttable>=1.6.2\n",
            "  Downloading https://files.pythonhosted.org/packages/06/f5/46201c428aebe0eecfa83df66bf3e6caa29659dbac5a56ddfd83cae0d4a4/texttable-1.6.3-py2.py3-none-any.whl\n",
            "Requirement already satisfied: six>=1.5 in /usr/local/lib/python3.6/dist-packages (from python-dateutil>=2.7.3->pandas->py4cytoscape==0.0.6) (1.15.0)\n",
            "Building wheels for collected packages: py4cytoscape\n",
            "  Building wheel for py4cytoscape (setup.py) ... \u001b[?25l\u001b[?25hdone\n",
            "  Created wheel for py4cytoscape: filename=py4cytoscape-0.0.6-cp36-none-any.whl size=138436 sha256=011622cbcf179c53d1ed259186d4e9d000e91cdea166d486da3f0e6afee11420\n",
            "  Stored in directory: /tmp/pip-ephem-wheel-cache-pdhrrhiv/wheels/06/8f/c8/700e4a3952b6b9731bcd7f8f6bb6c4cf02ebf9633e4af67184\n",
            "Successfully built py4cytoscape\n",
            "Installing collected packages: texttable, python-igraph, py4cytoscape\n",
            "Successfully installed py4cytoscape-0.0.6 python-igraph-0.8.3 texttable-1.6.3\n"
          ],
          "name": "stdout"
        }
      ]
    },
    {
      "cell_type": "markdown",
      "metadata": {
        "id": "q2bNAluIV5ZN"
      },
      "source": [
        "---\n",
        "#Startup: Set up Cytoscape connection\n"
      ]
    },
    {
      "cell_type": "code",
      "metadata": {
        "id": "QPBzaizACq3g"
      },
      "source": [
        "import IPython\n",
        "import py4cytoscape as p4c\n",
        "print(f'Loading Javascript client ... {p4c.get_browser_client_channel()} on {p4c.get_jupyter_bridge_url()}')\n",
        "browser_client_js = p4c.get_browser_client_js()\n",
        "IPython.display.Javascript(browser_client_js) # Start browser client\n"
      ],
      "execution_count": null,
      "outputs": []
    },
    {
      "cell_type": "markdown",
      "metadata": {
        "id": "m5Uv0pTHWmvE"
      },
      "source": [
        "---\n",
        "# Sanity test: Cytoscape version\n"
      ]
    },
    {
      "cell_type": "code",
      "metadata": {
        "id": "sP5J_ey7C_t6"
      },
      "source": [
        "p4c.cytoscape_version_info()\n"
      ],
      "execution_count": null,
      "outputs": []
    },
    {
      "cell_type": "markdown",
      "metadata": {
        "id": "RlKSyX07FVL-"
      },
      "source": [
        "---\n",
        "# Sanity test: Cytoscape's sandbox path\n",
        "\n",
        "**Sandboxing is explained in https://py4cytoscape.readthedocs.io/en/latest/concepts.html#sandboxing**"
      ]
    },
    {
      "cell_type": "code",
      "metadata": {
        "id": "9MecXzJuDIwa"
      },
      "source": [
        "p4c.sandbox_get_file_info('.')"
      ],
      "execution_count": null,
      "outputs": []
    },
    {
      "cell_type": "markdown",
      "metadata": {
        "id": "VkURxElvvhMJ"
      },
      "source": [
        "---\n",
        "#Demo: Load standard Cytoscape sample session\n",
        "\n",
        "assert() checks verify that function result was plausible"
      ]
    },
    {
      "cell_type": "code",
      "metadata": {
        "id": "K8oTSgCEjPqK"
      },
      "source": [
        "assert(p4c.open_session() == {})\n",
        "assert(p4c.get_network_count() == 1)\n",
        "assert(p4c.get_network_name() == 'galFiltered.sif')\n",
        "print('Successfully opened sample session')"
      ],
      "execution_count": null,
      "outputs": []
    },
    {
      "cell_type": "markdown",
      "metadata": {
        "id": "wEPbN8mvvsC7"
      },
      "source": [
        "---\n",
        "# Demo: Download and load my session\n",
        "\n",
        "**This is a big session, so loading it may take a minute to download it to the sandbox and then load it into Cytoscape.**\n",
        "\n",
        "assert() checks verify that function result was plausible"
      ]
    },
    {
      "cell_type": "code",
      "metadata": {
        "id": "AJfe3jMejPaU"
      },
      "source": [
        "p4c.sandbox_send_to(DATA_DIR + 'Affinity Purification.cys')\n",
        "print('Successfully downloaded session ... beginning session load ...')\n",
        "assert(p4c.open_session('Affinity Purification.cys') == {})\n",
        "assert(p4c.get_network_count() == 1)\n",
        "assert(p4c.get_network_name() == 'HIV-human PPI')\n",
        "print('Successfully opened Affinity Purification.cys')"
      ],
      "execution_count": null,
      "outputs": []
    },
    {
      "cell_type": "markdown",
      "metadata": {
        "id": "t5h8R0OUyPRu"
      },
      "source": [
        "---\n",
        "#Demo: Load standard Cytoscape sample network\n",
        "\n",
        "assert() checks verify that function result was plausible"
      ]
    },
    {
      "cell_type": "code",
      "metadata": {
        "id": "EunbbevVybTG"
      },
      "source": [
        "res = p4c.import_network_from_file()\n",
        "assert(type(res['networks']) is list)\n",
        "assert(len(res['networks']) == 1)\n",
        "assert(type(res['views']) is list)\n",
        "assert(len(res['views']) == 1)\n",
        "print('Successfully loaded sample network')"
      ],
      "execution_count": null,
      "outputs": []
    },
    {
      "cell_type": "markdown",
      "metadata": {
        "id": "fU33BgLxx3DC"
      },
      "source": [
        "---\n",
        "#Demo: Download and load my network\n",
        "\n",
        "assert() checks verify that function result was plausible"
      ]
    },
    {
      "cell_type": "code",
      "metadata": {
        "id": "Y6OVe1JMjOtg"
      },
      "source": [
        "p4c.sandbox_send_to(DATA_DIR + 'galFiltered.sif')\n",
        "res = p4c.import_network_from_file('galFiltered.sif')\n",
        "assert(type(res['networks']) is list)\n",
        "assert(len(res['networks']) == 1)\n",
        "assert(type(res['views']) is list)\n",
        "assert(len(res['views']) == 1)\n",
        "print('Successfully loaded network galFiltered.sif')"
      ],
      "execution_count": null,
      "outputs": []
    },
    {
      "cell_type": "markdown",
      "metadata": {
        "id": "FZjMB5Tpyy_L"
      },
      "source": [
        "---\n",
        "#Demo: Save session and upload to Google Drive\n",
        "\n",
        "This is a 44MB file, so it may take a while for Cytoscape to save it, and then another while to upload it.\n",
        "\n",
        "assert() checks verify that function result was plausible"
      ]
    },
    {
      "cell_type": "code",
      "metadata": {
        "id": "cUQb7tMszL4q"
      },
      "source": [
        "res = p4c.save_session('Three network session')\n",
        "assert(type(res) is dict)\n",
        "assert(res == {})\n",
        "print(\"Successfully saved network ... transferring network to Notebook server now ...\")\n",
        "p4c.sandbox_get_from('Three network session.cys', OUTPUT_DIR + 'Three network session.cys')"
      ],
      "execution_count": null,
      "outputs": []
    },
    {
      "cell_type": "markdown",
      "metadata": {
        "id": "9fsxnSpb2w_z"
      },
      "source": [
        "---\n",
        "#Demo: Save network and upload to Google Drive\n",
        "\n",
        "assert() checks verify that function result was plausible"
      ]
    },
    {
      "cell_type": "code",
      "metadata": {
        "id": "Gw2r73u52yPv"
      },
      "source": [
        "p4c.sandbox_remove_file('HIV-human PPI.sif')\n",
        "res = p4c.export_network(filename='HIV-human PPI.sif', network='HIV-human PPI', type='sif')\n",
        "assert(type(res) is dict)\n",
        "assert('file' in res)\n",
        "print('Successfully saved HIV-human PPI')\n",
        "p4c.sandbox_get_from('HIV-human PPI.sif', OUTPUT_DIR + 'HIV-human PPI.sif')"
      ],
      "execution_count": null,
      "outputs": []
    },
    {
      "cell_type": "markdown",
      "metadata": {
        "id": "u5sy5jwG5Yck"
      },
      "source": [
        "---\n",
        "#Demo: Save visual styles and upload to Google Drive\n",
        "\n",
        "assert() checks verify that function result was plausbile"
      ]
    },
    {
      "cell_type": "code",
      "metadata": {
        "id": "bjgRPr3a5ZFj"
      },
      "source": [
        "res = p4c.export_visual_styles()\n",
        "assert(type(res) is dict)\n",
        "assert('file' in res)\n",
        "print('Successfully saved default visual styles file')\n",
        "p4c.sandbox_get_from('styles.xml', OUTPUT_DIR + 'styles.xml')"
      ],
      "execution_count": null,
      "outputs": []
    },
    {
      "cell_type": "markdown",
      "metadata": {
        "id": "xiYtLd6g6g1f"
      },
      "source": [
        "---\n",
        "#Demo: Save visual styles and upload to Google Drive (alternate)\n",
        "\n",
        "assert() checks verify that function result was plausible"
      ]
    },
    {
      "cell_type": "code",
      "metadata": {
        "id": "49jva__x6hH5"
      },
      "source": [
        "res = p4c.export_visual_styles(filename='mystyles', type='json')\n",
        "assert(type(res) is dict)\n",
        "assert('file' in res)\n",
        "print('Successfully saved mystyles.json styles file')\n",
        "p4c.sandbox_get_from('mystyles.json', OUTPUT_DIR + 'mystyles.json')"
      ],
      "execution_count": null,
      "outputs": []
    },
    {
      "cell_type": "markdown",
      "metadata": {
        "id": "qL0nwuh48q7T"
      },
      "source": [
        "---\n",
        "#Demo: Download and load visual styles file\n",
        "\n",
        "assert() checks verify that function result was plausible"
      ]
    },
    {
      "cell_type": "code",
      "metadata": {
        "id": "9laPib-V7_4N"
      },
      "source": [
        "p4c.sandbox_remove_file('styles.xml')\n",
        "p4c.sandbox_send_to(OUTPUT_DIR + 'styles.xml')\n",
        "res = p4c.import_visual_styles()\n",
        "assert(type(res) is list)\n",
        "assert(len(res) == 1)\n",
        "print('Successfully loaded from default styles file: ' + str(res))"
      ],
      "execution_count": null,
      "outputs": []
    },
    {
      "cell_type": "markdown",
      "metadata": {
        "id": "XFKIbTWZ85dS"
      },
      "source": [
        "---\n",
        "#Demo: Download and load visual styles file (alternate)\n",
        "\n",
        "assert() checks verify that function result was plausible"
      ]
    },
    {
      "cell_type": "code",
      "metadata": {
        "id": "9rE8jTrp9FSc"
      },
      "source": [
        "p4c.sandbox_remove_file('custom.xml')\n",
        "p4c.sandbox_send_to(OUTPUT_DIR + 'styles.xml', 'custom.xml')\n",
        "res = p4c.import_visual_styles(filename='custom.xml')\n",
        "assert(type(res) is list)\n",
        "assert(len(res) == 1)\n",
        "print('Successfully loaded from custom styles file: ' + str(res))"
      ],
      "execution_count": null,
      "outputs": []
    },
    {
      "cell_type": "markdown",
      "metadata": {
        "id": "vPTXrstZ9EAM"
      },
      "source": [
        "---\n",
        "#Demo: Export network image and upload to Google Drive\n",
        "\n",
        "assert() checks verify that function result was plausible\n",
        "\n"
      ]
    },
    {
      "cell_type": "code",
      "metadata": {
        "id": "LSQCrKBC-dwI"
      },
      "source": [
        "from IPython.display import Image\n",
        "\n",
        "p4c.sandbox_remove_file('HIV-human PPI.png')\n",
        "res = p4c.export_image('HIV-human PPI')\n",
        "assert(type(res) is dict)\n",
        "assert('file' in res)\n",
        "print('Successfully exported HIV-human PPI network')\n",
        "p4c.sandbox_get_from('HIV-human PPI.png', OUTPUT_DIR + 'HIV-human PPI.png')\n",
        "Image(filename=OUTPUT_DIR + 'HIV-human PPI.png')\n"
      ],
      "execution_count": null,
      "outputs": []
    },
    {
      "cell_type": "markdown",
      "metadata": {
        "id": "KcaX32vj-WoG"
      },
      "source": [
        "---\n",
        "#Demo: Export filters and upload to Google Drive\n",
        "\n",
        "assert() checks verify that function result was plausible"
      ]
    },
    {
      "cell_type": "code",
      "metadata": {
        "id": "_CcaIB1aAvaT"
      },
      "source": [
        "p4c.sandbox_remove_file('filters.json')\n",
        "res = p4c.export_filters()\n",
        "assert(type(res) is list)\n",
        "assert(len(res) == 0)\n",
        "print('Successfully exported filters to filters.json')\n",
        "p4c.sandbox_get_from('filters.json', OUTPUT_DIR + 'filters.json')\n"
      ],
      "execution_count": null,
      "outputs": []
    },
    {
      "cell_type": "markdown",
      "metadata": {
        "id": "mCxPjdOjB4DE"
      },
      "source": [
        "---\n",
        "#Demo: Download and load custom filters\n",
        "\n",
        "Note that these custom filters don't match the network they're loaded into. They won't do much.\n",
        "\n",
        "assert() checks verify that function result was plausible"
      ]
    },
    {
      "cell_type": "code",
      "metadata": {
        "id": "LKnXZw1LCC1g"
      },
      "source": [
        "p4c.sandbox_remove_file('All Predicates.filter')\n",
        "p4c.sandbox_send_to(DATA_DIR + 'All Predicates.filter')\n",
        "res = p4c.import_filters(filename='All Predicates.filter')\n",
        "assert(type(res) is list)\n",
        "assert(len(res) == 0)\n",
        "print('Successfully loaded from custom filters file')"
      ],
      "execution_count": null,
      "outputs": []
    },
    {
      "cell_type": "markdown",
      "metadata": {
        "id": "rN1tjHjS5iRN"
      },
      "source": [
        "#App: Create networks, calculate clusters, and show subnetworks"
      ]
    },
    {
      "cell_type": "markdown",
      "metadata": {
        "id": "j_z9-pM26Akv"
      },
      "source": [
        "---\n",
        "##App Part 1: Load sample session and calculate edges\n",
        "**Note that this uses the Cytoscape session already loaded into the Cytoscape sandbox by default.**\n",
        "\n",
        "The output will be a dataframe that shows the network's edges."
      ]
    },
    {
      "cell_type": "code",
      "metadata": {
        "id": "mnWNVSTvz-a-"
      },
      "source": [
        " import uuid\n",
        " import re\n",
        " import pandas as df\n",
        " import time\n",
        "\n",
        "\n",
        " p4c.open_session('sampleData/sessions/Affinity Purification.cys')\n",
        " edges = p4c.get_all_edges()\n",
        " sources = [re.match('(\\S*) \\(.*\\) (\\S*)', edge).group(1)   for edge in edges]\n",
        " targets = [re.match('(\\S*) \\(.*\\) (\\S*)', edge).group(2)   for edge in edges]\n",
        " edge_data = {'source': sources, 'target': targets}\n",
        "\n",
        " edges_frame = df.DataFrame(data=edge_data, columns=['source', 'target'])\n",
        " edges_frame"
      ],
      "execution_count": null,
      "outputs": []
    },
    {
      "cell_type": "markdown",
      "metadata": {
        "id": "jtDhFseT6KX9"
      },
      "source": [
        "---\n",
        "##App Part 2: Create a fresh network out of just the edges\n",
        "\n",
        "The time reported should be less than 30s."
      ]
    },
    {
      "cell_type": "code",
      "metadata": {
        "id": "1EtRbUlt0BOA"
      },
      "source": [
        "network_name = uuid.uuid4().hex\n",
        "start_create = time.monotonic()\n",
        "network_suid = p4c.networks.create_network_from_data_frames(edges=edges_frame, title=network_name, collection=network_name + '_collection')\n",
        "print(f'create took {(time.monotonic() - start_create):10.2f} seconds')"
      ],
      "execution_count": null,
      "outputs": []
    },
    {
      "cell_type": "markdown",
      "metadata": {
        "id": "xH_fhejK7C-I"
      },
      "source": [
        "---\n",
        "## App Part 3: Call MCODE to calculate clusters\n",
        "\n",
        "**Note that py4cytoscape doesn't have a function that calls MCODE. Instead, we use the commands_post technique documented here: https://py4cytoscape.readthedocs.io/en/latest/concepts.html#calling-cytoscape-apps**\n",
        "\n",
        "The output is a list of clusters that have more than 3 nodes.\n",
        "\n",
        "Note that you must have MCODE app installed in Cytoscape for this to work."
      ]
    },
    {
      "cell_type": "code",
      "metadata": {
        "id": "MftmGjyj3BEL"
      },
      "source": [
        "start_mcode = time.monotonic()\n",
        "mcode = p4c.commands.commands_post('mcode cluster degreeCutoff=2 fluff=false fluffNodeDensityCutoff=0.1 haircut=true includeLoops=false kCore=2 maxDepthFromStart=100 network=current nodeScoreCutoff=0.2 scope=NETWORK')\n",
        "print(f'mcode took {(time.monotonic() - start_mcode):10.2f} seconds')\n",
        "\n",
        "big_clusters = [i for i in range(len(mcode['clusters'])) if len(mcode['clusters'][i]['nodes']) > 3]\n",
        "big_clusters"
      ],
      "execution_count": null,
      "outputs": []
    },
    {
      "cell_type": "markdown",
      "metadata": {
        "id": "90otDWxv9vTL"
      },
      "source": [
        "---\n",
        "## App Part 4: Image each cluster and upload to Google Drive\n",
        "\n",
        "**At the end of this cell, all .png images are displayed.**\n",
        "\n",
        "Because the .png is created in the Cytoscape sandbox, it must be uploaded to this Notebook's file system before it can be viewed.\n",
        "\n",
        "There is a call to get_table_columns() that is never used, but it sure takes a while. It's here just to show that Cytoscape can be called for a long operation."
      ]
    },
    {
      "cell_type": "code",
      "metadata": {
        "id": "TLUZU9kx0HSp"
      },
      "source": [
        "from IPython.display import Image, display\n",
        "import os\n",
        "\n",
        "if not os.path.exists('data'):  os.mkdir('data') # Prepare for .png files\n",
        "\n",
        "clusters = []\n",
        "list_of_images = []\n",
        "for i in range(len(big_clusters)):\n",
        "    start_view = time.monotonic()\n",
        "    view_id = p4c.commands.commands_post('mcode view id=1 rank=' + str(i+1))\n",
        "    print(f'{i} view took {(time.monotonic() - start_view):10.2f} seconds')\n",
        "\n",
        "    start_append = time.monotonic()\n",
        "    # Just for fun, show how to get a dataframe that is manipulated in Python. \n",
        "    clusters.append( p4c.tables.get_table_columns()\n",
        "                      .drop(columns=['id','name','selected','MCODE::Clusters','SUID'])\n",
        "                      .sort_values(by=['MCODE::Score'], ascending=False)\n",
        "                      .reset_index(drop=True) )\n",
        "    print(f'{i} append took {(time.monotonic() - start_append):10.2f} seconds')\n",
        "\n",
        "    img_name = uuid.uuid4().hex\n",
        "    start_export = time.monotonic()\n",
        "    p4c.export_image(f'{img_name}')\n",
        "    p4c.sandbox_get_from(f'{img_name}.png', f'{OUTPUT_DIR}{img_name}.png')\n",
        "    p4c.sandbox_remove_file(f'{img_name}.png')\n",
        "    print(f'{i} export took {(time.monotonic() - start_export):10.2f} seconds')\n",
        "    list_of_images.append(f'{OUTPUT_DIR}{img_name}.png')\n",
        "    \n",
        "# Show all of the clusters\n",
        "for image_name in list_of_images:\n",
        "    display(Image(filename=image_name))"
      ],
      "execution_count": null,
      "outputs": []
    }
  ]
}